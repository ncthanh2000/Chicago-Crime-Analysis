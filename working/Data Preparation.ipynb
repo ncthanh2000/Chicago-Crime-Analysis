{
 "cells": [
  {
   "cell_type": "code",
   "execution_count": 24,
   "metadata": {},
   "outputs": [],
   "source": [
    "from datetime import datetime\n",
    "import numpy as np\n",
    "import pandas as pd\n",
    "from sklearn.preprocessing import OneHotEncoder, KBinsDiscretizer, OrdinalEncoder\n",
    "from sklearn.feature_extraction.text import CountVectorizer\n",
    "from sklearn.model_selection import train_test_split\n",
    "from sklearn.linear_model import LogisticRegression\n",
    "from sklearn.svm import SVC\n",
    "from sklearn.neighbors import KNeighborsClassifier\n",
    "from sklearn.neural_network import MLPClassifier\n",
    "from sklearn.naive_bayes import MultinomialNB\n",
    "from sklearn.metrics import roc_auc_score, confusion_matrix\n",
    "from matplotlib import pyplot as plt\n",
    "import seaborn as sns\n",
    "plt.style.use('seaborn')\n",
    "%matplotlib inline"
   ]
  },
  {
   "cell_type": "code",
   "execution_count": 2,
   "metadata": {
    "scrolled": true
   },
   "outputs": [
    {
     "name": "stderr",
     "output_type": "stream",
     "text": [
      "/home/jarred/dev/comp257/portfolio-2019-jarredr/env/lib/python3.7/site-packages/IPython/core/interactiveshell.py:3058: DtypeWarning: Columns (9,10) have mixed types. Specify dtype option on import or set low_memory=False.\n",
      "  interactivity=interactivity, compiler=compiler, result=result)\n"
     ]
    }
   ],
   "source": [
    "df = pd.read_csv('data/Chicago_Merged.csv')\n",
    "df = df.dropna()"
   ]
  },
  {
   "cell_type": "code",
   "execution_count": 3,
   "metadata": {},
   "outputs": [
    {
     "data": {
      "text/html": [
       "<div>\n",
       "<style scoped>\n",
       "    .dataframe tbody tr th:only-of-type {\n",
       "        vertical-align: middle;\n",
       "    }\n",
       "\n",
       "    .dataframe tbody tr th {\n",
       "        vertical-align: top;\n",
       "    }\n",
       "\n",
       "    .dataframe thead th {\n",
       "        text-align: right;\n",
       "    }\n",
       "</style>\n",
       "<table border=\"1\" class=\"dataframe\">\n",
       "  <thead>\n",
       "    <tr style=\"text-align: right;\">\n",
       "      <th></th>\n",
       "      <th>Unnamed: 0</th>\n",
       "      <th>ID</th>\n",
       "      <th>Case Number</th>\n",
       "      <th>Date</th>\n",
       "      <th>Block</th>\n",
       "      <th>IUCR</th>\n",
       "      <th>Primary Type</th>\n",
       "      <th>Description</th>\n",
       "      <th>Location Description</th>\n",
       "      <th>Arrest</th>\n",
       "      <th>...</th>\n",
       "      <th>Police Districts</th>\n",
       "      <th>Police Beats</th>\n",
       "      <th>COMMUNITY AREA NAME</th>\n",
       "      <th>PERCENT OF HOUSING CROWDED</th>\n",
       "      <th>PERCENT HOUSEHOLDS BELOW POVERTY</th>\n",
       "      <th>PERCENT AGED 16+ UNEMPLOYED</th>\n",
       "      <th>PERCENT AGED 25+ WITHOUT HIGH SCHOOL DIPLOMA</th>\n",
       "      <th>PERCENT AGED UNDER 18 OR OVER 64</th>\n",
       "      <th>PER CAPITA INCOME</th>\n",
       "      <th>HARDSHIP INDEX</th>\n",
       "    </tr>\n",
       "  </thead>\n",
       "  <tbody>\n",
       "    <tr>\n",
       "      <th>0</th>\n",
       "      <td>0</td>\n",
       "      <td>10778514.0</td>\n",
       "      <td>HZ544820</td>\n",
       "      <td>2016-12-08 17:23:00</td>\n",
       "      <td>079XX S MAY ST</td>\n",
       "      <td>0820</td>\n",
       "      <td>THEFT</td>\n",
       "      <td>$500 AND UNDER</td>\n",
       "      <td>APARTMENT</td>\n",
       "      <td>False</td>\n",
       "      <td>...</td>\n",
       "      <td>20.0</td>\n",
       "      <td>230.0</td>\n",
       "      <td>Auburn Gresham</td>\n",
       "      <td>4.0</td>\n",
       "      <td>27.6</td>\n",
       "      <td>28.3</td>\n",
       "      <td>18.5</td>\n",
       "      <td>41.9</td>\n",
       "      <td>15528.0</td>\n",
       "      <td>74.0</td>\n",
       "    </tr>\n",
       "    <tr>\n",
       "      <th>1</th>\n",
       "      <td>1</td>\n",
       "      <td>11411914.0</td>\n",
       "      <td>JB390837</td>\n",
       "      <td>2018-08-12 22:00:00</td>\n",
       "      <td>013XX W 76TH ST</td>\n",
       "      <td>0560</td>\n",
       "      <td>ASSAULT</td>\n",
       "      <td>SIMPLE</td>\n",
       "      <td>APARTMENT</td>\n",
       "      <td>False</td>\n",
       "      <td>...</td>\n",
       "      <td>20.0</td>\n",
       "      <td>230.0</td>\n",
       "      <td>Auburn Gresham</td>\n",
       "      <td>4.0</td>\n",
       "      <td>27.6</td>\n",
       "      <td>28.3</td>\n",
       "      <td>18.5</td>\n",
       "      <td>41.9</td>\n",
       "      <td>15528.0</td>\n",
       "      <td>74.0</td>\n",
       "    </tr>\n",
       "    <tr>\n",
       "      <th>2</th>\n",
       "      <td>2</td>\n",
       "      <td>11510038.0</td>\n",
       "      <td>JB519570</td>\n",
       "      <td>2018-11-17 14:49:00</td>\n",
       "      <td>079XX S BISHOP ST</td>\n",
       "      <td>502P</td>\n",
       "      <td>OTHER OFFENSE</td>\n",
       "      <td>FALSE/STOLEN/ALTERED TRP</td>\n",
       "      <td>STREET</td>\n",
       "      <td>False</td>\n",
       "      <td>...</td>\n",
       "      <td>20.0</td>\n",
       "      <td>230.0</td>\n",
       "      <td>Auburn Gresham</td>\n",
       "      <td>4.0</td>\n",
       "      <td>27.6</td>\n",
       "      <td>28.3</td>\n",
       "      <td>18.5</td>\n",
       "      <td>41.9</td>\n",
       "      <td>15528.0</td>\n",
       "      <td>74.0</td>\n",
       "    </tr>\n",
       "    <tr>\n",
       "      <th>3</th>\n",
       "      <td>3</td>\n",
       "      <td>11495832.0</td>\n",
       "      <td>JB500163</td>\n",
       "      <td>2018-11-02 08:20:00</td>\n",
       "      <td>083XX S HALSTED ST</td>\n",
       "      <td>0484</td>\n",
       "      <td>BATTERY</td>\n",
       "      <td>PRO EMP HANDS NO/MIN INJURY</td>\n",
       "      <td>STREET</td>\n",
       "      <td>False</td>\n",
       "      <td>...</td>\n",
       "      <td>20.0</td>\n",
       "      <td>236.0</td>\n",
       "      <td>Auburn Gresham</td>\n",
       "      <td>4.0</td>\n",
       "      <td>27.6</td>\n",
       "      <td>28.3</td>\n",
       "      <td>18.5</td>\n",
       "      <td>41.9</td>\n",
       "      <td>15528.0</td>\n",
       "      <td>74.0</td>\n",
       "    </tr>\n",
       "    <tr>\n",
       "      <th>4</th>\n",
       "      <td>4</td>\n",
       "      <td>11501552.0</td>\n",
       "      <td>JB508324</td>\n",
       "      <td>2018-11-08 11:00:00</td>\n",
       "      <td>087XX S RACINE AVE</td>\n",
       "      <td>0810</td>\n",
       "      <td>THEFT</td>\n",
       "      <td>OVER $500</td>\n",
       "      <td>SIDEWALK</td>\n",
       "      <td>False</td>\n",
       "      <td>...</td>\n",
       "      <td>9.0</td>\n",
       "      <td>244.0</td>\n",
       "      <td>Auburn Gresham</td>\n",
       "      <td>4.0</td>\n",
       "      <td>27.6</td>\n",
       "      <td>28.3</td>\n",
       "      <td>18.5</td>\n",
       "      <td>41.9</td>\n",
       "      <td>15528.0</td>\n",
       "      <td>74.0</td>\n",
       "    </tr>\n",
       "  </tbody>\n",
       "</table>\n",
       "<p>5 rows × 39 columns</p>\n",
       "</div>"
      ],
      "text/plain": [
       "   Unnamed: 0          ID Case Number                 Date  \\\n",
       "0           0  10778514.0    HZ544820  2016-12-08 17:23:00   \n",
       "1           1  11411914.0    JB390837  2018-08-12 22:00:00   \n",
       "2           2  11510038.0    JB519570  2018-11-17 14:49:00   \n",
       "3           3  11495832.0    JB500163  2018-11-02 08:20:00   \n",
       "4           4  11501552.0    JB508324  2018-11-08 11:00:00   \n",
       "\n",
       "                Block  IUCR   Primary Type                  Description  \\\n",
       "0      079XX S MAY ST  0820          THEFT               $500 AND UNDER   \n",
       "1     013XX W 76TH ST  0560        ASSAULT                       SIMPLE   \n",
       "2   079XX S BISHOP ST  502P  OTHER OFFENSE     FALSE/STOLEN/ALTERED TRP   \n",
       "3  083XX S HALSTED ST  0484        BATTERY  PRO EMP HANDS NO/MIN INJURY   \n",
       "4  087XX S RACINE AVE  0810          THEFT                    OVER $500   \n",
       "\n",
       "  Location Description Arrest  ... Police Districts  Police Beats  \\\n",
       "0            APARTMENT  False  ...             20.0         230.0   \n",
       "1            APARTMENT  False  ...             20.0         230.0   \n",
       "2               STREET  False  ...             20.0         230.0   \n",
       "3               STREET  False  ...             20.0         236.0   \n",
       "4             SIDEWALK  False  ...              9.0         244.0   \n",
       "\n",
       "   COMMUNITY AREA NAME  PERCENT OF HOUSING CROWDED  \\\n",
       "0       Auburn Gresham                         4.0   \n",
       "1       Auburn Gresham                         4.0   \n",
       "2       Auburn Gresham                         4.0   \n",
       "3       Auburn Gresham                         4.0   \n",
       "4       Auburn Gresham                         4.0   \n",
       "\n",
       "   PERCENT HOUSEHOLDS BELOW POVERTY PERCENT AGED 16+ UNEMPLOYED  \\\n",
       "0                              27.6                        28.3   \n",
       "1                              27.6                        28.3   \n",
       "2                              27.6                        28.3   \n",
       "3                              27.6                        28.3   \n",
       "4                              27.6                        28.3   \n",
       "\n",
       "   PERCENT AGED 25+ WITHOUT HIGH SCHOOL DIPLOMA  \\\n",
       "0                                          18.5   \n",
       "1                                          18.5   \n",
       "2                                          18.5   \n",
       "3                                          18.5   \n",
       "4                                          18.5   \n",
       "\n",
       "   PERCENT AGED UNDER 18 OR OVER 64  PER CAPITA INCOME  HARDSHIP INDEX  \n",
       "0                              41.9             15528.0           74.0  \n",
       "1                              41.9             15528.0           74.0  \n",
       "2                              41.9             15528.0           74.0  \n",
       "3                              41.9             15528.0           74.0  \n",
       "4                              41.9             15528.0           74.0  \n",
       "\n",
       "[5 rows x 39 columns]"
      ]
     },
     "execution_count": 3,
     "metadata": {},
     "output_type": "execute_result"
    }
   ],
   "source": [
    "df.head()"
   ]
  },
  {
   "cell_type": "markdown",
   "metadata": {},
   "source": [
    "### Crime Definitions:\n",
    " * **THEFT**: Steal something which belongs to someone else.\n",
    " * **BATTERY**: Cause physical harm to another person.\n",
    " * **CRIMINAL**: Destroying or damaging property.\n",
    " * **ASSAULT**: Threaten physical harm to another person.\n",
    " * **DECEPTIVE PRACTICE**: Attempt to deceive or defraud a person or business. \n",
    " * **BURGLARY**: Breaking into someone's house with the intent of stealing.\n",
    " * **ROBBERY**: Stealing from someone with threats of violence (e.g. mugging)."
   ]
  },
  {
   "cell_type": "code",
   "execution_count": 3,
   "metadata": {},
   "outputs": [
    {
     "data": {
      "text/plain": [
       "THEFT                                5627\n",
       "BATTERY                              4567\n",
       "CRIMINAL DAMAGE                      2609\n",
       "ASSAULT                              1839\n",
       "OTHER OFFENSE                        1562\n",
       "DECEPTIVE PRACTICE                   1460\n",
       "NARCOTICS                            1380\n",
       "BURGLARY                             1096\n",
       "MOTOR VEHICLE THEFT                  1015\n",
       "ROBBERY                               969\n",
       "CRIMINAL TRESPASS                     607\n",
       "WEAPONS VIOLATION                     412\n",
       "OFFENSE INVOLVING CHILDREN            195\n",
       "PUBLIC PEACE VIOLATION                167\n",
       "CRIM SEXUAL ASSAULT                   145\n",
       "INTERFERENCE WITH PUBLIC OFFICER      117\n",
       "SEX OFFENSE                           105\n",
       "PROSTITUTION                           75\n",
       "HOMICIDE                               43\n",
       "ARSON                                  28\n",
       "LIQUOR LAW VIOLATION                   21\n",
       "GAMBLING                               20\n",
       "KIDNAPPING                             20\n",
       "STALKING                               15\n",
       "CONCEALED CARRY LICENSE VIOLATION      13\n",
       "INTIMIDATION                           12\n",
       "OBSCENITY                               4\n",
       "NON-CRIMINAL                            3\n",
       "HUMAN TRAFFICKING                       1\n",
       "Name: Primary Type, dtype: int64"
      ]
     },
     "execution_count": 3,
     "metadata": {},
     "output_type": "execute_result"
    }
   ],
   "source": [
    "df['Primary Type'].value_counts()"
   ]
  },
  {
   "cell_type": "markdown",
   "metadata": {},
   "source": [
    "### Violent Crimes\n",
    "* **BATTERY**\n",
    "* **ASSAULT**\n",
    "* **ROBBERY**\n",
    "* **CRIMINAL SEXUAL ASSAULT**\n",
    "* **KIDNAPPING**\n",
    "* **HOMICIDE**\n",
    "* **ARSON**"
   ]
  },
  {
   "cell_type": "code",
   "execution_count": 3,
   "metadata": {},
   "outputs": [],
   "source": [
    "violent_crime = df[df['Primary Type'].isin(\n",
    "    ['BATTERY', 'ASSAULT', 'ROBBERY', 'CRIM SEXUAL ASSAULT', 'HOMICIDE', 'KIDNAPPING', 'ARSON'])]\n",
    "nonviolent_crime = df[~df['Primary Type'].isin(\n",
    "    ['BATTERY', 'ASSAULT', 'ROBBERY', 'CRIM SEXUAL ASSAULT', 'HOMICIDE', 'KIDNAPPING', 'ARSON'])]"
   ]
  },
  {
   "cell_type": "markdown",
   "metadata": {},
   "source": [
    "**The following function  helps us to determine the location of crime(including residential and non residential areas) and based on which we can analyse that in which location crime occurs frequently.**"
   ]
  },
  {
   "cell_type": "code",
   "execution_count": 8,
   "metadata": {},
   "outputs": [],
   "source": [
    "def crime_locations(data, description):\n",
    "    names = data.value_counts().keys().tolist()\n",
    "    counts = data.value_counts().tolist()\n",
    "    total = len(data)\n",
    "    print(description)\n",
    "    for i in range(5):\n",
    "        percentage = (counts[i] / total) * 100\n",
    "        print('{}: {}%'.format(names[i], int(round(percentage, 0))))\n",
    "    print()"
   ]
  },
  {
   "cell_type": "code",
   "execution_count": 9,
   "metadata": {},
   "outputs": [
    {
     "name": "stdout",
     "output_type": "stream",
     "text": [
      "Top 5 locations of crime by percentage of crime which occured there\n",
      "All Crime\n",
      "STREET: 23%\n",
      "RESIDENCE: 16%\n",
      "APARTMENT: 13%\n",
      "SIDEWALK: 9%\n",
      "OTHER: 4%\n",
      "\n",
      "Violent Crime\n",
      "APARTMENT: 20%\n",
      "STREET: 17%\n",
      "RESIDENCE: 16%\n",
      "SIDEWALK: 15%\n",
      "ALLEY: 3%\n",
      "\n",
      "Nonviolent Crime\n",
      "STREET: 26%\n",
      "RESIDENCE: 16%\n",
      "APARTMENT: 10%\n",
      "SIDEWALK: 6%\n",
      "OTHER: 5%\n",
      "\n"
     ]
    }
   ],
   "source": [
    "print('Top 5 locations of crime by percentage of crime which occured there')\n",
    "crime_locations(df['Location Description'], 'All Crime')\n",
    "crime_locations(violent_crime['Location Description'], 'Violent Crime')\n",
    "crime_locations(nonviolent_crime['Location Description'], 'Nonviolent Crime')"
   ]
  },
  {
   "cell_type": "markdown",
   "metadata": {},
   "source": [
    "### INFERENCES:\n",
    "**VIOLENT CRIME**: As seen in the above result, the percentage of violent crime is highest in the apartment which is 20%. The main reason could be that apartments might be more approachable for a criminal to break in and perform theft, sexual assault,etc.\n",
    "\n",
    "**NON VIOLENT CRIME**: Crime such as kidnapping or battery are most commonly seen on streets (26%). The reason behind this is that most criminals may tend to kidnap people on some isolated streets."
   ]
  },
  {
   "cell_type": "code",
   "execution_count": 10,
   "metadata": {},
   "outputs": [
    {
     "data": {
      "text/plain": [
       "STREET                                             5588\n",
       "RESIDENCE                                          3858\n",
       "APARTMENT                                          3142\n",
       "SIDEWALK                                           2088\n",
       "OTHER                                               932\n",
       "PARKING LOT/GARAGE(NON.RESID.)                      716\n",
       "SMALL RETAIL STORE                                  590\n",
       "RESTAURANT                                          584\n",
       "RESIDENTIAL YARD (FRONT/BACK)                       463\n",
       "ALLEY                                               454\n",
       "VEHICLE NON-COMMERCIAL                              440\n",
       "RESIDENCE PORCH/HALLWAY                             436\n",
       "DEPARTMENT STORE                                    408\n",
       "RESIDENCE-GARAGE                                    399\n",
       "SCHOOL, PUBLIC, BUILDING                            336\n",
       "GAS STATION                                         331\n",
       "GROCERY FOOD STORE                                  267\n",
       "PARK PROPERTY                                       190\n",
       "BAR OR TAVERN                                       183\n",
       "CONVENIENCE STORE                                   159\n",
       "COMMERCIAL / BUSINESS OFFICE                        147\n",
       "HOTEL/MOTEL                                         132\n",
       "CTA TRAIN                                           132\n",
       "HOSPITAL BUILDING/GROUNDS                           124\n",
       "CTA BUS                                             100\n",
       "VACANT LOT/LAND                                      98\n",
       "DRUG STORE                                           95\n",
       "SCHOOL, PUBLIC, GROUNDS                              94\n",
       "NURSING HOME/RETIREMENT HOME                         88\n",
       "CTA STATION                                          85\n",
       "                                                   ... \n",
       "ANIMAL HOSPITAL                                       6\n",
       "AIRPORT VENDING ESTABLISHMENT                         6\n",
       "APPLIANCE STORE                                       6\n",
       "VEHICLE - OTHER RIDE SERVICE                          6\n",
       "PAWN SHOP                                             6\n",
       "CAR WASH                                              5\n",
       "AIRPORT BUILDING NON-TERMINAL - NON-SECURE AREA       5\n",
       "AUTO                                                  5\n",
       "HIGHWAY/EXPRESSWAY                                    5\n",
       "LAKEFRONT/WATERFRONT/RIVERBANK                        5\n",
       "VEHICLE - DELIVERY TRUCK                              4\n",
       "POOL ROOM                                             4\n",
       "BRIDGE                                                4\n",
       "AIRPORT/AIRCRAFT                                      4\n",
       "AIRPORT EXTERIOR - SECURE AREA                        4\n",
       "NEWSSTAND                                             3\n",
       "BOWLING ALLEY                                         3\n",
       "BOAT/WATERCRAFT                                       3\n",
       "COLLEGE/UNIVERSITY RESIDENCE HALL                     3\n",
       "COIN OPERATED MACHINE                                 3\n",
       "PORCH                                                 3\n",
       "CEMETARY                                              2\n",
       "FEDERAL BUILDING                                      2\n",
       "FIRE STATION                                          2\n",
       "YARD                                                  2\n",
       "HOUSE                                                 2\n",
       "FOREST PRESERVE                                       1\n",
       "PARKING LOT                                           1\n",
       "OFFICE                                                1\n",
       "AIRPORT TRANSPORTATION SYSTEM (ATS)                   1\n",
       "Name: Location Description, Length: 105, dtype: int64"
      ]
     },
     "execution_count": 10,
     "metadata": {},
     "output_type": "execute_result"
    }
   ],
   "source": [
    "df['Location Description'].value_counts()"
   ]
  },
  {
   "cell_type": "markdown",
   "metadata": {},
   "source": [
    "**The following function  helps us to determine the percentage of arrest that took place due to violent and non violent crime.**"
   ]
  },
  {
   "cell_type": "code",
   "execution_count": 11,
   "metadata": {},
   "outputs": [],
   "source": [
    "def arrest_percent(data, description):\n",
    "    counts = data.value_counts().tolist()\n",
    "    total = counts[0] + counts[1]\n",
    "    false_percent = (counts[0] / total) * 100\n",
    "    true_percent = (counts[1] / total) * 100\n",
    "    print('{}\\nNo arrest made: {}%\\nArrest made: {}%\\n'.format(description, int(round(false_percent, 0)), int(round(true_percent, 0))))"
   ]
  },
  {
   "cell_type": "code",
   "execution_count": 12,
   "metadata": {},
   "outputs": [
    {
     "name": "stdout",
     "output_type": "stream",
     "text": [
      "Crime arrest statistics\n",
      "\n",
      "All Crime\n",
      "No arrest made: 79%\n",
      "Arrest made: 21%\n",
      "\n",
      "Violent Crime\n",
      "No arrest made: 81%\n",
      "Arrest made: 19%\n",
      "\n",
      "Nonviolent Crime\n",
      "No arrest made: 78%\n",
      "Arrest made: 22%\n",
      "\n"
     ]
    }
   ],
   "source": [
    "print('Crime arrest statistics\\n')\n",
    "arrest_percent(df['Arrest'], 'All Crime')\n",
    "arrest_percent(violent_crime['Arrest'], 'Violent Crime')\n",
    "arrest_percent(nonviolent_crime['Arrest'], 'Nonviolent Crime')"
   ]
  },
  {
   "cell_type": "markdown",
   "metadata": {},
   "source": [
    "### INFERENCES:\n",
    "A very small percentage of arrest in all the three categories can be noticed above. Though all the values for arrest rates are low but rate for non violent crime is higher than violent crime. \n",
    "Although, the police and government should be strict in arresting criminals for all types of crimes but looking at a low arrest rate of violent crime is non satisfactory. This may be due to ignorance of so many crimes occuring,lack of security, higher rate of crimes which cannot be handled by the police.\n",
    "\n"
   ]
  },
  {
   "cell_type": "markdown",
   "metadata": {},
   "source": [
    "**The following function  helps us to determine the percentage of crime distribution in top five community areas(Austin,Near North Side,Loop,Near West Side, North Lawndale).**"
   ]
  },
  {
   "cell_type": "code",
   "execution_count": 14,
   "metadata": {},
   "outputs": [],
   "source": [
    "def distribution(data, description):\n",
    "    names = data.value_counts().keys().tolist()\n",
    "    counts = data.value_counts().tolist()\n",
    "    total = len(data)\n",
    "    print(description)\n",
    "    for i in range(5):\n",
    "        print('{}: {}'.format(names[i], counts[i]))\n",
    "    print()"
   ]
  },
  {
   "cell_type": "code",
   "execution_count": 15,
   "metadata": {},
   "outputs": [
    {
     "name": "stdout",
     "output_type": "stream",
     "text": [
      "Top 5 community areas for crime\n",
      "\n",
      "All Crime\n",
      "Austin: 1409\n",
      "Near North Side: 1020\n",
      "Loop: 907\n",
      "Near West Side: 804\n",
      "North Lawndale: 791\n",
      "\n",
      "Violent Crime\n",
      "Austin: 543\n",
      "South Shore: 327\n",
      "North Lawndale: 267\n",
      "Auburn Gresham: 258\n",
      "Humboldt park: 253\n",
      "\n",
      "Nonviolent Crime\n",
      "Austin: 866\n",
      "Near North Side: 806\n",
      "Loop: 758\n",
      "Near West Side: 602\n",
      "West Town: 545\n",
      "\n"
     ]
    }
   ],
   "source": [
    "print('Top 5 community areas for crime\\n')\n",
    "distribution(df['COMMUNITY AREA NAME'], 'All Crime')\n",
    "distribution(violent_crime['COMMUNITY AREA NAME'], 'Violent Crime')\n",
    "distribution(nonviolent_crime['COMMUNITY AREA NAME'], 'Nonviolent Crime')"
   ]
  },
  {
   "cell_type": "markdown",
   "metadata": {},
   "source": [
    "### INFERENCES:\n",
    "Maximum number of crimes occur in Austin followed by Near North Side, Loop, Near West Side, North Lawndale. This may be due to the absence of police stations, isolated areas, unemployment, poverty which in some cases may lead to attempt in crime like robbery, theft, assault and other crimes. "
   ]
  },
  {
   "cell_type": "markdown",
   "metadata": {},
   "source": [
    "## DATA PRE-PROCESSING"
   ]
  },
  {
   "cell_type": "markdown",
   "metadata": {},
   "source": [
    "\n",
    "\n",
    "\n",
    "***One-hot Encoding*** : One hot encoding is a process of converting categorical variables into a form that is provided to machine learning algorithm to do a easier job. \n",
    "In this project, we are using one-hot encoder to convert following features:\n",
    "* *Location Description*: The describes about location of crime.\n",
    "* *Community Area* : Name of the community are where crime occurred.\n",
    "* *Primary Type* : The type of crime committed."
   ]
  },
  {
   "cell_type": "code",
   "execution_count": 4,
   "metadata": {},
   "outputs": [
    {
     "name": "stdout",
     "output_type": "stream",
     "text": [
      "[0. 0. 0. 0. 0. 0. 0. 0. 0. 0. 0. 0. 0. 0. 0. 0. 1. 0. 0. 0. 0. 0. 0. 0.\n",
      " 0. 0. 0. 0. 0. 0. 0. 0. 0. 0. 0. 0. 0. 0. 0. 0. 0. 0. 0. 0. 0. 0. 0. 0.\n",
      " 0. 0. 0. 0. 0. 0. 0. 0. 0. 0. 0. 0. 0. 0. 0. 0. 0. 0. 0. 0. 0. 0. 0. 0.\n",
      " 0. 0. 0. 0. 0. 0. 0. 0. 0. 0. 0. 0. 0. 0. 0. 0. 0. 0. 0. 0. 0. 0. 0. 0.\n",
      " 0. 0. 0. 0. 0. 0. 0. 0. 0.]\n"
     ]
    }
   ],
   "source": [
    "oh_enc = OneHotEncoder(sparse=False)\n",
    "location_description_enc = oh_enc.fit_transform(df['Location Description'].values.reshape(-1, 1))\n",
    "print(location_description_enc[0])"
   ]
  },
  {
   "cell_type": "code",
   "execution_count": 5,
   "metadata": {},
   "outputs": [
    {
     "name": "stdout",
     "output_type": "stream",
     "text": [
      "[0. 0. 0. 0. 1. 0. 0. 0. 0. 0. 0. 0. 0. 0. 0. 0. 0. 0. 0. 0. 0. 0. 0. 0.\n",
      " 0. 0. 0. 0. 0. 0. 0. 0. 0. 0. 0. 0. 0. 0. 0. 0. 0. 0. 0. 0. 0. 0. 0. 0.\n",
      " 0. 0. 0. 0. 0. 0. 0. 0. 0. 0. 0. 0. 0. 0. 0. 0. 0. 0. 0. 0. 0. 0. 0. 0.\n",
      " 0. 0. 0. 0. 0.]\n"
     ]
    }
   ],
   "source": [
    "oh_enc = OneHotEncoder(sparse=False)\n",
    "community_area_enc = oh_enc.fit_transform(df['COMMUNITY AREA NAME'].values.reshape(-1, 1))\n",
    "print(community_area_enc[0])"
   ]
  },
  {
   "cell_type": "code",
   "execution_count": 6,
   "metadata": {},
   "outputs": [
    {
     "name": "stdout",
     "output_type": "stream",
     "text": [
      "[0. 0. 0. 0. 0. 0. 0. 0. 0. 0. 0. 0. 0. 0. 0. 0. 0. 0. 0. 0. 0. 0. 0. 0.\n",
      " 0. 0. 0. 1. 0.]\n"
     ]
    }
   ],
   "source": [
    "oh_enc = OneHotEncoder(sparse=False)\n",
    "crime_type_enc = oh_enc.fit_transform(df['Primary Type'].values.reshape(-1, 1))\n",
    "print(crime_type_enc[0])"
   ]
  },
  {
   "cell_type": "markdown",
   "metadata": {},
   "source": [
    "***Ordinal Encoding***- This uses a single column to represent classes. Here, ordinal encoding is a string ( True or False) which states  whether the police have made an arrest for this crime. We will convert this feature using an original encoder so that it can be used in a machine learning model."
   ]
  },
  {
   "cell_type": "code",
   "execution_count": 7,
   "metadata": {},
   "outputs": [],
   "source": [
    "ord_enc = OrdinalEncoder()\n",
    "arrest_ord_enc = ord_enc.fit_transform(df['Arrest'].values.reshape(-1, 1))"
   ]
  },
  {
   "cell_type": "code",
   "execution_count": 8,
   "metadata": {},
   "outputs": [],
   "source": [
    "ord_enc = OrdinalEncoder()\n",
    "domestic_ord_enc = ord_enc.fit_transform(df['Domestic'].values.reshape(-1, 1))"
   ]
  },
  {
   "cell_type": "markdown",
   "metadata": {},
   "source": [
    "***Bucketing*** - Bucketing means putting in different categories. A new feature 'income' is being created from the 'per capita income' where 'high', 'medium' and 'low' are identified as buckets. \n",
    "* *An inbuilt library from sklearn- \"KBinsDiscretizer\" is being used.*"
   ]
  },
  {
   "cell_type": "code",
   "execution_count": 9,
   "metadata": {},
   "outputs": [],
   "source": [
    "def bin_edges(d, title):\n",
    "    print(title, 'ranges of each bin:')\n",
    "    for i in range(1, len(d)):\n",
    "        print('Bin {}: {} to {}'.format(i, d[i - 1], d[i]))\n",
    "    print('')"
   ]
  },
  {
   "cell_type": "code",
   "execution_count": 10,
   "metadata": {},
   "outputs": [
    {
     "name": "stdout",
     "output_type": "stream",
     "text": [
      "Bucket income ranges of each bin:\n",
      "Bin 1: 8201.0 to 15957.0\n",
      "Bin 2: 15957.0 to 24336.0\n",
      "Bin 3: 24336.0 to 88669.0\n",
      "\n",
      "Distribution of values in bins:\n",
      "1.0    8266\n",
      "2.0    8213\n",
      "0.0    7648\n",
      "Name: bucket_income, dtype: int64\n"
     ]
    }
   ],
   "source": [
    "disc = KBinsDiscretizer(n_bins=3, encode='ordinal')\n",
    "bucket_income = disc.fit_transform(df['PER CAPITA INCOME '].values.reshape(-1, 1))\n",
    "bin_edges(disc.bin_edges_[0], 'Bucket income')\n",
    "df['bucket_income'] = bucket_income\n",
    "print('Distribution of values in bins:')\n",
    "print(df['bucket_income'].value_counts())"
   ]
  },
  {
   "cell_type": "code",
   "execution_count": 11,
   "metadata": {},
   "outputs": [
    {
     "name": "stdout",
     "output_type": "stream",
     "text": [
      "Latitude ranges of each bin:\n",
      "Bin 1: 41.647924640999996 to 41.759324223600004\n",
      "Bin 2: 41.759324223600004 to 41.81373832039999\n",
      "Bin 3: 41.81373832039999 to 41.881512491\n",
      "Bin 4: 41.881512491 to 41.918329869\n",
      "Bin 5: 41.918329869 to 42.022536147\n",
      "\n",
      "Longitude ranges of each bin:\n",
      "Bin 1: -87.914869723 to -87.7230788748\n",
      "Bin 2: -87.7230788748 to -87.6838677316\n",
      "Bin 3: -87.6838677316 to -87.64979390760001\n",
      "Bin 4: -87.64979390760001 to -87.62378751860001\n",
      "Bin 5: -87.62378751860001 to -87.525749601\n",
      "\n"
     ]
    }
   ],
   "source": [
    "disc = KBinsDiscretizer(n_bins=5, encode='onehot-dense')\n",
    "bucket_latitude = disc.fit_transform(df['Latitude'].values.reshape(-1, 1))\n",
    "bin_edges(disc.bin_edges_[0], 'Latitude')\n",
    "disc = KBinsDiscretizer(n_bins=5, encode='onehot-dense')\n",
    "bucket_longitude = disc.fit_transform(df['Longitude'].values.reshape(-1, 1))\n",
    "bin_edges(disc.bin_edges_[0], 'Longitude')"
   ]
  },
  {
   "cell_type": "markdown",
   "metadata": {},
   "source": [
    "## CREATING SYNTHETIC FEATURES\n",
    "### Feature Engineering: \n",
    "Feature engineering is the process of using domain knowledge of the data to create features that make machine learning algorithms work. Synthetic features is a form of feature engineering. We create folloeing features:\n",
    "* Time of day\n",
    "* Weekend\n",
    "* Violent crime"
   ]
  },
  {
   "cell_type": "code",
   "execution_count": 13,
   "metadata": {},
   "outputs": [
    {
     "data": {
      "text/plain": [
       "day              12452\n",
       "night             7510\n",
       "early morning     4165\n",
       "Name: hour, dtype: int64"
      ]
     },
     "execution_count": 13,
     "metadata": {},
     "output_type": "execute_result"
    }
   ],
   "source": [
    "def time_of_day(x):\n",
    "    time = x[-8:]\n",
    "    hour = int(time[:2])\n",
    "    if hour <= 6:\n",
    "        return 'early morning'\n",
    "    if hour > 6 and hour < 18:\n",
    "        return 'day'\n",
    "    return 'night'\n",
    "\n",
    "df['hour'] = df['Date'].map(lambda x: time_of_day(x))\n",
    "df['hour'].value_counts()"
   ]
  },
  {
   "cell_type": "code",
   "execution_count": 14,
   "metadata": {},
   "outputs": [],
   "source": [
    "oh_enc = OneHotEncoder(sparse=False)\n",
    "hour_enc = oh_enc.fit_transform(df['hour'].values.reshape(-1, 1))"
   ]
  },
  {
   "cell_type": "code",
   "execution_count": 15,
   "metadata": {},
   "outputs": [],
   "source": [
    "def is_weekend(x):\n",
    "    dt = datetime.strptime(x, '%Y-%m-%d %H:%M:%S')\n",
    "    day = dt.weekday()\n",
    "    if day < 5:\n",
    "        return 0\n",
    "    return 1"
   ]
  },
  {
   "cell_type": "code",
   "execution_count": 16,
   "metadata": {},
   "outputs": [
    {
     "data": {
      "text/plain": [
       "0    17247\n",
       "1     6880\n",
       "Name: is_weekend, dtype: int64"
      ]
     },
     "execution_count": 16,
     "metadata": {},
     "output_type": "execute_result"
    }
   ],
   "source": [
    "df['is_weekend'] = df['Date'].map(lambda x: is_weekend(x))\n",
    "df['is_weekend'].value_counts()"
   ]
  },
  {
   "cell_type": "code",
   "execution_count": 17,
   "metadata": {},
   "outputs": [],
   "source": [
    "weekend_enc = df['is_weekend'].values.reshape(-1, 1)"
   ]
  },
  {
   "cell_type": "code",
   "execution_count": 18,
   "metadata": {},
   "outputs": [],
   "source": [
    "def is_violent(x):\n",
    "    if x in ['BATTERY', 'ASSAULT', 'ROBBERY', 'CRIM SEXUAL ASSAULT', 'HOMICIDE', 'KIDNAPPING', 'ARSON']:\n",
    "        return 1\n",
    "    return 0"
   ]
  },
  {
   "cell_type": "code",
   "execution_count": 19,
   "metadata": {},
   "outputs": [
    {
     "data": {
      "text/plain": [
       "0    16516\n",
       "1     7611\n",
       "Name: is_violent, dtype: int64"
      ]
     },
     "execution_count": 19,
     "metadata": {},
     "output_type": "execute_result"
    }
   ],
   "source": [
    "df['is_violent'] = df['Primary Type'].map(lambda x: is_violent(x))\n",
    "df['is_violent'].value_counts()"
   ]
  },
  {
   "cell_type": "code",
   "execution_count": 20,
   "metadata": {},
   "outputs": [],
   "source": [
    "violent_enc = df['is_violent'].values.reshape(-1, 1)"
   ]
  },
  {
   "cell_type": "markdown",
   "metadata": {},
   "source": [
    "## Predicting Where Crimes Occur\n",
    "This is framed as a three-class classification problem, where the labels are: low wealth, moderate wealth, and high wealth areas. This feature was created by binning the income per capita of the community area in which the crime occured."
   ]
  },
  {
   "cell_type": "markdown",
   "metadata": {},
   "source": [
    "### Creating Training and Test Data\n",
    "The training data will be used to train the model, while the test data for evaluation. A seperate test set simulates how the model generalises to new data and helps us find models that are overfitting to training data.\n",
    "The processed data is combined into 'X (features) array' and 'y (labels) array'. This will then be split into train and test sets by the sklearn train_test_split function."
   ]
  },
  {
   "cell_type": "code",
   "execution_count": 104,
   "metadata": {},
   "outputs": [],
   "source": [
    "X = np.concatenate((arrest_ord_enc, hour_enc, weekend_enc, violent_enc, domestic_ord_enc, location_description_enc, crime_type_enc, bucket_latitude, bucket_longitude), axis=1)\n",
    "y = bucket_income\n",
    "X_train, X_test, y_train, y_test = train_test_split(X, y.ravel(), random_state=1)"
   ]
  },
  {
   "cell_type": "markdown",
   "metadata": {},
   "source": [
    "### Logistic Regression (baseline)\n",
    "The simplist type of model, logisitc regression, will be compared to the other techniques to find the best performing model."
   ]
  },
  {
   "cell_type": "code",
   "execution_count": 50,
   "metadata": {},
   "outputs": [],
   "source": [
    "def plot_confusion_matrix(title, actual, predicted, classes, figsize = (10,7)):\n",
    "    matrix = confusion_matrix(actual, predicted)\n",
    "    df_cm = pd.DataFrame(\n",
    "        matrix, index=classes, columns=classes, \n",
    "    )\n",
    "    fig = plt.figure(figsize=figsize)\n",
    "    heatmap = sns.heatmap(df_cm, annot=True, fmt=\"d\", cmap=plt.cm.Blues)\n",
    "    heatmap.yaxis.set_ticklabels(heatmap.yaxis.get_ticklabels(), rotation=0, ha='right')\n",
    "    heatmap.xaxis.set_ticklabels(heatmap.xaxis.get_ticklabels(), rotation=45, ha='right')\n",
    "    title = title + ' Confusion Matrix'\n",
    "    plt.title(title)\n",
    "    plt.ylabel('Actual')\n",
    "    plt.xlabel('Predicted')"
   ]
  },
  {
   "cell_type": "code",
   "execution_count": 105,
   "metadata": {},
   "outputs": [
    {
     "name": "stdout",
     "output_type": "stream",
     "text": [
      "Train Accuracy:  0.7129593810444874\n",
      "Test Accuracy:  0.718501326259947\n"
     ]
    },
    {
     "data": {
      "image/png": "[encoded data removed]",
      "text/plain": [
       "<Figure size 720x504 with 2 Axes>"
      ]
     },
     "metadata": {
      "needs_background": "light"
     },
     "output_type": "display_data"
    }
   ],
   "source": [
    "model = LogisticRegression(solver='liblinear', multi_class='auto')\n",
    "model.fit(X_train, y_train)\n",
    "print('Train Accuracy: ', model.score(X_train, y_train))\n",
    "print('Test Accuracy: ', model.score(X_test, y_test))\n",
    "model_pred = model.predict(X_test)\n",
    "model_classes = ['Low', 'Medium', 'High']\n",
    "plot_confusion_matrix('Logistic Regression', y_test, model_pred, model_classes)"
   ]
  },
  {
   "cell_type": "markdown",
   "metadata": {},
   "source": [
    "#### Baseline Results\n",
    "An almost 72% accuracy isn't too bad for a three-class classification problem, as random chance is only 33% accuracy. The model is definitely learning useful information from the data to make predictions. The train and test accuracies indicate that the model isn't overfitting."
   ]
  },
  {
   "cell_type": "markdown",
   "metadata": {},
   "source": [
    "### Support Vector Machine Model (SVM)"
   ]
  },
  {
   "cell_type": "code",
   "execution_count": 106,
   "metadata": {},
   "outputs": [
    {
     "name": "stdout",
     "output_type": "stream",
     "text": [
      "Train Accuracy:  0.6699640784747167\n",
      "Test Accuracy:  0.6856763925729443\n"
     ]
    },
    {
     "data": {
      "image/png": "[encoded data removed]",
      "text/plain": [
       "<Figure size 720x504 with 2 Axes>"
      ]
     },
     "metadata": {
      "needs_background": "light"
     },
     "output_type": "display_data"
    }
   ],
   "source": [
    "svm_model = SVC(gamma='auto')\n",
    "svm_model.fit(X_train, y_train)\n",
    "print('Train Accuracy: ', svm_model.score(X_train, y_train))\n",
    "print('Test Accuracy: ', svm_model.score(X_test, y_test))\n",
    "model_pred = svm_model.predict(X_test)\n",
    "plot_confusion_matrix('SVM', y_test, model_pred, model_classes)"
   ]
  },
  {
   "cell_type": "markdown",
   "metadata": {},
   "source": [
    "#### SVM Results\n",
    "Was the slowest model to train and had the weakest performance of any model. It did correctly predict medium income with a better accuracy than the baseline, but was worse at predicting crime that would occur in low and high income areas. The train and test accuracies indicate that the model isn't overfitting. Surprisingly, the test accuracy is marginally higher than the train."
   ]
  },
  {
   "cell_type": "markdown",
   "metadata": {},
   "source": [
    "### K-Nearest Neighbors Model"
   ]
  },
  {
   "cell_type": "code",
   "execution_count": 107,
   "metadata": {},
   "outputs": [
    {
     "name": "stdout",
     "output_type": "stream",
     "text": [
      "Train Accuracy:  0.7866814037026802\n",
      "Test Accuracy:  0.7050729442970822\n"
     ]
    },
    {
     "data": {
      "image/png": "[encoded data removed]",
      "text/plain": [
       "<Figure size 720x504 with 2 Axes>"
      ]
     },
     "metadata": {
      "needs_background": "light"
     },
     "output_type": "display_data"
    }
   ],
   "source": [
    "knn_model = KNeighborsClassifier()\n",
    "knn_model.fit(X_train, y_train)\n",
    "print('Train Accuracy: ', knn_model.score(X_train, y_train))\n",
    "print('Test Accuracy: ', knn_model.score(X_test, y_test))\n",
    "model_pred = knn_model.predict(X_test)\n",
    "plot_confusion_matrix('KNN', y_test, model_pred, model_classes)"
   ]
  },
  {
   "cell_type": "markdown",
   "metadata": {},
   "source": [
    "#### KNN Results\n",
    "The KNN performed better than both the baseline and SVM at predicting crime in moderately-weathly areas, but performed worse than the baseline at about low and high income predictions. Overall, the accuracy of the KNN was slightly worse than the baseline. The train and test accuracies indicate that the model is overfitting as the test accuracy is about 8% lower than the train accuracy."
   ]
  },
  {
   "cell_type": "markdown",
   "metadata": {},
   "source": [
    "### Neural Network Model"
   ]
  },
  {
   "cell_type": "code",
   "execution_count": 108,
   "metadata": {},
   "outputs": [
    {
     "name": "stdout",
     "output_type": "stream",
     "text": [
      "Train Accuracy:  0.7750759878419453\n",
      "Test Accuracy:  0.7662466843501327\n"
     ]
    },
    {
     "name": "stderr",
     "output_type": "stream",
     "text": [
      "/home/jarred/dev/comp257/portfolio-2019-jarredr/env/lib/python3.7/site-packages/sklearn/neural_network/multilayer_perceptron.py:566: ConvergenceWarning: Stochastic Optimizer: Maximum iterations (10) reached and the optimization hasn't converged yet.\n",
      "  % self.max_iter, ConvergenceWarning)\n"
     ]
    },
    {
     "data": {
      "image/png": "[encoded data removed]",
      "text/plain": [
       "<Figure size 720x504 with 2 Axes>"
      ]
     },
     "metadata": {
      "needs_background": "light"
     },
     "output_type": "display_data"
    }
   ],
   "source": [
    "nn_model = MLPClassifier(random_state=0, max_iter=10)\n",
    "nn_model.fit(X_train, y_train)\n",
    "print('Train Accuracy: ', nn_model.score(X_train, y_train))\n",
    "print('Test Accuracy: ', nn_model.score(X_test, y_test))\n",
    "model_pred = nn_model.predict(X_test)\n",
    "plot_confusion_matrix('Neural Network', y_test, model_pred, model_classes)"
   ]
  },
  {
   "cell_type": "markdown",
   "metadata": {},
   "source": [
    "#### Neural Network Results\n",
    "This model performed the best of all, with an almost 5% accuracy improvement over the baseline model. It made up that ground with a high level of accuracy for moderate-income areas, but performed to a comparable level to the baseline on low and high income predictions. The train and test accuracies indicate that the model isn't overfitting."
   ]
  },
  {
   "cell_type": "markdown",
   "metadata": {},
   "source": [
    "#### Neural Network Iteration Testing"
   ]
  },
  {
   "cell_type": "code",
   "execution_count": 68,
   "metadata": {},
   "outputs": [
    {
     "name": "stderr",
     "output_type": "stream",
     "text": [
      "/home/jarred/dev/comp257/portfolio-2019-jarredr/env/lib/python3.7/site-packages/sklearn/neural_network/multilayer_perceptron.py:566: ConvergenceWarning: Stochastic Optimizer: Maximum iterations (10) reached and the optimization hasn't converged yet.\n",
      "  % self.max_iter, ConvergenceWarning)\n",
      "/home/jarred/dev/comp257/portfolio-2019-jarredr/env/lib/python3.7/site-packages/sklearn/neural_network/multilayer_perceptron.py:566: ConvergenceWarning: Stochastic Optimizer: Maximum iterations (20) reached and the optimization hasn't converged yet.\n",
      "  % self.max_iter, ConvergenceWarning)\n",
      "/home/jarred/dev/comp257/portfolio-2019-jarredr/env/lib/python3.7/site-packages/sklearn/neural_network/multilayer_perceptron.py:566: ConvergenceWarning: Stochastic Optimizer: Maximum iterations (30) reached and the optimization hasn't converged yet.\n",
      "  % self.max_iter, ConvergenceWarning)\n",
      "/home/jarred/dev/comp257/portfolio-2019-jarredr/env/lib/python3.7/site-packages/sklearn/neural_network/multilayer_perceptron.py:566: ConvergenceWarning: Stochastic Optimizer: Maximum iterations (40) reached and the optimization hasn't converged yet.\n",
      "  % self.max_iter, ConvergenceWarning)\n",
      "/home/jarred/dev/comp257/portfolio-2019-jarredr/env/lib/python3.7/site-packages/sklearn/neural_network/multilayer_perceptron.py:566: ConvergenceWarning: Stochastic Optimizer: Maximum iterations (50) reached and the optimization hasn't converged yet.\n",
      "  % self.max_iter, ConvergenceWarning)\n"
     ]
    }
   ],
   "source": [
    "train_scores = []\n",
    "test_scores = []\n",
    "iterations = []\n",
    "\n",
    "for i in range(10, 51, 10):\n",
    "    mlp = MLPClassifier(random_state=0, max_iter=i)\n",
    "    mlp.fit(X_train, y_train)\n",
    "    train_scores.append(mlp.score(X_train, y_train))\n",
    "    test_scores.append(mlp.score(X_test, y_test))\n",
    "    iterations.append(i)"
   ]
  },
  {
   "cell_type": "code",
   "execution_count": 69,
   "metadata": {},
   "outputs": [
    {
     "data": {
      "image/png": "[encoded data removed]",
      "text/plain": [
       "<Figure size 576x432 with 1 Axes>"
      ]
     },
     "metadata": {
      "needs_background": "light"
     },
     "output_type": "display_data"
    }
   ],
   "source": [
    "plt.figure(figsize=(8, 6))    \n",
    "plt.plot(iterations, train_scores, label='Train')\n",
    "plt.plot(iterations, test_scores, label='Test')\n",
    "plt.ylabel('Accuracy')\n",
    "plt.xlabel('Iterations')\n",
    "plt.title('Neural network performance with iterations')\n",
    "leg = plt.legend()\n",
    "plt.grid(True)\n",
    "plt.show()"
   ]
  },
  {
   "cell_type": "markdown",
   "metadata": {},
   "source": [
    "**Iteration Observations**  \n",
    "Despite the complaints of the model not reaching convergence, the best result for test accuracy is actually the lowest number of iterations. Above 10 iterations the model starts overfitting the training data."
   ]
  },
  {
   "cell_type": "markdown",
   "metadata": {},
   "source": [
    "#### Neural Network Solver Testing"
   ]
  },
  {
   "cell_type": "code",
   "execution_count": 102,
   "metadata": {},
   "outputs": [
    {
     "name": "stderr",
     "output_type": "stream",
     "text": [
      "/home/jarred/dev/comp257/portfolio-2019-jarredr/env/lib/python3.7/site-packages/sklearn/neural_network/multilayer_perceptron.py:566: ConvergenceWarning: Stochastic Optimizer: Maximum iterations (10) reached and the optimization hasn't converged yet.\n",
      "  % self.max_iter, ConvergenceWarning)\n",
      "/home/jarred/dev/comp257/portfolio-2019-jarredr/env/lib/python3.7/site-packages/sklearn/neural_network/multilayer_perceptron.py:566: ConvergenceWarning: Stochastic Optimizer: Maximum iterations (10) reached and the optimization hasn't converged yet.\n",
      "  % self.max_iter, ConvergenceWarning)\n"
     ]
    }
   ],
   "source": [
    "train_scores = []\n",
    "test_scores = []\n",
    "solvers = ['lbfgs','sgd', 'adam']\n",
    "for i in solvers:\n",
    "    mlp = MLPClassifier(solver=i, random_state=0, max_iter=10)\n",
    "    mlp.fit(X_train, y_train)\n",
    "    train_scores.append(mlp.score(X_train, y_train))\n",
    "    test_scores.append(mlp.score(X_test, y_test))"
   ]
  },
  {
   "cell_type": "code",
   "execution_count": 103,
   "metadata": {},
   "outputs": [
    {
     "data": {
      "image/png": "[encoded data removed]",
      "text/plain": [
       "<Figure size 576x432 with 1 Axes>"
      ]
     },
     "metadata": {
      "needs_background": "light"
     },
     "output_type": "display_data"
    }
   ],
   "source": [
    "n_groups = 3\n",
    "index = np.arange(n_groups)\n",
    "plt.figure(figsize=(8, 6))\n",
    "bar_width = 0.4\n",
    "plt.bar(index, train_scores, bar_width, color='#5da5d1', label='Train')\n",
    "plt.bar(index + bar_width, test_scores, bar_width, color='#08306b', label='Test')\n",
    "plt.ylabel('Accuracy')\n",
    "plt.xlabel('Solver')\n",
    "plt.title('Neural network performance with solvers')\n",
    "leg = plt.legend()\n",
    "plt.xticks(index + bar_width/2, solvers)\n",
    "plt.grid(True)\n",
    "plt.tight_layout()\n",
    "plt.show()"
   ]
  },
  {
   "cell_type": "markdown",
   "metadata": {},
   "source": [
    "**Solver observations**  \n",
    "The adam solver, which is the default for the MLPClassifier, has a noticible improvement in accuracy over the others for this problem."
   ]
  },
  {
   "cell_type": "markdown",
   "metadata": {},
   "source": [
    "## Predicting violent crime\n",
    "This is a binary classification problem, where the labels are: nonviolent and violent. The features include: the time of day, whether an arrest occured, a description of the location, and what community area it took place in. Since this is now a binary classification problem, we can now easily use Receiver Operating Characteristic (ROC) Area Under Curve (AUC) as an additional metric to accuracy."
   ]
  },
  {
   "cell_type": "code",
   "execution_count": 109,
   "metadata": {},
   "outputs": [
    {
     "name": "stderr",
     "output_type": "stream",
     "text": [
      "/home/jarred/dev/comp257/portfolio-2019-jarredr/env/lib/python3.7/site-packages/sklearn/preprocessing/_encoders.py:415: FutureWarning: The handling of integer data will change in version 0.22. Currently, the categories are determined based on the range [0, max(values)], while in the future they will be determined based on the unique values.\n",
      "If you want the future behaviour and silence this warning, you can specify \"categories='auto'\".\n",
      "In case you used a LabelEncoder before this OneHotEncoder to convert the categories to integers, then you can now use the OneHotEncoder directly.\n",
      "  warnings.warn(msg, FutureWarning)\n"
     ]
    }
   ],
   "source": [
    "X = np.concatenate((arrest_ord_enc, hour_enc, weekend_enc, domestic_ord_enc, location_description_enc, bucket_latitude, bucket_longitude, community_area_enc, bucket_income), axis=1)\n",
    "y = df['is_violent'].values\n",
    "X_train, X_test, y_train, y_test = train_test_split(X, y, random_state=1)\n",
    "encoder = OneHotEncoder()\n",
    "encoder.fit([[0], [1]])\n",
    "y_test_proba = encoder.transform(y_test.reshape(-1, 1)).toarray()"
   ]
  },
  {
   "cell_type": "markdown",
   "metadata": {},
   "source": [
    "### Logistic Regression (baseline)"
   ]
  },
  {
   "cell_type": "code",
   "execution_count": 110,
   "metadata": {},
   "outputs": [
    {
     "name": "stdout",
     "output_type": "stream",
     "text": [
      "Train Accuracy:  0.7767339043934789\n",
      "Test Accuracy:  0.7664124668435013\n",
      "ROC AUC:  0.7682436802513741\n"
     ]
    },
    {
     "data": {
      "image/png": "[encoded data removed]",
      "text/plain": [
       "<Figure size 576x432 with 2 Axes>"
      ]
     },
     "metadata": {
      "needs_background": "light"
     },
     "output_type": "display_data"
    }
   ],
   "source": [
    "model = LogisticRegression(solver='liblinear', multi_class='auto')\n",
    "model.fit(X_train, y_train)\n",
    "print('Train Accuracy: ', model.score(X_train, y_train))\n",
    "print('Test Accuracy: ', model.score(X_test, y_test))\n",
    "model_pred = model.predict(X_test)\n",
    "probabilities = model.predict_proba(X_test)\n",
    "print('ROC AUC: ', roc_auc_score(y_test_proba, probabilities))\n",
    "model_classes = ['Nonviolent', 'Violent']\n",
    "plot_confusion_matrix('Logistic Regression', y_test, model_pred, model_classes, figsize = (8,6))"
   ]
  },
  {
   "cell_type": "markdown",
   "metadata": {},
   "source": [
    "#### Baseline Results\n",
    "A 76% accuracy isn't incredible for a binary classification task, but the model is learning something from the data to perform 26% above random chance. Interestingly, the accuracy for nonviolent crime is significantly higher than for violent crime. The train and test accuracies indicate that the model isn't overfitting."
   ]
  },
  {
   "cell_type": "markdown",
   "metadata": {},
   "source": [
    "### Support Vector Machine Model"
   ]
  },
  {
   "cell_type": "code",
   "execution_count": 111,
   "metadata": {},
   "outputs": [
    {
     "name": "stdout",
     "output_type": "stream",
     "text": [
      "Train Accuracy:  0.7548494059132357\n",
      "Test Accuracy:  0.7420424403183024\n",
      "ROC AUC:  0.7539838849606479\n"
     ]
    },
    {
     "data": {
      "image/png": "[encoded data removed]",
      "text/plain": [
       "<Figure size 576x432 with 2 Axes>"
      ]
     },
     "metadata": {
      "needs_background": "light"
     },
     "output_type": "display_data"
    }
   ],
   "source": [
    "svm_model = SVC(gamma='auto', probability=True)\n",
    "svm_model.fit(X_train, y_train)\n",
    "print('Train Accuracy: ', svm_model.score(X_train, y_train))\n",
    "print('Test Accuracy: ', svm_model.score(X_test, y_test))\n",
    "model_pred = svm_model.predict(X_test)\n",
    "probabilities = svm_model.predict_proba(X_test)\n",
    "print('ROC AUC: ', roc_auc_score(y_test_proba, probabilities))\n",
    "plot_confusion_matrix('SVM', y_test, model_pred, model_classes, figsize = (8,6))"
   ]
  },
  {
   "cell_type": "markdown",
   "metadata": {},
   "source": [
    "#### SVM Results\n",
    "Accuracy and ROC AUC are both slightly lower than the baseline model, but interestingly it has the lowest number of false positives of any of the models (nonviolent crimes predicted incorrectly as violent). Unfortunately, it didn't do well at predicting violent crime: far more violent crimes were incorrectly predited to be nonviolent. The train and test accuracies indicate that the model isn't overfitting."
   ]
  },
  {
   "cell_type": "markdown",
   "metadata": {},
   "source": [
    "### K-Nearest Neighbours Model"
   ]
  },
  {
   "cell_type": "code",
   "execution_count": 112,
   "metadata": {},
   "outputs": [
    {
     "name": "stdout",
     "output_type": "stream",
     "text": [
      "Train Accuracy:  0.7977341807129041\n",
      "Test Accuracy:  0.7122015915119363\n",
      "ROC AUC:  0.6977744056651491\n"
     ]
    },
    {
     "data": {
      "image/png": "[encoded data removed]",
      "text/plain": [
       "<Figure size 576x432 with 2 Axes>"
      ]
     },
     "metadata": {
      "needs_background": "light"
     },
     "output_type": "display_data"
    }
   ],
   "source": [
    "knn_model = KNeighborsClassifier()\n",
    "knn_model.fit(X_train, y_train)\n",
    "print('Train Accuracy: ', knn_model.score(X_train, y_train))\n",
    "print('Test Accuracy: ', knn_model.score(X_test, y_test))\n",
    "model_pred = knn_model.predict(X_test)\n",
    "probabilities = knn_model.predict_proba(X_test)\n",
    "print('ROC AUC: ', roc_auc_score(y_test_proba, probabilities))\n",
    "plot_confusion_matrix('KNN', y_test, model_pred, model_classes, figsize = (8,6))"
   ]
  },
  {
   "cell_type": "markdown",
   "metadata": {},
   "source": [
    "#### KNN Results\n",
    "The KNN model was the weakest performing out of all the models. It was inferior in every aspect to the baseline model. The train and test accuracies indicate that the model is overfitting as the test accuracy is about 8% lower than the train accuracy."
   ]
  },
  {
   "cell_type": "markdown",
   "metadata": {},
   "source": [
    "#### Trying different numbers of neighbors\n",
    "Perhaps the default setting of 5 neighbors wasn't the best for this problem?"
   ]
  },
  {
   "cell_type": "code",
   "execution_count": 100,
   "metadata": {},
   "outputs": [
    {
     "data": {
      "image/png": "[encoded data removed]",
      "text/plain": [
       "<Figure size 576x432 with 1 Axes>"
      ]
     },
     "metadata": {
      "needs_background": "light"
     },
     "output_type": "display_data"
    }
   ],
   "source": [
    "train_scores = []\n",
    "test_scores = []\n",
    "iterations = []\n",
    "\n",
    "for i in range(2, 8):\n",
    "    knn = KNeighborsClassifier(n_neighbors=i)\n",
    "    knn.fit(X_train, y_train)\n",
    "    train_scores.append(knn.score(X_train, y_train))\n",
    "    test_scores.append(knn.score(X_test, y_test))\n",
    "    iterations.append(i)\n",
    "\n",
    "plt.figure(figsize=(8, 6))    \n",
    "plt.plot(iterations, train_scores, label='Train')\n",
    "plt.plot(iterations, test_scores, label='Test')\n",
    "plt.ylabel('Accuracy')\n",
    "plt.xlabel('Iterations')\n",
    "plt.title('KNN performance with number of neighbors')\n",
    "leg = plt.legend()\n",
    "plt.grid(True)\n",
    "plt.show()"
   ]
  },
  {
   "cell_type": "markdown",
   "metadata": {},
   "source": [
    "#### Finding the best value of K\n",
    "The default K of 5 seems perfectly reasonable, but it appears the results were slightly better at 6."
   ]
  },
  {
   "cell_type": "markdown",
   "metadata": {},
   "source": [
    "### Naive Bayes Classifier Model"
   ]
  },
  {
   "cell_type": "code",
   "execution_count": 113,
   "metadata": {},
   "outputs": [
    {
     "name": "stdout",
     "output_type": "stream",
     "text": [
      "Train Accuracy:  0.7467808786957724\n",
      "Test Accuracy:  0.7327586206896551\n",
      "ROC AUC:  0.7363280999060091\n"
     ]
    },
    {
     "data": {
      "image/png": "[encoded data removed]",
      "text/plain": [
       "<Figure size 576x432 with 2 Axes>"
      ]
     },
     "metadata": {
      "needs_background": "light"
     },
     "output_type": "display_data"
    }
   ],
   "source": [
    "nb_model = MultinomialNB()\n",
    "nb_model.fit(X_train, y_train)\n",
    "probabilities = nb_model.predict_proba(X_test)\n",
    "model_pred = nb_model.predict(X_test)\n",
    "print('Train Accuracy: ', nb_model.score(X_train, y_train))\n",
    "print('Test Accuracy: ', nb_model.score(X_test, y_test))\n",
    "print('ROC AUC: ', roc_auc_score(y_test_proba, probabilities))\n",
    "plot_confusion_matrix('NB', y_test, model_pred, model_classes, figsize = (8,6))"
   ]
  },
  {
   "cell_type": "markdown",
   "metadata": {},
   "source": [
    "#### Naive Bayes Results\n",
    "The Naive Bayes model has solid, but unremarkable performance. It performed better than the KNN model, but slightly worse than the baseline in all cases. The train and test accuracies indicate that the model isn't overfitting."
   ]
  },
  {
   "cell_type": "markdown",
   "metadata": {},
   "source": [
    "### Neural Network Model"
   ]
  },
  {
   "cell_type": "code",
   "execution_count": 114,
   "metadata": {},
   "outputs": [
    {
     "name": "stdout",
     "output_type": "stream",
     "text": [
      "Train Accuracy:  0.7929814865985079\n",
      "Test Accuracy:  0.7795092838196287\n",
      "ROC AUC:  0.7682436802513741\n"
     ]
    },
    {
     "name": "stderr",
     "output_type": "stream",
     "text": [
      "/home/jarred/dev/comp257/portfolio-2019-jarredr/env/lib/python3.7/site-packages/sklearn/neural_network/multilayer_perceptron.py:566: ConvergenceWarning: Stochastic Optimizer: Maximum iterations (10) reached and the optimization hasn't converged yet.\n",
      "  % self.max_iter, ConvergenceWarning)\n"
     ]
    },
    {
     "data": {
      "image/png": "[encoded data removed]",
      "text/plain": [
       "<Figure size 576x432 with 2 Axes>"
      ]
     },
     "metadata": {
      "needs_background": "light"
     },
     "output_type": "display_data"
    }
   ],
   "source": [
    "nn_model = MLPClassifier(random_state=0, max_iter=10)\n",
    "nn_model.fit(X_train, y_train)\n",
    "print('Train Accuracy: ', nn_model.score(X_train, y_train))\n",
    "print('Test Accuracy: ', nn_model.score(X_test, y_test))\n",
    "model_pred = nn_model.predict(X_test)\n",
    "probabilities = model.predict_proba(X_test)\n",
    "print('ROC AUC: ', roc_auc_score(y_test_proba, probabilities))\n",
    "plot_confusion_matrix('Neural Network', y_test, model_pred, model_classes, figsize = (8,6))"
   ]
  },
  {
   "cell_type": "markdown",
   "metadata": {},
   "source": [
    "#### Neural Network Results\n",
    "This model performed the best in every metric, and was the only model which was able to correctly predict more violent crimes than it got wrong. The train and test accuracies indicate that the model isn't overfitting."
   ]
  },
  {
   "cell_type": "markdown",
   "metadata": {},
   "source": [
    "#### Neural Network Iteration Testing\n",
    "The goal is to find the best number of iterations using the test set accuracy as the metric."
   ]
  },
  {
   "cell_type": "code",
   "execution_count": 93,
   "metadata": {},
   "outputs": [
    {
     "name": "stderr",
     "output_type": "stream",
     "text": [
      "/home/jarred/dev/comp257/portfolio-2019-jarredr/env/lib/python3.7/site-packages/sklearn/neural_network/multilayer_perceptron.py:566: ConvergenceWarning: Stochastic Optimizer: Maximum iterations (10) reached and the optimization hasn't converged yet.\n",
      "  % self.max_iter, ConvergenceWarning)\n",
      "/home/jarred/dev/comp257/portfolio-2019-jarredr/env/lib/python3.7/site-packages/sklearn/neural_network/multilayer_perceptron.py:566: ConvergenceWarning: Stochastic Optimizer: Maximum iterations (20) reached and the optimization hasn't converged yet.\n",
      "  % self.max_iter, ConvergenceWarning)\n",
      "/home/jarred/dev/comp257/portfolio-2019-jarredr/env/lib/python3.7/site-packages/sklearn/neural_network/multilayer_perceptron.py:566: ConvergenceWarning: Stochastic Optimizer: Maximum iterations (30) reached and the optimization hasn't converged yet.\n",
      "  % self.max_iter, ConvergenceWarning)\n",
      "/home/jarred/dev/comp257/portfolio-2019-jarredr/env/lib/python3.7/site-packages/sklearn/neural_network/multilayer_perceptron.py:566: ConvergenceWarning: Stochastic Optimizer: Maximum iterations (40) reached and the optimization hasn't converged yet.\n",
      "  % self.max_iter, ConvergenceWarning)\n",
      "/home/jarred/dev/comp257/portfolio-2019-jarredr/env/lib/python3.7/site-packages/sklearn/neural_network/multilayer_perceptron.py:566: ConvergenceWarning: Stochastic Optimizer: Maximum iterations (50) reached and the optimization hasn't converged yet.\n",
      "  % self.max_iter, ConvergenceWarning)\n"
     ]
    },
    {
     "data": {
      "image/png": "[encoded data removed]",
      "text/plain": [
       "<Figure size 576x432 with 1 Axes>"
      ]
     },
     "metadata": {
      "needs_background": "light"
     },
     "output_type": "display_data"
    }
   ],
   "source": [
    "train_scores = []\n",
    "test_scores = []\n",
    "iterations = []\n",
    "\n",
    "for i in range(10, 51, 10):\n",
    "    mlp = MLPClassifier(random_state=0, max_iter=i)\n",
    "    mlp.fit(X_train, y_train)\n",
    "    train_scores.append(mlp.score(X_train, y_train))\n",
    "    test_scores.append(mlp.score(X_test, y_test))\n",
    "    iterations.append(i)\n",
    "\n",
    "plt.figure(figsize=(8, 6))    \n",
    "plt.plot(iterations, train_scores, label='Train')\n",
    "plt.plot(iterations, test_scores, label='Test')\n",
    "plt.ylabel('Accuracy')\n",
    "plt.xlabel('Iterations')\n",
    "plt.title('Neural network performance with iterations')\n",
    "leg = plt.legend()\n",
    "plt.grid(True)\n",
    "plt.show()"
   ]
  },
  {
   "cell_type": "markdown",
   "metadata": {},
   "source": [
    "#### Iteration Testing\n",
    "The neural network starts overfitting immediately after 10 iterations, so keeping the iterations low is ideal in this case."
   ]
  },
  {
   "cell_type": "code",
   "execution_count": null,
   "metadata": {},
   "outputs": [],
   "source": []
  }
 ],
 "metadata": {
  "kernelspec": {
   "display_name": "comp257",
   "language": "python",
   "name": "comp257"
  },
  "language_info": {
   "codemirror_mode": {
    "name": "ipython",
    "version": 3
   },
   "file_extension": ".py",
   "mimetype": "text/x-python",
   "name": "python",
   "nbconvert_exporter": "python",
   "pygments_lexer": "ipython3",
   "version": "3.7.3"
  }
 },
 "nbformat": 4,
 "nbformat_minor": 2
}
