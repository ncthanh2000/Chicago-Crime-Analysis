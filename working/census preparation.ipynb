{
 "cells": [
  {
   "cell_type": "code",
   "execution_count": 1,
   "metadata": {},
   "outputs": [],
   "source": [
    "import pandas as pd\n",
    "df = pd.read_excel('data\\Census-Data-by-Chicago-Community-Area-2017.xlsx')\n",
    "\n",
    "#df = df.iloc[1:80].copy()\n",
    "#df.drop(df.index[45:47], inplace = True)\n",
    "df.dropna(axis=1, how='all', inplace = True)"
   ]
  },
  {
   "cell_type": "code",
   "execution_count": 2,
   "metadata": {},
   "outputs": [
    {
     "name": "stdout",
     "output_type": "stream",
     "text": [
      "['Community', 'Community Number', 'Total Population', 'Age 0‐2', 'Age 3‐4', 'Age 5', 'Age 6‐12', 'Families with a child under age 6', 'Percent Hispanic', 'Percent Non‐ Hispanic Black', 'Percent Non‐ Hispanic White', 'Percent Non‐ Hispanic Asian', 'Percent Non‐ Hispanic Other or Multiple Races', 'Children 0‐5', 'Children 6‐17', 'Children 0‐5', 'Children 6‐11', 'Children 0‐5', 'Children 6‐11']\n"
     ]
    }
   ],
   "source": [
    "cols = list(df.iloc[0].values)\n",
    "print(cols)"
   ]
  },
  {
   "cell_type": "code",
   "execution_count": 3,
   "metadata": {},
   "outputs": [],
   "source": [
    "df.set_axis(cols, axis=1, inplace = True)\n",
    "#due to the complexity of the analyses, we are only factoring in racial demographics of the community areas\n",
    "df = df[['Community', 'Community Number', 'Total Population','Percent Hispanic', 'Percent Non‐ Hispanic Black', 'Percent Non‐ Hispanic White', 'Percent Non‐ Hispanic Asian', 'Percent Non‐ Hispanic Other or Multiple Races']]\n"
   ]
  },
  {
   "cell_type": "code",
   "execution_count": 4,
   "metadata": {},
   "outputs": [],
   "source": [
    "df.drop(df.index[0], inplace = True)\n",
    "df.rename(columns = {'Community': 'Community Name',\n",
    "                    'Community Number': 'Community Area',\n",
    "                     'Percent Hispanic': 'Racial Demographics - Hispanic Proportion', \n",
    "                    'Percent Non‐ Hispanic Black': 'Racial Demographics - Black Proportion', \n",
    "                     'Percent Non‐ Hispanic White': 'Racial Demographics - White Proportion', \n",
    "                     'Percent Non‐ Hispanic Asian': 'Racial Demographics - Asian Proportion', \n",
    "                     'Percent Non‐ Hispanic Other or Multiple Races': 'Racial Demographics - Other or Multiple Races Proportion'}\n",
    "                  , inplace = True)\n",
    "\n",
    "df = df.reset_index(drop=True)"
   ]
  },
  {
   "cell_type": "code",
   "execution_count": 5,
   "metadata": {},
   "outputs": [
    {
     "data": {
      "text/html": [
       "<div>\n",
       "<style scoped>\n",
       "    .dataframe tbody tr th:only-of-type {\n",
       "        vertical-align: middle;\n",
       "    }\n",
       "\n",
       "    .dataframe tbody tr th {\n",
       "        vertical-align: top;\n",
       "    }\n",
       "\n",
       "    .dataframe thead th {\n",
       "        text-align: right;\n",
       "    }\n",
       "</style>\n",
       "<table border=\"1\" class=\"dataframe\">\n",
       "  <thead>\n",
       "    <tr style=\"text-align: right;\">\n",
       "      <th></th>\n",
       "      <th>Community Name</th>\n",
       "      <th>Community Area</th>\n",
       "      <th>Total Population</th>\n",
       "      <th>Racial Demographics - Hispanic Proportion</th>\n",
       "      <th>Racial Demographics - Black Proportion</th>\n",
       "      <th>Racial Demographics - White Proportion</th>\n",
       "      <th>Racial Demographics - Asian Proportion</th>\n",
       "      <th>Racial Demographics - Other or Multiple Races Proportion</th>\n",
       "    </tr>\n",
       "  </thead>\n",
       "  <tbody>\n",
       "    <tr>\n",
       "      <td>0</td>\n",
       "      <td>Rogers Park</td>\n",
       "      <td>1</td>\n",
       "      <td>53470</td>\n",
       "      <td>0.24</td>\n",
       "      <td>0.24</td>\n",
       "      <td>0.45</td>\n",
       "      <td>0.05</td>\n",
       "      <td>0.03</td>\n",
       "    </tr>\n",
       "    <tr>\n",
       "      <td>1</td>\n",
       "      <td>West Ridge</td>\n",
       "      <td>2</td>\n",
       "      <td>75185</td>\n",
       "      <td>0.2</td>\n",
       "      <td>0.13</td>\n",
       "      <td>0.41</td>\n",
       "      <td>0.21</td>\n",
       "      <td>0.04</td>\n",
       "    </tr>\n",
       "    <tr>\n",
       "      <td>2</td>\n",
       "      <td>Uptown</td>\n",
       "      <td>3</td>\n",
       "      <td>54001</td>\n",
       "      <td>0.16</td>\n",
       "      <td>0.19</td>\n",
       "      <td>0.51</td>\n",
       "      <td>0.11</td>\n",
       "      <td>0.03</td>\n",
       "    </tr>\n",
       "    <tr>\n",
       "      <td>3</td>\n",
       "      <td>Lincoln Square</td>\n",
       "      <td>4</td>\n",
       "      <td>46881</td>\n",
       "      <td>0.18</td>\n",
       "      <td>0.06</td>\n",
       "      <td>0.62</td>\n",
       "      <td>0.1</td>\n",
       "      <td>0.04</td>\n",
       "    </tr>\n",
       "    <tr>\n",
       "      <td>4</td>\n",
       "      <td>North Center</td>\n",
       "      <td>5</td>\n",
       "      <td>35406</td>\n",
       "      <td>0.11</td>\n",
       "      <td>0.09</td>\n",
       "      <td>0.73</td>\n",
       "      <td>0.04</td>\n",
       "      <td>0.03</td>\n",
       "    </tr>\n",
       "  </tbody>\n",
       "</table>\n",
       "</div>"
      ],
      "text/plain": [
       "   Community Name Community Area Total Population  \\\n",
       "0     Rogers Park              1            53470   \n",
       "1      West Ridge              2            75185   \n",
       "2          Uptown              3            54001   \n",
       "3  Lincoln Square              4            46881   \n",
       "4    North Center              5            35406   \n",
       "\n",
       "  Racial Demographics - Hispanic Proportion  \\\n",
       "0                                      0.24   \n",
       "1                                       0.2   \n",
       "2                                      0.16   \n",
       "3                                      0.18   \n",
       "4                                      0.11   \n",
       "\n",
       "  Racial Demographics - Black Proportion  \\\n",
       "0                                   0.24   \n",
       "1                                   0.13   \n",
       "2                                   0.19   \n",
       "3                                   0.06   \n",
       "4                                   0.09   \n",
       "\n",
       "  Racial Demographics - White Proportion  \\\n",
       "0                                   0.45   \n",
       "1                                   0.41   \n",
       "2                                   0.51   \n",
       "3                                   0.62   \n",
       "4                                   0.73   \n",
       "\n",
       "  Racial Demographics - Asian Proportion  \\\n",
       "0                                   0.05   \n",
       "1                                   0.21   \n",
       "2                                   0.11   \n",
       "3                                    0.1   \n",
       "4                                   0.04   \n",
       "\n",
       "  Racial Demographics - Other or Multiple Races Proportion  \n",
       "0                                               0.03        \n",
       "1                                               0.04        \n",
       "2                                               0.03        \n",
       "3                                               0.04        \n",
       "4                                               0.03        "
      ]
     },
     "execution_count": 5,
     "metadata": {},
     "output_type": "execute_result"
    }
   ],
   "source": [
    "df.head()"
   ]
  },
  {
   "cell_type": "code",
   "execution_count": 6,
   "metadata": {},
   "outputs": [],
   "source": [
    "df.to_csv('data\\Census.csv', index = False)\n"
   ]
  },
  {
   "cell_type": "code",
   "execution_count": null,
   "metadata": {},
   "outputs": [],
   "source": []
  }
 ],
 "metadata": {
  "kernelspec": {
   "display_name": "Python 3",
   "language": "python",
   "name": "python3"
  },
  "language_info": {
   "codemirror_mode": {
    "name": "ipython",
    "version": 3
   },
   "file_extension": ".py",
   "mimetype": "text/x-python",
   "name": "python",
   "nbconvert_exporter": "python",
   "pygments_lexer": "ipython3",
   "version": "3.7.3"
  }
 },
 "nbformat": 4,
 "nbformat_minor": 2
}
