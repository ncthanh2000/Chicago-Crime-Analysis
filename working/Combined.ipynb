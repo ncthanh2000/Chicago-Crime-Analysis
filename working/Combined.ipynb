{
 "cells": [
  {
   "cell_type": "code",
   "execution_count": 157,
   "metadata": {},
   "outputs": [],
   "source": [
    "from datetime import datetime\n",
    "import numpy as np\n",
    "import pandas as pd\n",
    "from sklearn.preprocessing import OneHotEncoder, KBinsDiscretizer, OrdinalEncoder\n",
    "from sklearn.feature_extraction.text import CountVectorizer\n",
    "from sklearn.model_selection import train_test_split\n",
    "from sklearn.linear_model import LogisticRegression\n",
    "from sklearn.svm import SVC\n",
    "from sklearn.neighbors import KNeighborsClassifier\n",
    "from sklearn.neural_network import MLPClassifier\n",
    "from sklearn.naive_bayes import MultinomialNB\n",
    "from sklearn.metrics import roc_auc_score, confusion_matrix\n",
    "from matplotlib import pyplot as plt\n",
    "import seaborn as sns\n",
    "plt.style.use('seaborn')\n",
    "%matplotlib inline\n",
    "\n",
    "\n",
    "from imblearn.combine import SMOTETomek\n",
    "from sklearn.ensemble import ExtraTreesClassifier\n",
    "import matplotlib.pyplot as plt\n",
    "from imblearn.under_sampling import CondensedNearestNeighbour\n",
    "\n",
    "from sklearn.metrics import f1_score, accuracy_score\n",
    "from imblearn.over_sampling import SMOTE\n",
    "from imblearn.over_sampling import BorderlineSMOTE\n",
    "from imblearn.under_sampling import CondensedNearestNeighbour\n",
    "\n",
    "import thanh as t\n"
   ]
  },
  {
   "cell_type": "code",
   "execution_count": 158,
   "metadata": {
    "scrolled": true
   },
   "outputs": [],
   "source": [
    "df = pd.read_csv('data/Chicago_Merged.csv')\n",
    "df = df.dropna()"
   ]
  },
  {
   "cell_type": "code",
   "execution_count": 159,
   "metadata": {},
   "outputs": [
    {
     "data": {
      "text/html": [
       "<div>\n",
       "<style scoped>\n",
       "    .dataframe tbody tr th:only-of-type {\n",
       "        vertical-align: middle;\n",
       "    }\n",
       "\n",
       "    .dataframe tbody tr th {\n",
       "        vertical-align: top;\n",
       "    }\n",
       "\n",
       "    .dataframe thead th {\n",
       "        text-align: right;\n",
       "    }\n",
       "</style>\n",
       "<table border=\"1\" class=\"dataframe\">\n",
       "  <thead>\n",
       "    <tr style=\"text-align: right;\">\n",
       "      <th></th>\n",
       "      <th>Unnamed: 0</th>\n",
       "      <th>ID</th>\n",
       "      <th>Case Number</th>\n",
       "      <th>Date</th>\n",
       "      <th>Block</th>\n",
       "      <th>IUCR</th>\n",
       "      <th>Primary Type</th>\n",
       "      <th>Description</th>\n",
       "      <th>Location Description</th>\n",
       "      <th>Arrest</th>\n",
       "      <th>...</th>\n",
       "      <th>Police Districts</th>\n",
       "      <th>Police Beats</th>\n",
       "      <th>COMMUNITY AREA NAME</th>\n",
       "      <th>PERCENT OF HOUSING CROWDED</th>\n",
       "      <th>PERCENT HOUSEHOLDS BELOW POVERTY</th>\n",
       "      <th>PERCENT AGED 16+ UNEMPLOYED</th>\n",
       "      <th>PERCENT AGED 25+ WITHOUT HIGH SCHOOL DIPLOMA</th>\n",
       "      <th>PERCENT AGED UNDER 18 OR OVER 64</th>\n",
       "      <th>PER CAPITA INCOME</th>\n",
       "      <th>HARDSHIP INDEX</th>\n",
       "    </tr>\n",
       "  </thead>\n",
       "  <tbody>\n",
       "    <tr>\n",
       "      <th>0</th>\n",
       "      <td>0</td>\n",
       "      <td>10778514.0</td>\n",
       "      <td>HZ544820</td>\n",
       "      <td>2016-12-08 17:23:00</td>\n",
       "      <td>079XX S MAY ST</td>\n",
       "      <td>0820</td>\n",
       "      <td>THEFT</td>\n",
       "      <td>$500 AND UNDER</td>\n",
       "      <td>APARTMENT</td>\n",
       "      <td>False</td>\n",
       "      <td>...</td>\n",
       "      <td>20.0</td>\n",
       "      <td>230.0</td>\n",
       "      <td>Auburn Gresham</td>\n",
       "      <td>4.0</td>\n",
       "      <td>27.6</td>\n",
       "      <td>28.3</td>\n",
       "      <td>18.5</td>\n",
       "      <td>41.9</td>\n",
       "      <td>15528.0</td>\n",
       "      <td>74.0</td>\n",
       "    </tr>\n",
       "    <tr>\n",
       "      <th>1</th>\n",
       "      <td>1</td>\n",
       "      <td>11411914.0</td>\n",
       "      <td>JB390837</td>\n",
       "      <td>2018-08-12 22:00:00</td>\n",
       "      <td>013XX W 76TH ST</td>\n",
       "      <td>0560</td>\n",
       "      <td>ASSAULT</td>\n",
       "      <td>SIMPLE</td>\n",
       "      <td>APARTMENT</td>\n",
       "      <td>False</td>\n",
       "      <td>...</td>\n",
       "      <td>20.0</td>\n",
       "      <td>230.0</td>\n",
       "      <td>Auburn Gresham</td>\n",
       "      <td>4.0</td>\n",
       "      <td>27.6</td>\n",
       "      <td>28.3</td>\n",
       "      <td>18.5</td>\n",
       "      <td>41.9</td>\n",
       "      <td>15528.0</td>\n",
       "      <td>74.0</td>\n",
       "    </tr>\n",
       "    <tr>\n",
       "      <th>2</th>\n",
       "      <td>2</td>\n",
       "      <td>11510038.0</td>\n",
       "      <td>JB519570</td>\n",
       "      <td>2018-11-17 14:49:00</td>\n",
       "      <td>079XX S BISHOP ST</td>\n",
       "      <td>502P</td>\n",
       "      <td>OTHER OFFENSE</td>\n",
       "      <td>FALSE/STOLEN/ALTERED TRP</td>\n",
       "      <td>STREET</td>\n",
       "      <td>False</td>\n",
       "      <td>...</td>\n",
       "      <td>20.0</td>\n",
       "      <td>230.0</td>\n",
       "      <td>Auburn Gresham</td>\n",
       "      <td>4.0</td>\n",
       "      <td>27.6</td>\n",
       "      <td>28.3</td>\n",
       "      <td>18.5</td>\n",
       "      <td>41.9</td>\n",
       "      <td>15528.0</td>\n",
       "      <td>74.0</td>\n",
       "    </tr>\n",
       "    <tr>\n",
       "      <th>3</th>\n",
       "      <td>3</td>\n",
       "      <td>11495832.0</td>\n",
       "      <td>JB500163</td>\n",
       "      <td>2018-11-02 08:20:00</td>\n",
       "      <td>083XX S HALSTED ST</td>\n",
       "      <td>0484</td>\n",
       "      <td>BATTERY</td>\n",
       "      <td>PRO EMP HANDS NO/MIN INJURY</td>\n",
       "      <td>STREET</td>\n",
       "      <td>False</td>\n",
       "      <td>...</td>\n",
       "      <td>20.0</td>\n",
       "      <td>236.0</td>\n",
       "      <td>Auburn Gresham</td>\n",
       "      <td>4.0</td>\n",
       "      <td>27.6</td>\n",
       "      <td>28.3</td>\n",
       "      <td>18.5</td>\n",
       "      <td>41.9</td>\n",
       "      <td>15528.0</td>\n",
       "      <td>74.0</td>\n",
       "    </tr>\n",
       "    <tr>\n",
       "      <th>4</th>\n",
       "      <td>4</td>\n",
       "      <td>11501552.0</td>\n",
       "      <td>JB508324</td>\n",
       "      <td>2018-11-08 11:00:00</td>\n",
       "      <td>087XX S RACINE AVE</td>\n",
       "      <td>0810</td>\n",
       "      <td>THEFT</td>\n",
       "      <td>OVER $500</td>\n",
       "      <td>SIDEWALK</td>\n",
       "      <td>False</td>\n",
       "      <td>...</td>\n",
       "      <td>9.0</td>\n",
       "      <td>244.0</td>\n",
       "      <td>Auburn Gresham</td>\n",
       "      <td>4.0</td>\n",
       "      <td>27.6</td>\n",
       "      <td>28.3</td>\n",
       "      <td>18.5</td>\n",
       "      <td>41.9</td>\n",
       "      <td>15528.0</td>\n",
       "      <td>74.0</td>\n",
       "    </tr>\n",
       "  </tbody>\n",
       "</table>\n",
       "<p>5 rows × 39 columns</p>\n",
       "</div>"
      ],
      "text/plain": [
       "   Unnamed: 0          ID Case Number                 Date  \\\n",
       "0           0  10778514.0    HZ544820  2016-12-08 17:23:00   \n",
       "1           1  11411914.0    JB390837  2018-08-12 22:00:00   \n",
       "2           2  11510038.0    JB519570  2018-11-17 14:49:00   \n",
       "3           3  11495832.0    JB500163  2018-11-02 08:20:00   \n",
       "4           4  11501552.0    JB508324  2018-11-08 11:00:00   \n",
       "\n",
       "                Block  IUCR   Primary Type                  Description  \\\n",
       "0      079XX S MAY ST  0820          THEFT               $500 AND UNDER   \n",
       "1     013XX W 76TH ST  0560        ASSAULT                       SIMPLE   \n",
       "2   079XX S BISHOP ST  502P  OTHER OFFENSE     FALSE/STOLEN/ALTERED TRP   \n",
       "3  083XX S HALSTED ST  0484        BATTERY  PRO EMP HANDS NO/MIN INJURY   \n",
       "4  087XX S RACINE AVE  0810          THEFT                    OVER $500   \n",
       "\n",
       "  Location Description Arrest  ... Police Districts  Police Beats  \\\n",
       "0            APARTMENT  False  ...             20.0         230.0   \n",
       "1            APARTMENT  False  ...             20.0         230.0   \n",
       "2               STREET  False  ...             20.0         230.0   \n",
       "3               STREET  False  ...             20.0         236.0   \n",
       "4             SIDEWALK  False  ...              9.0         244.0   \n",
       "\n",
       "   COMMUNITY AREA NAME  PERCENT OF HOUSING CROWDED  \\\n",
       "0       Auburn Gresham                         4.0   \n",
       "1       Auburn Gresham                         4.0   \n",
       "2       Auburn Gresham                         4.0   \n",
       "3       Auburn Gresham                         4.0   \n",
       "4       Auburn Gresham                         4.0   \n",
       "\n",
       "   PERCENT HOUSEHOLDS BELOW POVERTY PERCENT AGED 16+ UNEMPLOYED  \\\n",
       "0                              27.6                        28.3   \n",
       "1                              27.6                        28.3   \n",
       "2                              27.6                        28.3   \n",
       "3                              27.6                        28.3   \n",
       "4                              27.6                        28.3   \n",
       "\n",
       "   PERCENT AGED 25+ WITHOUT HIGH SCHOOL DIPLOMA  \\\n",
       "0                                          18.5   \n",
       "1                                          18.5   \n",
       "2                                          18.5   \n",
       "3                                          18.5   \n",
       "4                                          18.5   \n",
       "\n",
       "   PERCENT AGED UNDER 18 OR OVER 64  PER CAPITA INCOME  HARDSHIP INDEX  \n",
       "0                              41.9             15528.0           74.0  \n",
       "1                              41.9             15528.0           74.0  \n",
       "2                              41.9             15528.0           74.0  \n",
       "3                              41.9             15528.0           74.0  \n",
       "4                              41.9             15528.0           74.0  \n",
       "\n",
       "[5 rows x 39 columns]"
      ]
     },
     "execution_count": 159,
     "metadata": {},
     "output_type": "execute_result"
    }
   ],
   "source": [
    "df.head()"
   ]
  },
  {
   "cell_type": "markdown",
   "metadata": {},
   "source": [
    "### Crime Definitions:\n",
    " * **THEFT**: Steal something which belongs to someone else.\n",
    " * **BATTERY**: Cause physical harm to another person.\n",
    " * **CRIMINAL**: Destroying or damaging property.\n",
    " * **ASSAULT**: Threaten physical harm to another person.\n",
    " * **DECEPTIVE PRACTICE**: Attempt to deceive or defraud a person or business. \n",
    " * **BURGLARY**: Breaking into someone's house with the intent of stealing.\n",
    " * **ROBBERY**: Stealing from someone with threats of violence (e.g. mugging)."
   ]
  },
  {
   "cell_type": "code",
   "execution_count": 160,
   "metadata": {},
   "outputs": [
    {
     "data": {
      "image/png": "[encoded data removed]",
      "text/plain": [
       "<Figure size 1440x504 with 1 Axes>"
      ]
     },
     "metadata": {
      "needs_background": "light"
     },
     "output_type": "display_data"
    }
   ],
   "source": [
    "names = df['Primary Type'].value_counts().keys().tolist()\n",
    "counts = df['Primary Type'].value_counts().tolist()\n",
    "df_count = pd.DataFrame()\n",
    "df_count['Primary Type'] = names\n",
    "df_count['Count'] = counts\n",
    "df_count.head(3)\n",
    "\n",
    "fig, axes = plt.subplots(ncols = 1, figsize = (20,7))\n",
    "sns.barplot(y = df_count['Count'], x = df_count['Primary Type'], ax = axes)\n",
    "axes.set_xlabel(\"Crime Count\")\n",
    "axes.set_xlabel(\"Primary Type\")\n",
    "axes.set_xticklabels(axes.xaxis.get_majorticklabels(), rotation=90)\n",
    "fig.suptitle('Number of Crimes per Type', fontsize=20)\n",
    "plt.show()"
   ]
  },
  {
   "cell_type": "markdown",
   "metadata": {},
   "source": [
    "### Violent Crimes\n",
    "* **BATTERY**\n",
    "* **ASSAULT**\n",
    "* **ROBBERY**\n",
    "* **CRIMINAL SEXUAL ASSAULT**\n",
    "* **KIDNAPPING**\n",
    "* **HOMICIDE**\n",
    "* **ARSON**"
   ]
  },
  {
   "cell_type": "code",
   "execution_count": 161,
   "metadata": {},
   "outputs": [],
   "source": [
    "violent_crime = df[df['Primary Type'].isin(\n",
    "    ['BATTERY', 'ASSAULT', 'ROBBERY', 'CRIM SEXUAL ASSAULT', 'HOMICIDE', 'KIDNAPPING', 'ARSON'])]\n",
    "nonviolent_crime = df[~df['Primary Type'].isin(\n",
    "    ['BATTERY', 'ASSAULT', 'ROBBERY', 'CRIM SEXUAL ASSAULT', 'HOMICIDE', 'KIDNAPPING', 'ARSON'])]"
   ]
  },
  {
   "cell_type": "markdown",
   "metadata": {},
   "source": [
    "**The following function  helps us to determine the location of crime(including residential and non residential areas) and based on which we can analyse that in which location crime occurs frequently.**"
   ]
  },
  {
   "cell_type": "code",
   "execution_count": 162,
   "metadata": {},
   "outputs": [],
   "source": [
    "def crime_locations(data, description):\n",
    "    names = data.value_counts().keys().tolist()\n",
    "    counts = data.value_counts().tolist()\n",
    "    total = len(data)\n",
    "    print(description)\n",
    "    for i in range(5):\n",
    "        percentage = (counts[i] / total) * 100\n",
    "        print('{}: {}%'.format(names[i], int(round(percentage, 0))))\n",
    "    print()"
   ]
  },
  {
   "cell_type": "code",
   "execution_count": 163,
   "metadata": {},
   "outputs": [
    {
     "name": "stdout",
     "output_type": "stream",
     "text": [
      "Top 5 locations of crime by percentage of crime which occured there\n",
      "All Crime\n",
      "STREET: 23%\n",
      "RESIDENCE: 16%\n",
      "APARTMENT: 13%\n",
      "SIDEWALK: 9%\n",
      "OTHER: 4%\n",
      "\n",
      "Violent Crime\n",
      "APARTMENT: 20%\n",
      "STREET: 17%\n",
      "RESIDENCE: 16%\n",
      "SIDEWALK: 15%\n",
      "ALLEY: 3%\n",
      "\n",
      "Nonviolent Crime\n",
      "STREET: 26%\n",
      "RESIDENCE: 16%\n",
      "APARTMENT: 10%\n",
      "SIDEWALK: 6%\n",
      "OTHER: 5%\n",
      "\n"
     ]
    }
   ],
   "source": [
    "print('Top 5 locations of crime by percentage of crime which occured there')\n",
    "crime_locations(df['Location Description'], 'All Crime')\n",
    "crime_locations(violent_crime['Location Description'], 'Violent Crime')\n",
    "crime_locations(nonviolent_crime['Location Description'], 'Nonviolent Crime')"
   ]
  },
  {
   "cell_type": "markdown",
   "metadata": {},
   "source": [
    "### INFERENCES:\n",
    "**VIOLENT CRIME**: As seen in the above result, the percentage of violent crime is highest in the apartment which is 20%. The main reason could be that apartments might be more approachable for a criminal to break in and perform theft, sexual assault,etc.\n",
    "\n",
    "**NON VIOLENT CRIME**: Crime such as kidnapping or battery are most commonly seen on streets (26%). The reason behind this is that most criminals may tend to kidnap people on some isolated streets."
   ]
  },
  {
   "cell_type": "code",
   "execution_count": 164,
   "metadata": {},
   "outputs": [
    {
     "data": {
      "text/plain": [
       "STREET                                             5588\n",
       "RESIDENCE                                          3858\n",
       "APARTMENT                                          3142\n",
       "SIDEWALK                                           2088\n",
       "OTHER                                               932\n",
       "PARKING LOT/GARAGE(NON.RESID.)                      716\n",
       "SMALL RETAIL STORE                                  590\n",
       "RESTAURANT                                          584\n",
       "RESIDENTIAL YARD (FRONT/BACK)                       463\n",
       "ALLEY                                               454\n",
       "VEHICLE NON-COMMERCIAL                              440\n",
       "RESIDENCE PORCH/HALLWAY                             436\n",
       "DEPARTMENT STORE                                    408\n",
       "RESIDENCE-GARAGE                                    399\n",
       "SCHOOL, PUBLIC, BUILDING                            336\n",
       "GAS STATION                                         331\n",
       "GROCERY FOOD STORE                                  267\n",
       "PARK PROPERTY                                       190\n",
       "BAR OR TAVERN                                       183\n",
       "CONVENIENCE STORE                                   159\n",
       "COMMERCIAL / BUSINESS OFFICE                        147\n",
       "CTA TRAIN                                           132\n",
       "HOTEL/MOTEL                                         132\n",
       "HOSPITAL BUILDING/GROUNDS                           124\n",
       "CTA BUS                                             100\n",
       "VACANT LOT/LAND                                      98\n",
       "DRUG STORE                                           95\n",
       "SCHOOL, PUBLIC, GROUNDS                              94\n",
       "NURSING HOME/RETIREMENT HOME                         88\n",
       "CTA STATION                                          85\n",
       "                                                   ... \n",
       "AIRPORT VENDING ESTABLISHMENT                         6\n",
       "PAWN SHOP                                             6\n",
       "APPLIANCE STORE                                       6\n",
       "ANIMAL HOSPITAL                                       6\n",
       "VEHICLE - OTHER RIDE SERVICE                          6\n",
       "LAKEFRONT/WATERFRONT/RIVERBANK                        5\n",
       "HIGHWAY/EXPRESSWAY                                    5\n",
       "CAR WASH                                              5\n",
       "AUTO                                                  5\n",
       "AIRPORT BUILDING NON-TERMINAL - NON-SECURE AREA       5\n",
       "VEHICLE - DELIVERY TRUCK                              4\n",
       "POOL ROOM                                             4\n",
       "AIRPORT/AIRCRAFT                                      4\n",
       "AIRPORT EXTERIOR - SECURE AREA                        4\n",
       "BRIDGE                                                4\n",
       "COLLEGE/UNIVERSITY RESIDENCE HALL                     3\n",
       "PORCH                                                 3\n",
       "NEWSSTAND                                             3\n",
       "BOAT/WATERCRAFT                                       3\n",
       "BOWLING ALLEY                                         3\n",
       "COIN OPERATED MACHINE                                 3\n",
       "HOUSE                                                 2\n",
       "YARD                                                  2\n",
       "FEDERAL BUILDING                                      2\n",
       "CEMETARY                                              2\n",
       "FIRE STATION                                          2\n",
       "OFFICE                                                1\n",
       "AIRPORT TRANSPORTATION SYSTEM (ATS)                   1\n",
       "FOREST PRESERVE                                       1\n",
       "PARKING LOT                                           1\n",
       "Name: Location Description, Length: 105, dtype: int64"
      ]
     },
     "execution_count": 164,
     "metadata": {},
     "output_type": "execute_result"
    }
   ],
   "source": [
    "df['Location Description'].value_counts()"
   ]
  },
  {
   "cell_type": "markdown",
   "metadata": {},
   "source": [
    "# Percentage of Arrest for each crime sub-group"
   ]
  },
  {
   "cell_type": "code",
   "execution_count": 165,
   "metadata": {},
   "outputs": [
    {
     "data": {
      "image/png": "[encoded data removed]",
      "text/plain": [
       "<Figure size 1080x504 with 1 Axes>"
      ]
     },
     "metadata": {},
     "output_type": "display_data"
    }
   ],
   "source": [
    "df_nonviolent_arrest = t.crime_proximity(nonviolent_crime, 'Arrest', 0)\n",
    "t.pie(df_nonviolent_arrest, 'Percentage')"
   ]
  },
  {
   "cell_type": "code",
   "execution_count": 166,
   "metadata": {},
   "outputs": [
    {
     "data": {
      "image/png": "[encoded data removed]",
      "text/plain": [
       "<Figure size 1080x504 with 1 Axes>"
      ]
     },
     "metadata": {},
     "output_type": "display_data"
    }
   ],
   "source": [
    "df_violent_arrest = t.crime_proximity(violent_crime, 'Arrest', 0)\n",
    "t.pie(df_nonviolent_arrest, 'Percentage')"
   ]
  },
  {
   "cell_type": "markdown",
   "metadata": {},
   "source": [
    "### INFERENCES:\n",
    "A very small percentage of arrest in all the three categories can be noticed above. Though all the values for arrest rates are low but rate for non violent crime is higher than violent crime. \n",
    "Although, the police and government should be strict in arresting criminals for all types of crimes but looking at a low arrest rate of violent crime is non satisfactory. This may be due to ignorance of so many crimes occuring,lack of security, higher rate of crimes which cannot be handled by the police.\n",
    "\n"
   ]
  },
  {
   "cell_type": "code",
   "execution_count": 167,
   "metadata": {},
   "outputs": [
    {
     "data": {
      "image/png": "[encoded data removed]",
      "text/plain": [
       "<Figure size 1440x504 with 1 Axes>"
      ]
     },
     "metadata": {
      "needs_background": "light"
     },
     "output_type": "display_data"
    }
   ],
   "source": [
    "df_comm_area_count = t.crime_proximity(nonviolent_crime, 'Community Area', 1.5)\n",
    "t.community_proximity_bar(df_comm_area_count, 'Count')"
   ]
  },
  {
   "cell_type": "markdown",
   "metadata": {},
   "source": [
    "**The following function  helps us to determine the percentage of crime distribution in top five community areas(Austin,Near North Side,Loop,Near West Side, North Lawndale).**"
   ]
  },
  {
   "cell_type": "code",
   "execution_count": 168,
   "metadata": {},
   "outputs": [],
   "source": [
    "def distribution(data, description):\n",
    "    names = data.value_counts().keys().tolist()\n",
    "    counts = data.value_counts().tolist()\n",
    "    total = len(data)\n",
    "    print(description)\n",
    "    for i in range(5):\n",
    "        print('{}: {}'.format(names[i], counts[i]))\n",
    "    print()"
   ]
  },
  {
   "cell_type": "code",
   "execution_count": 169,
   "metadata": {},
   "outputs": [
    {
     "name": "stdout",
     "output_type": "stream",
     "text": [
      "Top 5 community areas for crime\n",
      "\n",
      "All Crime\n",
      "Austin: 1409\n",
      "Near North Side: 1020\n",
      "Loop: 907\n",
      "Near West Side: 804\n",
      "North Lawndale: 791\n",
      "\n",
      "Violent Crime\n",
      "Austin: 543\n",
      "South Shore: 327\n",
      "North Lawndale: 267\n",
      "Auburn Gresham: 258\n",
      "Humboldt park: 253\n",
      "\n",
      "Nonviolent Crime\n",
      "Austin: 866\n",
      "Near North Side: 806\n",
      "Loop: 758\n",
      "Near West Side: 602\n",
      "West Town: 545\n",
      "\n"
     ]
    }
   ],
   "source": [
    "print('Top 5 community areas for crime\\n')\n",
    "distribution(df['COMMUNITY AREA NAME'], 'All Crime')\n",
    "distribution(violent_crime['COMMUNITY AREA NAME'], 'Violent Crime')\n",
    "distribution(nonviolent_crime['COMMUNITY AREA NAME'], 'Nonviolent Crime')"
   ]
  },
  {
   "cell_type": "markdown",
   "metadata": {},
   "source": [
    "### INFERENCES:\n",
    "Maximum number of crimes occur in Austin followed by Near North Side, Loop, Near West Side, North Lawndale. This may be due to the absence of police stations, isolated areas, unemployment, poverty which in some cases may lead to attempt in crime like robbery, theft, assault and other crimes. "
   ]
  },
  {
   "cell_type": "markdown",
   "metadata": {},
   "source": [
    "## DATA PRE-PROCESSING"
   ]
  },
  {
   "cell_type": "markdown",
   "metadata": {},
   "source": [
    "\n",
    "\n",
    "\n",
    "***One-hot Encoding*** : One hot encoding is a process of converting categorical variables into a form that is provided to machine learning algorithm to do a easier job. \n",
    "In this project, we are using one-hot encoder to convert following features:\n",
    "* *Location Description*: The describes about location of crime.\n",
    "* *Community Area* : Name of the community are where crime occurred.\n",
    "* *Primary Type* : The type of crime committed."
   ]
  },
  {
   "cell_type": "code",
   "execution_count": 170,
   "metadata": {},
   "outputs": [
    {
     "name": "stdout",
     "output_type": "stream",
     "text": [
      "[0. 0. 0. 0. 0. 0. 0. 0. 0. 0. 0. 0. 0. 0. 0. 0. 1. 0. 0. 0. 0. 0. 0. 0.\n",
      " 0. 0. 0. 0. 0. 0. 0. 0. 0. 0. 0. 0. 0. 0. 0. 0. 0. 0. 0. 0. 0. 0. 0. 0.\n",
      " 0. 0. 0. 0. 0. 0. 0. 0. 0. 0. 0. 0. 0. 0. 0. 0. 0. 0. 0. 0. 0. 0. 0. 0.\n",
      " 0. 0. 0. 0. 0. 0. 0. 0. 0. 0. 0. 0. 0. 0. 0. 0. 0. 0. 0. 0. 0. 0. 0. 0.\n",
      " 0. 0. 0. 0. 0. 0. 0. 0. 0.]\n"
     ]
    }
   ],
   "source": [
    "oh_enc = OneHotEncoder(sparse=False)\n",
    "location_description_enc = oh_enc.fit_transform(df['Location Description'].values.reshape(-1, 1))\n",
    "print(location_description_enc[0])"
   ]
  },
  {
   "cell_type": "code",
   "execution_count": 171,
   "metadata": {},
   "outputs": [
    {
     "name": "stdout",
     "output_type": "stream",
     "text": [
      "[0. 0. 0. 0. 1. 0. 0. 0. 0. 0. 0. 0. 0. 0. 0. 0. 0. 0. 0. 0. 0. 0. 0. 0.\n",
      " 0. 0. 0. 0. 0. 0. 0. 0. 0. 0. 0. 0. 0. 0. 0. 0. 0. 0. 0. 0. 0. 0. 0. 0.\n",
      " 0. 0. 0. 0. 0. 0. 0. 0. 0. 0. 0. 0. 0. 0. 0. 0. 0. 0. 0. 0. 0. 0. 0. 0.\n",
      " 0. 0. 0. 0. 0.]\n"
     ]
    }
   ],
   "source": [
    "oh_enc = OneHotEncoder(sparse=False)\n",
    "community_area_enc = oh_enc.fit_transform(df['COMMUNITY AREA NAME'].values.reshape(-1, 1))\n",
    "print(community_area_enc[0])"
   ]
  },
  {
   "cell_type": "code",
   "execution_count": 172,
   "metadata": {},
   "outputs": [
    {
     "name": "stdout",
     "output_type": "stream",
     "text": [
      "[0. 0. 0. 0. 0. 0. 0. 0. 0. 0. 0. 0. 0. 0. 0. 0. 0. 0. 0. 0. 0. 0. 0. 0.\n",
      " 0. 0. 0. 1. 0.]\n"
     ]
    }
   ],
   "source": [
    "oh_enc = OneHotEncoder(sparse=False)\n",
    "crime_type_enc = oh_enc.fit_transform(df['Primary Type'].values.reshape(-1, 1))\n",
    "print(crime_type_enc[0])"
   ]
  },
  {
   "cell_type": "markdown",
   "metadata": {},
   "source": [
    "***Ordinal Encoding***- This uses a single column to represent classes. Here, ordinal encoding is a string ( True or False) which states  whether the police have made an arrest for this crime. We will convert this feature using an original encoder so that it can be used in a machine learning model."
   ]
  },
  {
   "cell_type": "code",
   "execution_count": 173,
   "metadata": {},
   "outputs": [],
   "source": [
    "ord_enc = OrdinalEncoder()\n",
    "arrest_ord_enc = ord_enc.fit_transform(df['Arrest'].values.reshape(-1, 1))"
   ]
  },
  {
   "cell_type": "code",
   "execution_count": 174,
   "metadata": {},
   "outputs": [],
   "source": [
    "ord_enc = OrdinalEncoder()\n",
    "domestic_ord_enc = ord_enc.fit_transform(df['Domestic'].values.reshape(-1, 1))"
   ]
  },
  {
   "cell_type": "markdown",
   "metadata": {},
   "source": [
    "***Bucketing*** - Bucketing means putting in different categories. A new feature 'income' is being created from the 'per capita income' where 'high', 'medium' and 'low' are identified as buckets. \n",
    "* *An inbuilt library from sklearn- \"KBinsDiscretizer\" is being used.*"
   ]
  },
  {
   "cell_type": "code",
   "execution_count": 175,
   "metadata": {},
   "outputs": [],
   "source": [
    "def bin_edges(d, title):\n",
    "    print(title, 'ranges of each bin:')\n",
    "    for i in range(1, len(d)):\n",
    "        print('Bin {}: {} to {}'.format(i, d[i - 1], d[i]))\n",
    "    print('')"
   ]
  },
  {
   "cell_type": "code",
   "execution_count": 176,
   "metadata": {},
   "outputs": [
    {
     "name": "stdout",
     "output_type": "stream",
     "text": [
      "Bucket income ranges of each bin:\n",
      "Bin 1: 8201.0 to 15957.0\n",
      "Bin 2: 15957.0 to 24336.0\n",
      "Bin 3: 24336.0 to 88669.0\n",
      "\n",
      "Distribution of values in bins:\n",
      "1.0    8266\n",
      "2.0    8213\n",
      "0.0    7648\n",
      "Name: bucket_income, dtype: int64\n"
     ]
    }
   ],
   "source": [
    "disc = KBinsDiscretizer(n_bins=3, encode='ordinal')\n",
    "bucket_income = disc.fit_transform(df['PER CAPITA INCOME '].values.reshape(-1, 1))\n",
    "bin_edges(disc.bin_edges_[0], 'Bucket income')\n",
    "df['bucket_income'] = bucket_income\n",
    "print('Distribution of values in bins:')\n",
    "print(df['bucket_income'].value_counts())"
   ]
  },
  {
   "cell_type": "code",
   "execution_count": 177,
   "metadata": {},
   "outputs": [
    {
     "name": "stdout",
     "output_type": "stream",
     "text": [
      "Latitude ranges of each bin:\n",
      "Bin 1: 41.647924640999996 to 41.759324223600004\n",
      "Bin 2: 41.759324223600004 to 41.81373832039999\n",
      "Bin 3: 41.81373832039999 to 41.881512491\n",
      "Bin 4: 41.881512491 to 41.918329869\n",
      "Bin 5: 41.918329869 to 42.022536147\n",
      "\n",
      "Longitude ranges of each bin:\n",
      "Bin 1: -87.914869723 to -87.7230788748\n",
      "Bin 2: -87.7230788748 to -87.6838677316\n",
      "Bin 3: -87.6838677316 to -87.64979390760001\n",
      "Bin 4: -87.64979390760001 to -87.62378751860001\n",
      "Bin 5: -87.62378751860001 to -87.525749601\n",
      "\n"
     ]
    }
   ],
   "source": [
    "disc = KBinsDiscretizer(n_bins=5, encode='onehot-dense')\n",
    "bucket_latitude = disc.fit_transform(df['Latitude'].values.reshape(-1, 1))\n",
    "bin_edges(disc.bin_edges_[0], 'Latitude')\n",
    "disc = KBinsDiscretizer(n_bins=5, encode='onehot-dense')\n",
    "bucket_longitude = disc.fit_transform(df['Longitude'].values.reshape(-1, 1))\n",
    "bin_edges(disc.bin_edges_[0], 'Longitude')"
   ]
  },
  {
   "cell_type": "markdown",
   "metadata": {},
   "source": [
    "## CREATING SYNTHETIC FEATURES\n",
    "### Feature Engineering: \n",
    "Feature engineering is the process of using domain knowledge of the data to create features that make machine learning algorithms work. Synthetic features is a form of feature engineering. We create folloeing features:\n",
    "* Time of day\n",
    "* Weekend\n",
    "* Violent crime"
   ]
  },
  {
   "cell_type": "code",
   "execution_count": 178,
   "metadata": {},
   "outputs": [
    {
     "data": {
      "text/plain": [
       "day              12452\n",
       "night             7510\n",
       "early morning     4165\n",
       "Name: hour, dtype: int64"
      ]
     },
     "execution_count": 178,
     "metadata": {},
     "output_type": "execute_result"
    }
   ],
   "source": [
    "def time_of_day(x):\n",
    "    time = x[-8:]\n",
    "    hour = int(time[:2])\n",
    "    if hour <= 6:\n",
    "        return 'early morning'\n",
    "    if hour > 6 and hour < 18:\n",
    "        return 'day'\n",
    "    return 'night'\n",
    "\n",
    "df['hour'] = df['Date'].map(lambda x: time_of_day(x))\n",
    "df['hour'].value_counts()"
   ]
  },
  {
   "cell_type": "code",
   "execution_count": 179,
   "metadata": {},
   "outputs": [],
   "source": [
    "oh_enc = OneHotEncoder(sparse=False)\n",
    "hour_enc = oh_enc.fit_transform(df['hour'].values.reshape(-1, 1))"
   ]
  },
  {
   "cell_type": "code",
   "execution_count": 180,
   "metadata": {},
   "outputs": [],
   "source": [
    "def is_weekend(x):\n",
    "    dt = datetime.strptime(x, '%Y-%m-%d %H:%M:%S')\n",
    "    day = dt.weekday()\n",
    "    if day < 5:\n",
    "        return 0\n",
    "    return 1"
   ]
  },
  {
   "cell_type": "code",
   "execution_count": 181,
   "metadata": {},
   "outputs": [
    {
     "data": {
      "text/plain": [
       "0    17247\n",
       "1     6880\n",
       "Name: is_weekend, dtype: int64"
      ]
     },
     "execution_count": 181,
     "metadata": {},
     "output_type": "execute_result"
    }
   ],
   "source": [
    "df['is_weekend'] = df['Date'].map(lambda x: is_weekend(x))\n",
    "df['is_weekend'].value_counts()"
   ]
  },
  {
   "cell_type": "code",
   "execution_count": 182,
   "metadata": {},
   "outputs": [],
   "source": [
    "weekend_enc = df['is_weekend'].values.reshape(-1, 1)"
   ]
  },
  {
   "cell_type": "code",
   "execution_count": 183,
   "metadata": {},
   "outputs": [],
   "source": [
    "def is_violent(x):\n",
    "    if x in ['BATTERY', 'ASSAULT', 'ROBBERY', 'CRIM SEXUAL ASSAULT', 'HOMICIDE', 'KIDNAPPING', 'ARSON']:\n",
    "        return 1\n",
    "    return 0"
   ]
  },
  {
   "cell_type": "code",
   "execution_count": 184,
   "metadata": {},
   "outputs": [
    {
     "data": {
      "text/plain": [
       "0    16516\n",
       "1     7611\n",
       "Name: is_violent, dtype: int64"
      ]
     },
     "execution_count": 184,
     "metadata": {},
     "output_type": "execute_result"
    }
   ],
   "source": [
    "df['is_violent'] = df['Primary Type'].map(lambda x: is_violent(x))\n",
    "df['is_violent'].value_counts()"
   ]
  },
  {
   "cell_type": "code",
   "execution_count": 185,
   "metadata": {},
   "outputs": [],
   "source": [
    "violent_enc = df['is_violent'].values.reshape(-1, 1)"
   ]
  },
  {
   "cell_type": "markdown",
   "metadata": {},
   "source": [
    "## Predicting Where Crimes Occur\n",
    "This is framed as a three-class classification problem, where the labels are: low wealth, moderate wealth, and high wealth areas. This feature was created by binning the income per capita of the community area in which the crime occured."
   ]
  },
  {
   "cell_type": "markdown",
   "metadata": {},
   "source": [
    "### Creating Training and Test Data\n",
    "The training data will be used to train the model, while the test data for evaluation. A seperate test set simulates how the model generalises to new data and helps us find models that are overfitting to training data.\n",
    "The processed data is combined into 'X (features) array' and 'y (labels) array'. This will then be split into train and test sets by the sklearn train_test_split function."
   ]
  },
  {
   "cell_type": "code",
   "execution_count": 186,
   "metadata": {},
   "outputs": [],
   "source": [
    "X = np.concatenate((arrest_ord_enc, hour_enc, weekend_enc, violent_enc, domestic_ord_enc, location_description_enc, crime_type_enc, bucket_latitude, bucket_longitude), axis=1)\n",
    "y = bucket_income\n",
    "X_train, X_test, y_train, y_test = train_test_split(X, y.ravel(), random_state=1)"
   ]
  },
  {
   "cell_type": "markdown",
   "metadata": {},
   "source": [
    "* **Logistic regression**-Logistic regression is a statistical model that in its basic form uses a logistic function to model a binary dependent variable, although many more complex extensions exist. In regression analysis, logistic regression is estimating the parameters of a logistic model (a form of binary regression).\n",
    "* **Support vector Machine**-Support vector machines (SVMs) are a set of supervised learning methods used for classification, regression and outliers detection.\n",
    "* **K nearest neighbors**-KNN is a non-parametric, lazy learning algorithm. When we say a technique is non-parametric, it means that it does not make any assumptions about the underlying data. In other words, it makes its selection based off of the proximity to other data points regardless of what feature the numerical values represent. Being a lazy learning algorithm implies that there is little to no training phase. Therefore, we can immediately classify new data points as they present themselves.\n",
    "* **Neural Network**-Neural networks (NN), also called artificial neural networks (ANN) are a subset of learning algorithms within the machine learning field that are loosely based on the concept of biological neural networks.Basically, an ANN comprises of the following components: \n",
    "- An input layer that receives data and pass it on\n",
    "- A hidden layer\n",
    "- An output layer\n",
    "- Weights between the layers"
   ]
  },
  {
   "cell_type": "markdown",
   "metadata": {},
   "source": [
    "### Logistic Regression (baseline)\n",
    "The simplist type of model, logisitc regression, will be compared to the other techniques to find the best performing model."
   ]
  },
  {
   "cell_type": "code",
   "execution_count": 187,
   "metadata": {},
   "outputs": [],
   "source": [
    "def plot_confusion_matrix(title, actual, predicted, classes, figsize = (10,7)):\n",
    "    matrix = confusion_matrix(actual, predicted)\n",
    "    df_cm = pd.DataFrame(\n",
    "        matrix, index=classes, columns=classes, \n",
    "    )\n",
    "    fig = plt.figure(figsize=figsize)\n",
    "    heatmap = sns.heatmap(df_cm, annot=True, fmt=\"d\", cmap=plt.cm.Blues)\n",
    "    heatmap.yaxis.set_ticklabels(heatmap.yaxis.get_ticklabels(), rotation=0, ha='right')\n",
    "    heatmap.xaxis.set_ticklabels(heatmap.xaxis.get_ticklabels(), rotation=45, ha='right')\n",
    "    title = title + ' Confusion Matrix'\n",
    "    plt.title(title)\n",
    "    plt.ylabel('Actual')\n",
    "    plt.xlabel('Predicted')"
   ]
  },
  {
   "cell_type": "code",
   "execution_count": 188,
   "metadata": {},
   "outputs": [
    {
     "name": "stdout",
     "output_type": "stream",
     "text": [
      "Train Accuracy:  0.7129593810444874\n",
      "Test Accuracy:  0.718501326259947\n"
     ]
    },
    {
     "data": {
      "image/png": "[encoded data removed]",
      "text/plain": [
       "<Figure size 720x504 with 2 Axes>"
      ]
     },
     "metadata": {
      "needs_background": "light"
     },
     "output_type": "display_data"
    }
   ],
   "source": [
    "model = LogisticRegression(solver='liblinear', multi_class='auto')\n",
    "model.fit(X_train, y_train)\n",
    "print('Train Accuracy: ', model.score(X_train, y_train))\n",
    "print('Test Accuracy: ', model.score(X_test, y_test))\n",
    "model_pred = model.predict(X_test)\n",
    "model_classes = ['Low', 'Medium', 'High']\n",
    "plot_confusion_matrix('Logistic Regression', y_test, model_pred, model_classes)"
   ]
  },
  {
   "cell_type": "markdown",
   "metadata": {},
   "source": [
    "#### Baseline Results\n",
    "An almost 72% accuracy isn't too bad for a three-class classification problem, as random chance is only 33% accuracy. The model is definitely learning useful information from the data to make predictions. The train and test accuracies indicate that the model isn't overfitting."
   ]
  },
  {
   "cell_type": "markdown",
   "metadata": {},
   "source": [
    "### Support Vector Machine Model (SVM)"
   ]
  },
  {
   "cell_type": "code",
   "execution_count": null,
   "metadata": {},
   "outputs": [],
   "source": [
    "svm_model = SVC(gamma='auto')\n",
    "svm_model.fit(X_train, y_train)\n",
    "print('Train Accuracy: ', svm_model.score(X_train, y_train))\n",
    "print('Test Accuracy: ', svm_model.score(X_test, y_test))\n",
    "model_pred = svm_model.predict(X_test)\n",
    "plot_confusion_matrix('SVM', y_test, model_pred, model_classes)"
   ]
  },
  {
   "cell_type": "markdown",
   "metadata": {},
   "source": [
    "#### SVM Results\n",
    "Was the slowest model to train and had the weakest performance of any model. It did correctly predict medium income with a better accuracy than the baseline, but was worse at predicting crime that would occur in low and high income areas. The train and test accuracies indicate that the model isn't overfitting. Surprisingly, the test accuracy is marginally higher than the train."
   ]
  },
  {
   "cell_type": "markdown",
   "metadata": {},
   "source": [
    "### K-Nearest Neighbors Model"
   ]
  },
  {
   "cell_type": "code",
   "execution_count": null,
   "metadata": {},
   "outputs": [],
   "source": [
    "knn_model = KNeighborsClassifier()\n",
    "knn_model.fit(X_train, y_train)\n",
    "print('Train Accuracy: ', knn_model.score(X_train, y_train))\n",
    "print('Test Accuracy: ', knn_model.score(X_test, y_test))\n",
    "model_pred = knn_model.predict(X_test)\n",
    "plot_confusion_matrix('KNN', y_test, model_pred, model_classes)"
   ]
  },
  {
   "cell_type": "markdown",
   "metadata": {},
   "source": [
    "#### KNN Results\n",
    "The KNN performed better than both the baseline and SVM at predicting crime in moderately-weathly areas, but performed worse than the baseline at about low and high income predictions. Overall, the accuracy of the KNN was slightly worse than the baseline. The train and test accuracies indicate that the model is overfitting as the test accuracy is about 8% lower than the train accuracy."
   ]
  },
  {
   "cell_type": "markdown",
   "metadata": {},
   "source": [
    "### Neural Network Model"
   ]
  },
  {
   "cell_type": "code",
   "execution_count": null,
   "metadata": {},
   "outputs": [],
   "source": [
    "nn_model = MLPClassifier(random_state=0, max_iter=10)\n",
    "nn_model.fit(X_train, y_train)\n",
    "print('Train Accuracy: ', nn_model.score(X_train, y_train))\n",
    "print('Test Accuracy: ', nn_model.score(X_test, y_test))\n",
    "model_pred = nn_model.predict(X_test)\n",
    "plot_confusion_matrix('Neural Network', y_test, model_pred, model_classes)"
   ]
  },
  {
   "cell_type": "markdown",
   "metadata": {},
   "source": [
    "#### Neural Network Results\n",
    "This model performed the best of all, with an almost 5% accuracy improvement over the baseline model. It made up that ground with a high level of accuracy for moderate-income areas, but performed to a comparable level to the baseline on low and high income predictions. The train and test accuracies indicate that the model isn't overfitting."
   ]
  },
  {
   "cell_type": "markdown",
   "metadata": {},
   "source": [
    "#### Neural Network Iteration Testing"
   ]
  },
  {
   "cell_type": "code",
   "execution_count": null,
   "metadata": {},
   "outputs": [],
   "source": [
    "train_scores = []\n",
    "test_scores = []\n",
    "iterations = []\n",
    "\n",
    "for i in range(10, 51, 10):\n",
    "    mlp = MLPClassifier(random_state=0, max_iter=i)\n",
    "    mlp.fit(X_train, y_train)\n",
    "    train_scores.append(mlp.score(X_train, y_train))\n",
    "    test_scores.append(mlp.score(X_test, y_test))\n",
    "    iterations.append(i)"
   ]
  },
  {
   "cell_type": "code",
   "execution_count": null,
   "metadata": {},
   "outputs": [],
   "source": [
    "plt.figure(figsize=(8, 6))    \n",
    "plt.plot(iterations, train_scores, label='Train')\n",
    "plt.plot(iterations, test_scores, label='Test')\n",
    "plt.ylabel('Accuracy')\n",
    "plt.xlabel('Iterations')\n",
    "plt.title('Neural network performance with iterations')\n",
    "leg = plt.legend()\n",
    "plt.grid(True)\n",
    "plt.show()"
   ]
  },
  {
   "cell_type": "markdown",
   "metadata": {},
   "source": [
    "**Iteration Observations**  \n",
    "Despite the complaints of the model not reaching convergence, the best result for test accuracy is actually the lowest number of iterations. Above 10 iterations the model starts overfitting the training data."
   ]
  },
  {
   "cell_type": "markdown",
   "metadata": {},
   "source": [
    "#### Neural Network Solver Testing"
   ]
  },
  {
   "cell_type": "code",
   "execution_count": null,
   "metadata": {},
   "outputs": [],
   "source": [
    "train_scores = []\n",
    "test_scores = []\n",
    "solvers = ['lbfgs','sgd', 'adam']\n",
    "for i in solvers:\n",
    "    mlp = MLPClassifier(solver=i, random_state=0, max_iter=10)\n",
    "    mlp.fit(X_train, y_train)\n",
    "    train_scores.append(mlp.score(X_train, y_train))\n",
    "    test_scores.append(mlp.score(X_test, y_test))"
   ]
  },
  {
   "cell_type": "code",
   "execution_count": null,
   "metadata": {},
   "outputs": [],
   "source": [
    "n_groups = 3\n",
    "index = np.arange(n_groups)\n",
    "plt.figure(figsize=(8, 6))\n",
    "bar_width = 0.4\n",
    "plt.bar(index, train_scores, bar_width, color='#5da5d1', label='Train')\n",
    "plt.bar(index + bar_width, test_scores, bar_width, color='#08306b', label='Test')\n",
    "plt.ylabel('Accuracy')\n",
    "plt.xlabel('Solver')\n",
    "plt.title('Neural network performance with solvers')\n",
    "leg = plt.legend()\n",
    "plt.xticks(index + bar_width/2, solvers)\n",
    "plt.grid(True)\n",
    "plt.tight_layout()\n",
    "plt.show()"
   ]
  },
  {
   "cell_type": "markdown",
   "metadata": {},
   "source": [
    "**Solver observations**  \n",
    "The adam solver, which is the default for the MLPClassifier, has a noticible improvement in accuracy over the others for this problem."
   ]
  },
  {
   "cell_type": "markdown",
   "metadata": {},
   "source": [
    "## Predicting violent crime\n",
    "This is a binary classification problem, where the labels are: nonviolent and violent. The features include: the time of day, whether an arrest occured, a description of the location, and what community area it took place in. Since this is now a binary classification problem, we can now easily use Receiver Operating Characteristic (ROC) Area Under Curve (AUC) as an additional metric to accuracy."
   ]
  },
  {
   "cell_type": "code",
   "execution_count": null,
   "metadata": {},
   "outputs": [],
   "source": [
    "X = np.concatenate((arrest_ord_enc, hour_enc, weekend_enc, domestic_ord_enc, location_description_enc, bucket_latitude, bucket_longitude, community_area_enc, bucket_income), axis=1)\n",
    "y = df['is_violent'].values\n",
    "X_train, X_test, y_train, y_test = train_test_split(X, y, random_state=1)\n",
    "encoder = OneHotEncoder()\n",
    "encoder.fit([[0], [1]])\n",
    "y_test_proba = encoder.transform(y_test.reshape(-1, 1)).toarray()"
   ]
  },
  {
   "cell_type": "markdown",
   "metadata": {},
   "source": [
    "### Logistic Regression (baseline)"
   ]
  },
  {
   "cell_type": "code",
   "execution_count": null,
   "metadata": {},
   "outputs": [],
   "source": [
    "model = LogisticRegression(solver='liblinear', multi_class='auto')\n",
    "model.fit(X_train, y_train)\n",
    "print('Train Accuracy: ', model.score(X_train, y_train))\n",
    "print('Test Accuracy: ', model.score(X_test, y_test))\n",
    "model_pred = model.predict(X_test)\n",
    "probabilities = model.predict_proba(X_test)\n",
    "print('ROC AUC: ', roc_auc_score(y_test_proba, probabilities))\n",
    "model_classes = ['Nonviolent', 'Violent']\n",
    "plot_confusion_matrix('Logistic Regression', y_test, model_pred, model_classes, figsize = (8,6))"
   ]
  },
  {
   "cell_type": "markdown",
   "metadata": {},
   "source": [
    "#### Baseline Results\n",
    "A 76% accuracy isn't incredible for a binary classification task, but the model is learning something from the data to perform 26% above random chance. Interestingly, the accuracy for nonviolent crime is significantly higher than for violent crime. The train and test accuracies indicate that the model isn't overfitting."
   ]
  },
  {
   "cell_type": "markdown",
   "metadata": {},
   "source": [
    "### Support Vector Machine Model"
   ]
  },
  {
   "cell_type": "code",
   "execution_count": null,
   "metadata": {},
   "outputs": [],
   "source": [
    "svm_model = SVC(gamma='auto', probability=True)\n",
    "svm_model.fit(X_train, y_train)\n",
    "print('Train Accuracy: ', svm_model.score(X_train, y_train))\n",
    "print('Test Accuracy: ', svm_model.score(X_test, y_test))\n",
    "model_pred = svm_model.predict(X_test)\n",
    "probabilities = svm_model.predict_proba(X_test)\n",
    "print('ROC AUC: ', roc_auc_score(y_test_proba, probabilities))\n",
    "plot_confusion_matrix('SVM', y_test, model_pred, model_classes, figsize = (8,6))"
   ]
  },
  {
   "cell_type": "markdown",
   "metadata": {},
   "source": [
    "#### SVM Results\n",
    "Accuracy and ROC AUC are both slightly lower than the baseline model, but interestingly it has the lowest number of false positives of any of the models (nonviolent crimes predicted incorrectly as violent). Unfortunately, it didn't do well at predicting violent crime: far more violent crimes were incorrectly predited to be nonviolent. The train and test accuracies indicate that the model isn't overfitting."
   ]
  },
  {
   "cell_type": "markdown",
   "metadata": {},
   "source": [
    "### K-Nearest Neighbours Model"
   ]
  },
  {
   "cell_type": "code",
   "execution_count": null,
   "metadata": {},
   "outputs": [],
   "source": [
    "knn_model = KNeighborsClassifier()\n",
    "knn_model.fit(X_train, y_train)\n",
    "print('Train Accuracy: ', knn_model.score(X_train, y_train))\n",
    "print('Test Accuracy: ', knn_model.score(X_test, y_test))\n",
    "model_pred = knn_model.predict(X_test)\n",
    "probabilities = knn_model.predict_proba(X_test)\n",
    "print('ROC AUC: ', roc_auc_score(y_test_proba, probabilities))\n",
    "plot_confusion_matrix('KNN', y_test, model_pred, model_classes, figsize = (8,6))"
   ]
  },
  {
   "cell_type": "markdown",
   "metadata": {},
   "source": [
    "#### KNN Results\n",
    "The KNN model was the weakest performing out of all the models. It was inferior in every aspect to the baseline model. The train and test accuracies indicate that the model is overfitting as the test accuracy is about 8% lower than the train accuracy."
   ]
  },
  {
   "cell_type": "markdown",
   "metadata": {},
   "source": [
    "#### Trying different numbers of neighbors\n",
    "Perhaps the default setting of 5 neighbors wasn't the best for this problem?"
   ]
  },
  {
   "cell_type": "code",
   "execution_count": null,
   "metadata": {},
   "outputs": [],
   "source": [
    "train_scores = []\n",
    "test_scores = []\n",
    "iterations = []\n",
    "\n",
    "for i in range(2, 8):\n",
    "    knn = KNeighborsClassifier(n_neighbors=i)\n",
    "    knn.fit(X_train, y_train)\n",
    "    train_scores.append(knn.score(X_train, y_train))\n",
    "    test_scores.append(knn.score(X_test, y_test))\n",
    "    iterations.append(i)\n",
    "\n",
    "plt.figure(figsize=(8, 6))    \n",
    "plt.plot(iterations, train_scores, label='Train')\n",
    "plt.plot(iterations, test_scores, label='Test')\n",
    "plt.ylabel('Accuracy')\n",
    "plt.xlabel('Iterations')\n",
    "plt.title('KNN performance with number of neighbors')\n",
    "leg = plt.legend()\n",
    "plt.grid(True)\n",
    "plt.show()"
   ]
  },
  {
   "cell_type": "markdown",
   "metadata": {},
   "source": [
    "#### Finding the best value of K\n",
    "The default K of 5 seems perfectly reasonable, but it appears the results were slightly better at 6."
   ]
  },
  {
   "cell_type": "markdown",
   "metadata": {},
   "source": [
    "### Naive Bayes Classifier Model"
   ]
  },
  {
   "cell_type": "code",
   "execution_count": null,
   "metadata": {},
   "outputs": [],
   "source": [
    "nb_model = MultinomialNB()\n",
    "nb_model.fit(X_train, y_train)\n",
    "probabilities = nb_model.predict_proba(X_test)\n",
    "model_pred = nb_model.predict(X_test)\n",
    "print('Train Accuracy: ', nb_model.score(X_train, y_train))\n",
    "print('Test Accuracy: ', nb_model.score(X_test, y_test))\n",
    "print('ROC AUC: ', roc_auc_score(y_test_proba, probabilities))\n",
    "plot_confusion_matrix('NB', y_test, model_pred, model_classes, figsize = (8,6))"
   ]
  },
  {
   "cell_type": "markdown",
   "metadata": {},
   "source": [
    "#### Naive Bayes Results\n",
    "The Naive Bayes model has solid, but unremarkable performance. It performed better than the KNN model, but slightly worse than the baseline in all cases. The train and test accuracies indicate that the model isn't overfitting."
   ]
  },
  {
   "cell_type": "markdown",
   "metadata": {},
   "source": [
    "### Neural Network Model"
   ]
  },
  {
   "cell_type": "code",
   "execution_count": null,
   "metadata": {},
   "outputs": [],
   "source": [
    "nn_model = MLPClassifier(random_state=0, max_iter=10)\n",
    "nn_model.fit(X_train, y_train)\n",
    "print('Train Accuracy: ', nn_model.score(X_train, y_train))\n",
    "print('Test Accuracy: ', nn_model.score(X_test, y_test))\n",
    "model_pred = nn_model.predict(X_test)\n",
    "probabilities = model.predict_proba(X_test)\n",
    "print('ROC AUC: ', roc_auc_score(y_test_proba, probabilities))\n",
    "plot_confusion_matrix('Neural Network', y_test, model_pred, model_classes, figsize = (8,6))"
   ]
  },
  {
   "cell_type": "markdown",
   "metadata": {},
   "source": [
    "#### Neural Network Results\n",
    "This model performed the best in every metric, and was the only model which was able to correctly predict more violent crimes than it got wrong. The train and test accuracies indicate that the model isn't overfitting."
   ]
  },
  {
   "cell_type": "markdown",
   "metadata": {},
   "source": [
    "#### Neural Network Iteration Testing\n",
    "The goal is to find the best number of iterations using the test set accuracy as the metric."
   ]
  },
  {
   "cell_type": "code",
   "execution_count": null,
   "metadata": {},
   "outputs": [],
   "source": [
    "train_scores = []\n",
    "test_scores = []\n",
    "iterations = []\n",
    "\n",
    "for i in range(10, 51, 10):\n",
    "    mlp = MLPClassifier(random_state=0, max_iter=i)\n",
    "    mlp.fit(X_train, y_train)\n",
    "    train_scores.append(mlp.score(X_train, y_train))\n",
    "    test_scores.append(mlp.score(X_test, y_test))\n",
    "    iterations.append(i)\n",
    "\n",
    "plt.figure(figsize=(8, 6))    \n",
    "plt.plot(iterations, train_scores, label='Train')\n",
    "plt.plot(iterations, test_scores, label='Test')\n",
    "plt.ylabel('Accuracy')\n",
    "plt.xlabel('Iterations')\n",
    "plt.title('Neural network performance with iterations')\n",
    "leg = plt.legend()\n",
    "plt.grid(True)\n",
    "plt.show()"
   ]
  },
  {
   "cell_type": "markdown",
   "metadata": {},
   "source": [
    "#### Iteration Testing\n",
    "The neural network starts overfitting immediately after 10 iterations, so keeping the iterations low is ideal in this case."
   ]
  },
  {
   "cell_type": "code",
   "execution_count": null,
   "metadata": {
    "scrolled": true
   },
   "outputs": [],
   "source": [
    "df = pd.read_csv('data/Census_Merged.csv', index_col =False)\n",
    "df = df.dropna()\n",
    "df = df.drop(df.columns.values[0], axis = 1)"
   ]
  },
  {
   "cell_type": "code",
   "execution_count": null,
   "metadata": {},
   "outputs": [],
   "source": [
    "df.head(2)"
   ]
  },
  {
   "cell_type": "code",
   "execution_count": null,
   "metadata": {},
   "outputs": [],
   "source": [
    "violent_crime = df[df['Primary Type'].isin(\n",
    "    ['BATTERY', 'ASSAULT', 'ROBBERY', 'CRIM SEXUAL ASSAULT', 'HOMICIDE', 'KIDNAPPING', 'ARSON'])]\n",
    "nonviolent_crime = df[~df['Primary Type'].isin(\n",
    "    ['BATTERY', 'ASSAULT', 'ROBBERY', 'CRIM SEXUAL ASSAULT', 'HOMICIDE', 'KIDNAPPING', 'ARSON'])]"
   ]
  },
  {
   "cell_type": "markdown",
   "metadata": {},
   "source": [
    "###  The plot below shows the \"number of crimes respectively with their type\"."
   ]
  },
  {
   "cell_type": "code",
   "execution_count": null,
   "metadata": {},
   "outputs": [],
   "source": [
    "names = df['Primary Type'].value_counts().keys().tolist()\n",
    "counts = df['Primary Type'].value_counts().tolist()\n",
    "df_count = pd.DataFrame()\n",
    "df_count['Primary Type'] = names\n",
    "df_count['Count'] = counts\n",
    "df_count.head(3)\n",
    "\n",
    "fig, axes = plt.subplots(ncols = 1, figsize = (20,7))\n",
    "sns.barplot(y = df_count['Count'], x = df_count['Primary Type'], ax = axes)\n",
    "axes.set_xlabel(\"Crime Count\")\n",
    "axes.set_xlabel(\"Primary Type\")\n",
    "axes.set_xticklabels(axes.xaxis.get_majorticklabels(), rotation=90)\n",
    "fig.suptitle('Number of Crimes per Type', fontsize=20)\n",
    "plt.show()"
   ]
  },
  {
   "cell_type": "markdown",
   "metadata": {},
   "source": [
    "##  Problems and Challenges faced with label prediction.\n",
    "\n",
    "A considerable amount of discrepancy can be seen in the above plot (*Number of crimes for each type*). \n",
    "Therefore, if an input vector is provided and any classification is to be done for predicting certain types of crime that could occur, it will become impossible because of following reasons:\n",
    "\n",
    "1. There are 29 labels which makes classification of training sets difficult.This in turn would lead to prediction with low accuracy.\n",
    "\n",
    "2. A big gap can be noticed amongst occurrences of different types of crime. This would lead the predicted outcome to be more leaned towards the labels(crimes) which account for majority of data. \n",
    "\n"
   ]
  },
  {
   "cell_type": "markdown",
   "metadata": {},
   "source": [
    "##  <span style=\"color:blue\"> ***Dealing with problems and challenges.*** </span> \n",
    "\n",
    "1. **Reducing the number of Labels**:\n",
    "\n",
    "    - The types of crime will be further divided into two subgroups(violent crimes and non-violent crimes). \n",
    "    - The classification of different types of crime will be done to determine the appropriate model for label prediction. This will be done for both the subgroups. However, it is clear that there are certain types of crime which account for low proportions of total number of crimes. Therefor we decide to remove all crime labels which having a proportion of less than 5 % in each respective subgroups.\n",
    "    - *Violent Crimes* - The labels which will be used are: BATTERY(60%), ASSAULT(24%), ROBBERY(12%).\n",
    "    - *Non-Violent Crimes* - The labels which will be used are: THEFT(34%), CRIMINAL DAMAGE(15%), OTHER OFFENSE(9%), DECEPTIVE PRACTICE(8%), NARCOTICS(8%), BURGLARY(6%), MOTOR VEHICLE THEFT(6%)\n",
    "    \n",
    "    \n",
    "2. **Reducing the biased predictions which are witnessed due to certain labels having a majority of observations in the    data**:\n",
    "    - 2.1 Before implementing \"data-balancing\" we will make use of \"F1-score metric\" to examine the performance of various classification models. Since, F1 score is more suitable for skewed data sets we will not be using accuracy. \n",
    "    - 2.2 Addition of weights such as class weights to create a bias towards minority classes will help in performing and assessing different classification models using both F1-score and accuracy. \n",
    "    - 2.3 Using SMOTE (Synthetic Minority Over-sampling Technique) to oversample the minority classes will help in performing and assessing different classification models using both F1-score and accuracy. "
   ]
  },
  {
   "cell_type": "markdown",
   "metadata": {},
   "source": [
    "# Label Prediction for violent crimes"
   ]
  },
  {
   "cell_type": "code",
   "execution_count": null,
   "metadata": {
    "scrolled": false
   },
   "outputs": [],
   "source": [
    "df_violent_count = t.crime_proximity(violent_crime, 'Primary Type', 5)\n",
    "t.crime_proximity_bar(df_violent_count, 'Percentage')\n"
   ]
  },
  {
   "cell_type": "markdown",
   "metadata": {},
   "source": [
    "**When it comes to violent crime, battery is witnessed way more than other crimes. This might be due to the fact that affecting someone physically (for example hitting) is reported more easily by witnesses.**"
   ]
  },
  {
   "cell_type": "code",
   "execution_count": null,
   "metadata": {
    "scrolled": true
   },
   "outputs": [],
   "source": [
    "violent_crime = violent_crime[violent_crime['Primary Type'].isin(list(df_violent_count['Primary Type']))]\n",
    "target = 'Primary Type'\n",
    "features = ['Arrest', 'Domestic', 'Community Area', 'Latitude', 'Longitude', \n",
    "            'PERCENT OF HOUSING CROWDED',\n",
    "       'PERCENT HOUSEHOLDS BELOW POVERTY', 'PERCENT AGED 16+ UNEMPLOYED',\n",
    "       'PERCENT AGED 25+ WITHOUT HIGH SCHOOL DIPLOMA',\n",
    "       'PERCENT AGED UNDER 18 OR OVER 64', 'PER CAPITA INCOME ',\n",
    "       'HARDSHIP INDEX','Racial Demographics - Hispanic Proportion',\n",
    "       'Racial Demographics - Black Proportion',\n",
    "       'Racial Demographics - White Proportion',\n",
    "       'Racial Demographics - Asian Proportion',\n",
    "       'Racial Demographics - Other or Multiple Races Proportion']\n",
    "\n",
    "dummy = pd.get_dummies(violent_crime[features])\n",
    "dummy.drop(columns=['Community Area'], inplace = True)"
   ]
  },
  {
   "cell_type": "code",
   "execution_count": null,
   "metadata": {},
   "outputs": [],
   "source": [
    "X = dummy\n",
    "#X = violent_crime[features]\n",
    "y = violent_crime[target]\n",
    "\n",
    "X_train, X_test, y_train, y_test = train_test_split(X, y, random_state=1)\n",
    "print(\"Number of training outcome labels:\",len(y_train))\n",
    "\n",
    "logi = LogisticRegression(multi_class = 'multinomial', solver = 'lbfgs', max_iter = 10000)\n",
    "logi.fit(X_train, y_train)"
   ]
  },
  {
   "cell_type": "code",
   "execution_count": null,
   "metadata": {},
   "outputs": [],
   "source": [
    "scores = pd.DataFrame(columns=['Model', 'Train Accuracy', 'Test Accuracy'])\n",
    "\n",
    "# Append rows in Empty Dataframe by adding dictionaries\n",
    "scores = scores.append({'Model': 'Weighted Log Reg', 'Train Accuracy': accuracy_score(y_train, logi.predict(X_train)), \n",
    "                      'Test Accuracy': accuracy_score(y_test, logi.predict(X_test)) }, ignore_index=True)"
   ]
  },
  {
   "cell_type": "markdown",
   "metadata": {},
   "source": [
    "It is clear that using Logistic Regression, the F1-score for predicting labels is relatively low. Nonetheless, we are still able to see that this model do not overfit, since it's testing set's F1-score is marginally higher than it's traning F1 score. We will use this as a baseline perfomance metric to compare other different classifier against."
   ]
  },
  {
   "cell_type": "markdown",
   "metadata": {},
   "source": [
    "# Transform continuous variables into ordinal variables based on which quantiles it is depending on the distribution of the column values"
   ]
  },
  {
   "cell_type": "code",
   "execution_count": null,
   "metadata": {
    "scrolled": true
   },
   "outputs": [],
   "source": [
    "for i, items in dummy.iteritems():\n",
    "    dummy[i] = pd.qcut(dummy[i].rank(method='first'), 10, labels=False)\n",
    "dummy.head(2)"
   ]
  },
  {
   "cell_type": "markdown",
   "metadata": {},
   "source": [
    "# Applying Nearest Neighbour SMOTE to re-balance dataset"
   ]
  },
  {
   "cell_type": "code",
   "execution_count": null,
   "metadata": {},
   "outputs": [],
   "source": [
    "sm = SMOTE(random_state=1, sampling_strategy = 'not majority')\n",
    "X = dummy\n",
    "y = violent_crime[target]\n",
    "\n",
    "X_train, X_test, y_train, y_test = train_test_split(X, y, random_state=1)\n",
    "X_train, y_train = sm.fit_sample(X_train, y_train)\n",
    "print(\"Number of training outcome labels:\",len(y_train))"
   ]
  },
  {
   "cell_type": "code",
   "execution_count": null,
   "metadata": {},
   "outputs": [],
   "source": [
    "logi.fit(X_train, y_train)\n",
    "scores = scores.append({'Model': 'SMOTE Log Reg', 'Train Accuracy': accuracy_score(y_train, logi.predict(X_train)), \n",
    "                      'Test Accuracy': accuracy_score(y_test, logi.predict(X_test)) }, ignore_index=True)"
   ]
  },
  {
   "cell_type": "code",
   "execution_count": null,
   "metadata": {},
   "outputs": [],
   "source": [
    "svm = SVC(gamma='auto', kernel = 'rbf')\n",
    "svm.fit(X_train, y_train)\n",
    "scores = scores.append({'Model': 'SMOTE SVC', 'Train Accuracy': svm.score(X_train, y_train), \n",
    "                      'Test Accuracy': svm.score(X_test, y_test) }, ignore_index=True)"
   ]
  },
  {
   "cell_type": "code",
   "execution_count": null,
   "metadata": {},
   "outputs": [],
   "source": [
    "mlp = MLPClassifier(random_state=0, max_iter=1000)\n",
    "mlp.fit(X_train, y_train)\n",
    "scores = scores.append({'Model': 'SMOTE MLP', 'Train Accuracy': mlp.score(X_train, y_train), \n",
    "                      'Test Accuracy': mlp.score(X_test, y_test) }, ignore_index=True)"
   ]
  },
  {
   "cell_type": "code",
   "execution_count": null,
   "metadata": {},
   "outputs": [],
   "source": [
    "mnb = MultinomialNB()\n",
    "mnb.fit(X_train, y_train)\n",
    "scores = scores.append({'Model': 'SMOTE MultiNB', 'Train Accuracy': mnb.score(X_train, y_train), \n",
    "                      'Test Accuracy': mnb.score(X_test, y_test) }, ignore_index=True)"
   ]
  },
  {
   "cell_type": "markdown",
   "metadata": {},
   "source": [
    "# Applying Borderline SMOTE re-balance dataset"
   ]
  },
  {
   "cell_type": "code",
   "execution_count": null,
   "metadata": {},
   "outputs": [],
   "source": [
    "sm = BorderlineSMOTE(random_state=1, sampling_strategy = 'not majority')\n",
    "#sm = SMOTE(random_state=1, sampling_strategy = 'minority')\n",
    "X = dummy\n",
    "y = violent_crime[target]\n",
    "\n",
    "X_train, X_test, y_train, y_test = train_test_split(X, y, random_state=1)\n",
    "X_train, y_train = sm.fit_sample(X_train, y_train)\n",
    "print(\"Number of training outcome labels:\",len(y_train))"
   ]
  },
  {
   "cell_type": "code",
   "execution_count": null,
   "metadata": {},
   "outputs": [],
   "source": [
    "logi.fit(X_train, y_train)\n",
    "scores = scores.append({'Model': 'B-SMOTE Log Reg', 'Train Accuracy': accuracy_score(y_train, logi.predict(X_train)), \n",
    "                      'Test Accuracy': accuracy_score(y_test, logi.predict(X_test)) }, ignore_index=True)"
   ]
  },
  {
   "cell_type": "code",
   "execution_count": null,
   "metadata": {},
   "outputs": [],
   "source": [
    "svm = SVC(gamma='auto')\n",
    "svm.fit(X_train, y_train)\n",
    "scores = scores.append({'Model': 'B-SMOTE SVC', 'Train Accuracy': svm.score(X_train, y_train), \n",
    "                      'Test Accuracy': svm.score(X_test, y_test) }, ignore_index=True)"
   ]
  },
  {
   "cell_type": "code",
   "execution_count": null,
   "metadata": {},
   "outputs": [],
   "source": [
    "mlp = MLPClassifier(random_state=0, max_iter=1000)\n",
    "mlp.fit(X_train, y_train)\n",
    "scores = scores.append({'Model': 'B-SMOTE MLP', 'Train Accuracy': mlp.score(X_train, y_train), \n",
    "                      'Test Accuracy': mlp.score(X_test, y_test) }, ignore_index=True)"
   ]
  },
  {
   "cell_type": "code",
   "execution_count": null,
   "metadata": {},
   "outputs": [],
   "source": [
    "mnb = MultinomialNB()\n",
    "mnb.fit(X_train, y_train)\n",
    "scores = scores.append({'Model': 'B-SMOTE MultiNB', 'Train Accuracy': mnb.score(X_train, y_train), \n",
    "                      'Test Accuracy': mnb.score(X_test, y_test) }, ignore_index=True)"
   ]
  },
  {
   "cell_type": "markdown",
   "metadata": {},
   "source": [
    "# Undersampling using Condensed Nearest Neighbors"
   ]
  },
  {
   "cell_type": "code",
   "execution_count": null,
   "metadata": {
    "scrolled": true
   },
   "outputs": [],
   "source": [
    "cnn = CondensedNearestNeighbour(random_state=1)\n",
    "\n",
    "X = dummy\n",
    "y = violent_crime[target]\n",
    "X_train, X_test, y_train, y_test = train_test_split(X, y, random_state=1)\n",
    "X_train, y_train = cnn.fit_resample(X_train, y_train)\n",
    "print(\"Number of training outcome labels:\",len(y_train))\n"
   ]
  },
  {
   "cell_type": "code",
   "execution_count": null,
   "metadata": {},
   "outputs": [],
   "source": [
    "logi.fit(X_train, y_train)\n",
    "scores = scores.append({'Model': 'CondensedNN Log Reg', 'Train Accuracy': accuracy_score(y_train, logi.predict(X_train)), \n",
    "                      'Test Accuracy': accuracy_score(y_test, logi.predict(X_test)) }, ignore_index=True)"
   ]
  },
  {
   "cell_type": "code",
   "execution_count": null,
   "metadata": {},
   "outputs": [],
   "source": [
    "svm = SVC(gamma='auto')\n",
    "svm.fit(X_train, y_train)\n",
    "scores = scores.append({'Model': 'CondensedNN SVC', 'Train Accuracy': svm.score(X_train, y_train), \n",
    "                      'Test Accuracy': svm.score(X_test, y_test) }, ignore_index=True)"
   ]
  },
  {
   "cell_type": "code",
   "execution_count": null,
   "metadata": {},
   "outputs": [],
   "source": [
    "mlp = MLPClassifier(random_state=0, max_iter=200)\n",
    "mlp.fit(X_train, y_train)\n",
    "scores = scores.append({'Model': 'CondensedNN MLP', 'Train Accuracy': mlp.score(X_train, y_train), \n",
    "                      'Test Accuracy': mlp.score(X_test, y_test) }, ignore_index=True)"
   ]
  },
  {
   "cell_type": "code",
   "execution_count": null,
   "metadata": {},
   "outputs": [],
   "source": [
    "mnb = MultinomialNB()\n",
    "mnb.fit(X_train, y_train)\n",
    "scores = scores.append({'Model': 'CondensedNN MultiNB', 'Train Accuracy': mnb.score(X_train, y_train), \n",
    "                      'Test Accuracy': mnb.score(X_test, y_test) }, ignore_index=True)"
   ]
  },
  {
   "cell_type": "markdown",
   "metadata": {},
   "source": [
    "# Combine oversampling by creating Synthetic datapoints with undersampling by removing Tomek Links"
   ]
  },
  {
   "cell_type": "code",
   "execution_count": null,
   "metadata": {},
   "outputs": [],
   "source": [
    "sm = SMOTETomek(random_state=1)\n",
    "X = dummy\n",
    "y = violent_crime[target]\n",
    "X_train, X_test, y_train, y_test = train_test_split(X, y, random_state=1)\n",
    "X_train, y_train = sm.fit_resample(X_train, y_train)\n",
    "print(\"Number of training outcome labels:\",len(y_train))\n",
    "\n"
   ]
  },
  {
   "cell_type": "code",
   "execution_count": null,
   "metadata": {},
   "outputs": [],
   "source": [
    "logi.fit(X_train, y_train)\n",
    "scores = scores.append({'Model': 'SMOTE-Tomek Log Reg', 'Train Accuracy': accuracy_score(y_train, logi.predict(X_train)), \n",
    "                      'Test Accuracy': accuracy_score(y_test, logi.predict(X_test)) }, ignore_index=True)"
   ]
  },
  {
   "cell_type": "code",
   "execution_count": null,
   "metadata": {},
   "outputs": [],
   "source": [
    "svm = SVC(gamma='auto')\n",
    "svm.fit(X_train, y_train)\n",
    "scores = scores.append({'Model': 'SMOTE-Tomek SVC', 'Train Accuracy': svm.score(X_train, y_train), \n",
    "                      'Test Accuracy': svm.score(X_test, y_test) }, ignore_index=True)"
   ]
  },
  {
   "cell_type": "code",
   "execution_count": null,
   "metadata": {},
   "outputs": [],
   "source": [
    "mlp = MLPClassifier(random_state=0, max_iter=200)\n",
    "mlp.fit(X_train, y_train)\n",
    "scores = scores.append({'Model': 'SMOTE-Tomek MLP', 'Train Accuracy': mlp.score(X_train, y_train), \n",
    "                      'Test Accuracy': mlp.score(X_test, y_test) }, ignore_index=True)"
   ]
  },
  {
   "cell_type": "code",
   "execution_count": null,
   "metadata": {},
   "outputs": [],
   "source": [
    "mnb = MultinomialNB()\n",
    "mnb.fit(X_train, y_train)\n",
    "scores = scores.append({'Model': 'SMOTE-Tomek MultiNB', 'Train Accuracy': mnb.score(X_train, y_train), \n",
    "                      'Test Accuracy': mnb.score(X_test, y_test) }, ignore_index=True)"
   ]
  },
  {
   "cell_type": "code",
   "execution_count": null,
   "metadata": {},
   "outputs": [],
   "source": [
    "stacked_scores = pd.melt(scores, id_vars=['Model']).sort_values(['variable','value'])"
   ]
  },
  {
   "cell_type": "code",
   "execution_count": null,
   "metadata": {},
   "outputs": [],
   "source": [
    "fig, axes = plt.subplots(ncols = 1, figsize = (15,7))\n",
    "sns.barplot(x='Model', y='value', hue='variable', data=stacked_scores, ax = axes)\n",
    "plt.xticks(rotation=90)\n",
    "plt.ylabel('Accuracy')\n",
    "plt.title('Training vs Testing - Accuracy score');\n",
    "plt.rc('xtick', labelsize=10) \n",
    "plt.show()"
   ]
  },
  {
   "cell_type": "markdown",
   "metadata": {},
   "source": [
    "## General comments on over-sampling techniques\n",
    "Looking at the 2 oversampling methods, it is clear that all 3 classification models, apart from Multinomial NB, have a tendency to under-fit. This could be due to the models just \"memorise\" the labels rather than actually learning to predict the labels."
   ]
  },
  {
   "cell_type": "markdown",
   "metadata": {},
   "source": [
    "## General comments on under-sampling techniques\n",
    "Looking at the undersampling, it is clear that all 3 classification models have a tendency to under-fit. This means that the models here perform rather poor on training data, and that its higher testing accuracy might be due to chance."
   ]
  },
  {
   "cell_type": "markdown",
   "metadata": {},
   "source": [
    "# Analysis of label prediction after using different re-sampling techniques on training data\n",
    "In general, resampling algorithms depends very much on the quality of the dataset you have. If you have severe data imbalance, resampling algorithms may be ineffective in generating a high-quality dataset, despite their capability to balance out the dataset. \n",
    "\n",
    "This is largely due to the similarities between the two classes minority classes being very high (and hence the oversample resulting in low-quality repetitive data), despite them being acceptably close in terms of total occurrences' proportion. \n",
    "\n",
    "To determine that this is the case, we will try to train a classification model on the minority classes (which are not as strongly skewed towards any class as the dataset above) and check the results if the classification accuracy remains low despite the relatively balanced dataset."
   ]
  },
  {
   "cell_type": "markdown",
   "metadata": {},
   "source": [
    "# Minority Labels Analysis"
   ]
  },
  {
   "cell_type": "code",
   "execution_count": null,
   "metadata": {},
   "outputs": [],
   "source": [
    "minority = violent_crime[violent_crime['Primary Type'].isin(\n",
    "    ['ROBBERY', 'ASSAULT'])]\n",
    "label = minority['Primary Type']"
   ]
  },
  {
   "cell_type": "code",
   "execution_count": null,
   "metadata": {},
   "outputs": [],
   "source": [
    "minority  = pd.get_dummies(minority[features]).copy()\n",
    "minority.drop(columns=['Community Area'], inplace = True)"
   ]
  },
  {
   "cell_type": "code",
   "execution_count": null,
   "metadata": {},
   "outputs": [],
   "source": [
    "for i, items in minority.iteritems():\n",
    "    minority[i] = pd.qcut(minority[i].rank(method='first'), 10, labels=False)\n",
    "X = minority\n",
    "y = label\n",
    "\n",
    "X_train, X_test, y_train, y_test = train_test_split(X, y, random_state=1)\n",
    "X_train, y_train = sm.fit_sample(X_train, y_train)\n",
    "print(\"Number of training outcome labels:\",len(y_train))\n",
    "minority_scores = pd.DataFrame(columns=['Model', 'Train Accuracy', 'Test Accuracy'])"
   ]
  },
  {
   "cell_type": "code",
   "execution_count": null,
   "metadata": {},
   "outputs": [],
   "source": [
    "logi.fit(X_train, y_train)\n",
    "minority_scores = minority_scores.append({'Model': 'Minority Log Reg', 'Train Accuracy': accuracy_score(y_train, logi.predict(X_train)), \n",
    "                      'Test Accuracy': accuracy_score(y_test, logi.predict(X_test)) }, ignore_index=True)"
   ]
  },
  {
   "cell_type": "code",
   "execution_count": null,
   "metadata": {},
   "outputs": [],
   "source": [
    "svm = SVC(gamma='auto', kernel = 'rbf')\n",
    "svm.fit(X_train, y_train)\n",
    "minority_scores = minority_scores.append({'Model': 'Minority SVC', 'Train Accuracy': svm.score(X_train, y_train), \n",
    "                      'Test Accuracy': svm.score(X_test, y_test) }, ignore_index=True)"
   ]
  },
  {
   "cell_type": "code",
   "execution_count": null,
   "metadata": {},
   "outputs": [],
   "source": [
    "mlp = MLPClassifier(random_state=0, max_iter=1000)\n",
    "mlp.fit(X_train, y_train)\n",
    "minority_scores = minority_scores.append({'Model': 'Minority MLP', 'Train Accuracy': mlp.score(X_train, y_train), \n",
    "                      'Test Accuracy': mlp.score(X_test, y_test) }, ignore_index=True)"
   ]
  },
  {
   "cell_type": "code",
   "execution_count": null,
   "metadata": {},
   "outputs": [],
   "source": [
    "mnb = MultinomialNB()\n",
    "mnb.fit(X_train, y_train)\n",
    "minority_scores = minority_scores.append({'Model': 'Minority MultiNB', 'Train Accuracy': mnb.score(X_train, y_train), \n",
    "                      'Test Accuracy': mnb.score(X_test, y_test) }, ignore_index=True)"
   ]
  },
  {
   "cell_type": "code",
   "execution_count": null,
   "metadata": {},
   "outputs": [],
   "source": [
    "stacked_minority_scores = pd.melt(minority_scores, id_vars=['Model']).sort_values(['variable','value'])"
   ]
  },
  {
   "cell_type": "code",
   "execution_count": null,
   "metadata": {},
   "outputs": [],
   "source": [
    "fig, axes = plt.subplots(ncols = 1, figsize = (15,7))\n",
    "sns.barplot(x='Model', y='value', hue='variable', data=stacked_minority_scores, ax = axes)\n",
    "plt.xticks(rotation=90)\n",
    "plt.ylabel('Accuracy')\n",
    "plt.title('Training vs Testing - Accuracy score');\n",
    "plt.show()"
   ]
  },
  {
   "cell_type": "markdown",
   "metadata": {},
   "source": [
    "As suspected above, despite having a relatively \"balanced\" dataset, the models still perform poorly, even more so comparing to the logistic regression model with the original imbalanced dataset."
   ]
  },
  {
   "cell_type": "markdown",
   "metadata": {},
   "source": [
    "# Feature selection - Feature importance"
   ]
  },
  {
   "cell_type": "code",
   "execution_count": null,
   "metadata": {},
   "outputs": [],
   "source": [
    "X = dummy\n",
    "y = violent_crime[target]\n",
    "X_train, X_test, y_train, y_test = train_test_split(X, y, random_state=1)\n",
    "\n",
    "etc = ExtraTreesClassifier()\n",
    "etc.fit(X_train, y_train)\n",
    "print(etc.feature_importances_)\n",
    "feat_importances = pd.Series(etc.feature_importances_, index=X_train.columns)\n",
    "feat_importances.nlargest(len(X)).plot(kind='barh')\n",
    "plt.show()"
   ]
  },
  {
   "cell_type": "markdown",
   "metadata": {},
   "source": [
    "# Feature selection (top 5) without re-sampling"
   ]
  },
  {
   "cell_type": "code",
   "execution_count": null,
   "metadata": {},
   "outputs": [],
   "source": [
    "filtered = dummy[['Arrest_True', 'Latitude', 'Longitude', 'Domestic_False', 'Domestic_True']]\n",
    "X = filtered\n",
    "y = violent_crime[target]\n",
    "X_train, X_test, y_train, y_test = train_test_split(X, y, random_state=1)\n",
    "\n",
    "feature_score = pd.DataFrame(columns=['Model', 'Train Accuracy', 'Test Accuracy'])\n",
    "print(\"Number of training outcome labels:\",len(y_train))"
   ]
  },
  {
   "cell_type": "code",
   "execution_count": null,
   "metadata": {},
   "outputs": [],
   "source": [
    "logi.fit(X_train, y_train)\n",
    "feature_score = feature_score.append({'Model': 'FS Log Reg', 'Train Accuracy': accuracy_score(y_train, logi.predict(X_train)), \n",
    "                      'Test Accuracy': accuracy_score(y_test, logi.predict(X_test)) }, ignore_index=True)"
   ]
  },
  {
   "cell_type": "code",
   "execution_count": null,
   "metadata": {},
   "outputs": [],
   "source": [
    "svm = SVC(gamma='auto', class_weight = 'balanced')\n",
    "svm.fit(X_train, y_train)\n",
    "feature_score = feature_score.append({'Model': 'FS SVC', 'Train Accuracy': svm.score(X_train, y_train), \n",
    "                      'Test Accuracy': svm.score(X_test, y_test) }, ignore_index=True)"
   ]
  },
  {
   "cell_type": "code",
   "execution_count": null,
   "metadata": {},
   "outputs": [],
   "source": [
    "mlp = MLPClassifier(random_state=0, max_iter=200)\n",
    "mlp.fit(X_train, y_train)\n",
    "feature_score = feature_score.append({'Model': 'FS MLP', 'Train Accuracy': mlp.score(X_train, y_train), \n",
    "                      'Test Accuracy': mlp.score(X_test, y_test) }, ignore_index=True)"
   ]
  },
  {
   "cell_type": "code",
   "execution_count": null,
   "metadata": {},
   "outputs": [],
   "source": [
    "mnb = MultinomialNB()\n",
    "mnb.fit(X_train, y_train)\n",
    "feature_score = feature_score.append({'Model': 'FS MultiNB', 'Train Accuracy': mnb.score(X_train, y_train), \n",
    "                      'Test Accuracy': mnb.score(X_test, y_test) }, ignore_index=True)"
   ]
  },
  {
   "cell_type": "markdown",
   "metadata": {},
   "source": [
    "# Feature selection (top 5) with under-sampling"
   ]
  },
  {
   "cell_type": "code",
   "execution_count": null,
   "metadata": {},
   "outputs": [],
   "source": [
    "X = filtered\n",
    "y = violent_crime[target]\n",
    "X_train, X_test, y_train, y_test = train_test_split(X, y, random_state=1)\n",
    "X_train, y_train = cnn.fit_resample(X_train, y_train)\n",
    "print(\"Number of training outcome labels:\",len(y_train))\n"
   ]
  },
  {
   "cell_type": "code",
   "execution_count": null,
   "metadata": {},
   "outputs": [],
   "source": [
    "logi.fit(X_train, y_train)\n",
    "feature_score = feature_score.append({'Model': 'FS-Undersampling Log Reg', 'Train Accuracy': accuracy_score(y_train, logi.predict(X_train)), \n",
    "                      'Test Accuracy': accuracy_score(y_test, logi.predict(X_test)) }, ignore_index=True)"
   ]
  },
  {
   "cell_type": "code",
   "execution_count": null,
   "metadata": {},
   "outputs": [],
   "source": [
    "svm = SVC(gamma='auto', kernel = 'rbf')\n",
    "svm.fit(X_train, y_train)\n",
    "feature_score = feature_score.append({'Model': 'FS-Undersampling SVC', 'Train Accuracy': svm.score(X_train, y_train), \n",
    "                      'Test Accuracy': svm.score(X_test, y_test) }, ignore_index=True)"
   ]
  },
  {
   "cell_type": "code",
   "execution_count": null,
   "metadata": {},
   "outputs": [],
   "source": [
    "mlp = MLPClassifier(random_state=0, max_iter=200)\n",
    "mlp.fit(X_train, y_train)\n",
    "feature_score = feature_score.append({'Model': 'FS-Undersampling MLP', 'Train Accuracy': mlp.score(X_train, y_train), \n",
    "                      'Test Accuracy': mlp.score(X_test, y_test) }, ignore_index=True)"
   ]
  },
  {
   "cell_type": "code",
   "execution_count": null,
   "metadata": {},
   "outputs": [],
   "source": [
    "mnb = MultinomialNB()\n",
    "mnb.fit(X_train, y_train)\n",
    "feature_score = feature_score.append({'Model': 'FS-Undersampling MultiNB', 'Train Accuracy': mnb.score(X_train, y_train), \n",
    "                      'Test Accuracy': mnb.score(X_test, y_test) }, ignore_index=True)"
   ]
  },
  {
   "cell_type": "code",
   "execution_count": null,
   "metadata": {},
   "outputs": [],
   "source": [
    "stacked_feature_score = pd.melt(feature_score, id_vars=['Model']).sort_values(['variable','value'])"
   ]
  },
  {
   "cell_type": "code",
   "execution_count": null,
   "metadata": {},
   "outputs": [],
   "source": [
    "fig, axes = plt.subplots(ncols = 1, figsize = (15,7))\n",
    "sns.barplot(x='Model', y='value', hue='variable', data=stacked_feature_score, ax = axes)\n",
    "plt.xticks(rotation=90)\n",
    "plt.ylabel('Accuracy')\n",
    "plt.title('Training vs Testing - Accuracy score');\n",
    "plt.rc('xtick', labelsize=10) \n",
    "plt.show()"
   ]
  },
  {
   "cell_type": "markdown",
   "metadata": {},
   "source": [
    "## Analysis on feature selection\n",
    "Looking at the accuracy score, we can see that despite the performance of the 3 models still being quite poor, there were minor improvements comparing to using prediction with all predictors.\n",
    "\n",
    "Especially for Feature selection without re-sampling, the performance of prediction on train and testing sets are very similar"
   ]
  },
  {
   "cell_type": "markdown",
   "metadata": {},
   "source": [
    "# Non-violent crime"
   ]
  },
  {
   "cell_type": "code",
   "execution_count": null,
   "metadata": {},
   "outputs": [],
   "source": [
    "df_nonviolent_count = t.crime_proximity(nonviolent_crime, 'Primary Type', 5)\n",
    "t.crime_proximity_bar(df_nonviolent_count, 'Percentage')"
   ]
  },
  {
   "cell_type": "code",
   "execution_count": null,
   "metadata": {
    "scrolled": true
   },
   "outputs": [],
   "source": [
    "nonviolent_crime = nonviolent_crime[nonviolent_crime['Primary Type'].isin(list(df_nonviolent_count['Primary Type']))]\n",
    "target = 'Primary Type'\n",
    "features = ['Arrest', 'Domestic', 'Community Area', 'Latitude', 'Longitude', \n",
    "            'PERCENT OF HOUSING CROWDED',\n",
    "       'PERCENT HOUSEHOLDS BELOW POVERTY', 'PERCENT AGED 16+ UNEMPLOYED',\n",
    "       'PERCENT AGED 25+ WITHOUT HIGH SCHOOL DIPLOMA',\n",
    "       'PERCENT AGED UNDER 18 OR OVER 64', 'PER CAPITA INCOME ',\n",
    "       'HARDSHIP INDEX','Racial Demographics - Hispanic Proportion',\n",
    "       'Racial Demographics - Black Proportion',\n",
    "       'Racial Demographics - White Proportion',\n",
    "       'Racial Demographics - Asian Proportion',\n",
    "       'Racial Demographics - Other or Multiple Races Proportion']\n",
    "\n",
    "dummy = pd.get_dummies(nonviolent_crime[features])\n",
    "dummy.drop(columns=['Community Area'], inplace = True)"
   ]
  },
  {
   "cell_type": "code",
   "execution_count": null,
   "metadata": {},
   "outputs": [],
   "source": [
    "X = dummy\n",
    "#X = violent_crime[features]\n",
    "y = nonviolent_crime[target]\n",
    "\n",
    "X_train, X_test, y_train, y_test = train_test_split(X, y, random_state=1)\n",
    "print(\"Number of training outcome labels:\",len(y_train))\n",
    "scores = pd.DataFrame(columns=['Model', 'Train Accuracy', 'Test Accuracy'])"
   ]
  },
  {
   "cell_type": "code",
   "execution_count": null,
   "metadata": {},
   "outputs": [],
   "source": [
    "logi = LogisticRegression(multi_class = 'multinomial', solver = 'lbfgs', max_iter = 10000)\n",
    "logi.fit(X_train, y_train)\n",
    "\n",
    "scores = scores.append({'Model': 'Weighted Log Reg', 'Train Accuracy': accuracy_score(y_train, logi.predict(X_train)), \n",
    "                      'Test Accuracy': accuracy_score(y_test, logi.predict(X_test)) }, ignore_index=True)"
   ]
  },
  {
   "cell_type": "markdown",
   "metadata": {},
   "source": [
    "# Transform continuous variables into ordinal variables based on which quantiles it is depending on the distribution of the column values"
   ]
  },
  {
   "cell_type": "code",
   "execution_count": null,
   "metadata": {
    "scrolled": true
   },
   "outputs": [],
   "source": [
    "for i, items in dummy.iteritems():\n",
    "    dummy[i] = pd.qcut(dummy[i].rank(method='first'), 10, labels=False)\n",
    "dummy.head(2)"
   ]
  },
  {
   "cell_type": "markdown",
   "metadata": {},
   "source": [
    "# Applying Nearest Neighbour SMOTE to re-balance dataset"
   ]
  },
  {
   "cell_type": "code",
   "execution_count": null,
   "metadata": {},
   "outputs": [],
   "source": [
    "\n",
    "sm = SMOTE(random_state=1, sampling_strategy = 'not majority')\n",
    "#sm = SMOTE(random_state=1, sampling_strategy = 'minority')\n",
    "X = dummy\n",
    "y = nonviolent_crime[target]\n",
    "\n",
    "X_train, X_test, y_train, y_test = train_test_split(X, y, random_state=1)\n",
    "X_train, y_train = sm.fit_sample(X_train, y_train)\n",
    "print(\"Number of training outcome labels:\",len(y_train))"
   ]
  },
  {
   "cell_type": "code",
   "execution_count": null,
   "metadata": {},
   "outputs": [],
   "source": [
    "logi.fit(X_train, y_train)\n",
    "scores = scores.append({'Model': 'SMOTE Log Reg', 'Train Accuracy': accuracy_score(y_train, logi.predict(X_train)), \n",
    "                      'Test Accuracy': accuracy_score(y_test, logi.predict(X_test)) }, ignore_index=True)"
   ]
  },
  {
   "cell_type": "code",
   "execution_count": null,
   "metadata": {},
   "outputs": [],
   "source": [
    "svm = SVC(gamma='auto', kernel = 'rbf')\n",
    "svm.fit(X_train, y_train)\n",
    "scores = scores.append({'Model': 'SMOTE SVC', 'Train Accuracy': svm.score(X_train, y_train), \n",
    "                      'Test Accuracy': svm.score(X_test, y_test) }, ignore_index=True)"
   ]
  },
  {
   "cell_type": "code",
   "execution_count": null,
   "metadata": {},
   "outputs": [],
   "source": [
    "mlp = MLPClassifier(random_state=0, max_iter=1000)\n",
    "mlp.fit(X_train, y_train)\n",
    "scores = scores.append({'Model': 'SMOTE MLP', 'Train Accuracy': mlp.score(X_train, y_train), \n",
    "                      'Test Accuracy': mlp.score(X_test, y_test) }, ignore_index=True)"
   ]
  },
  {
   "cell_type": "code",
   "execution_count": null,
   "metadata": {},
   "outputs": [],
   "source": [
    "mnb = MultinomialNB()\n",
    "mnb.fit(X_train, y_train)\n",
    "scores = scores.append({'Model': 'SMOTE MultiNB', 'Train Accuracy': mnb.score(X_train, y_train), \n",
    "                      'Test Accuracy': mnb.score(X_test, y_test) }, ignore_index=True)"
   ]
  },
  {
   "cell_type": "markdown",
   "metadata": {},
   "source": [
    "# Applying Borderline SMOTE re-balance dataset"
   ]
  },
  {
   "cell_type": "code",
   "execution_count": null,
   "metadata": {},
   "outputs": [],
   "source": [
    "\n",
    "sm = BorderlineSMOTE(random_state=1, sampling_strategy = 'not majority')\n",
    "#sm = SMOTE(random_state=1, sampling_strategy = 'minority')\n",
    "X = dummy\n",
    "y = nonviolent_crime[target]\n",
    "\n",
    "X_train, X_test, y_train, y_test = train_test_split(X, y, random_state=1)\n",
    "X_train, y_train = sm.fit_sample(X_train, y_train)\n",
    "print(\"Number of training outcome labels:\",len(y_train))"
   ]
  },
  {
   "cell_type": "code",
   "execution_count": null,
   "metadata": {},
   "outputs": [],
   "source": [
    "logi.fit(X_train, y_train)\n",
    "scores = scores.append({'Model': 'B-SMOTE Log Reg', 'Train Accuracy': accuracy_score(y_train, logi.predict(X_train)), \n",
    "                      'Test Accuracy': accuracy_score(y_test, logi.predict(X_test)) }, ignore_index=True)"
   ]
  },
  {
   "cell_type": "code",
   "execution_count": null,
   "metadata": {},
   "outputs": [],
   "source": [
    "svm = SVC(gamma='auto')\n",
    "svm.fit(X_train, y_train)\n",
    "scores = scores.append({'Model': 'B-SMOTE SVC', 'Train Accuracy': svm.score(X_train, y_train), \n",
    "                      'Test Accuracy': svm.score(X_test, y_test) }, ignore_index=True)"
   ]
  },
  {
   "cell_type": "code",
   "execution_count": null,
   "metadata": {},
   "outputs": [],
   "source": [
    "mlp = MLPClassifier(random_state=0, max_iter=1000)\n",
    "mlp.fit(X_train, y_train)\n",
    "scores = scores.append({'Model': 'B-SMOTE MLP', 'Train Accuracy': mlp.score(X_train, y_train), \n",
    "                      'Test Accuracy': mlp.score(X_test, y_test) }, ignore_index=True)"
   ]
  },
  {
   "cell_type": "code",
   "execution_count": null,
   "metadata": {},
   "outputs": [],
   "source": [
    "mnb = MultinomialNB()\n",
    "mnb.fit(X_train, y_train)\n",
    "scores = scores.append({'Model': 'B-SMOTE MultiNB', 'Train Accuracy': mnb.score(X_train, y_train), \n",
    "                      'Test Accuracy': mnb.score(X_test, y_test) }, ignore_index=True)"
   ]
  },
  {
   "cell_type": "markdown",
   "metadata": {},
   "source": [
    "# Undersampling using Condensed Nearest Neighbors"
   ]
  },
  {
   "cell_type": "code",
   "execution_count": null,
   "metadata": {
    "scrolled": true
   },
   "outputs": [],
   "source": [
    "\n",
    "\n",
    "cnn = CondensedNearestNeighbour(random_state=1)\n",
    "\n",
    "X = dummy\n",
    "y = nonviolent_crime[target]\n",
    "X_train, X_test, y_train, y_test = train_test_split(X, y, random_state=1)\n",
    "X_train, y_train = cnn.fit_resample(X_train, y_train)\n",
    "print(\"Number of training outcome labels:\",len(y_train))\n"
   ]
  },
  {
   "cell_type": "code",
   "execution_count": null,
   "metadata": {},
   "outputs": [],
   "source": [
    "logi.fit(X_train, y_train)\n",
    "scores = scores.append({'Model': 'CondensedNN Log Reg', 'Train Accuracy': accuracy_score(y_train, logi.predict(X_train)), \n",
    "                      'Test Accuracy': accuracy_score(y_test, logi.predict(X_test)) }, ignore_index=True)"
   ]
  },
  {
   "cell_type": "code",
   "execution_count": null,
   "metadata": {},
   "outputs": [],
   "source": [
    "svm = SVC(gamma='auto')\n",
    "svm.fit(X_train, y_train)\n",
    "scores = scores.append({'Model': 'CondensedNN SVC', 'Train Accuracy': svm.score(X_train, y_train), \n",
    "                      'Test Accuracy': svm.score(X_test, y_test) }, ignore_index=True)"
   ]
  },
  {
   "cell_type": "code",
   "execution_count": null,
   "metadata": {},
   "outputs": [],
   "source": [
    "mlp = MLPClassifier(random_state=0, max_iter=200)\n",
    "mlp.fit(X_train, y_train)\n",
    "scores = scores.append({'Model': 'CondensedNN MLP', 'Train Accuracy': mlp.score(X_train, y_train), \n",
    "                      'Test Accuracy': mlp.score(X_test, y_test) }, ignore_index=True)"
   ]
  },
  {
   "cell_type": "code",
   "execution_count": null,
   "metadata": {},
   "outputs": [],
   "source": [
    "mnb = MultinomialNB()\n",
    "mnb.fit(X_train, y_train)\n",
    "scores = scores.append({'Model': 'CondensedNN MultiNB', 'Train Accuracy': mnb.score(X_train, y_train), \n",
    "                      'Test Accuracy': mnb.score(X_test, y_test) }, ignore_index=True)"
   ]
  },
  {
   "cell_type": "markdown",
   "metadata": {},
   "source": [
    "# Combine oversampling by creating Synthetic datapoints with undersampling by removing Tomek Links"
   ]
  },
  {
   "cell_type": "code",
   "execution_count": null,
   "metadata": {},
   "outputs": [],
   "source": [
    "sm = SMOTETomek(random_state=1)\n",
    "X = dummy\n",
    "y = nonviolent_crime[target]\n",
    "X_train, X_test, y_train, y_test = train_test_split(X, y, random_state=1)\n",
    "X_train, y_train = sm.fit_resample(X_train, y_train)\n",
    "print(\"Number of training outcome labels:\",len(y_train))\n",
    "\n"
   ]
  },
  {
   "cell_type": "code",
   "execution_count": null,
   "metadata": {},
   "outputs": [],
   "source": [
    "logi.fit(X_train, y_train)\n",
    "scores = scores.append({'Model': 'SMOTE-Tomek Log Reg', 'Train Accuracy': accuracy_score(y_train, logi.predict(X_train)), \n",
    "                      'Test Accuracy': accuracy_score(y_test, logi.predict(X_test)) }, ignore_index=True)"
   ]
  },
  {
   "cell_type": "code",
   "execution_count": null,
   "metadata": {},
   "outputs": [],
   "source": [
    "svm = SVC(gamma='auto')\n",
    "svm.fit(X_train, y_train)\n",
    "scores = scores.append({'Model': 'SMOTE-Tomek SVC', 'Train Accuracy': svm.score(X_train, y_train), \n",
    "                      'Test Accuracy': svm.score(X_test, y_test) }, ignore_index=True)"
   ]
  },
  {
   "cell_type": "code",
   "execution_count": null,
   "metadata": {},
   "outputs": [],
   "source": [
    "mlp = MLPClassifier(random_state=0, max_iter=200)\n",
    "mlp.fit(X_train, y_train)\n",
    "scores = scores.append({'Model': 'SMOTE-Tomek MLP', 'Train Accuracy': mlp.score(X_train, y_train), \n",
    "                      'Test Accuracy': mlp.score(X_test, y_test) }, ignore_index=True)"
   ]
  },
  {
   "cell_type": "code",
   "execution_count": null,
   "metadata": {},
   "outputs": [],
   "source": [
    "mnb = MultinomialNB()\n",
    "mnb.fit(X_train, y_train)\n",
    "scores = scores.append({'Model': 'SMOTE-Tomek MultiNB', 'Train Accuracy': mnb.score(X_train, y_train), \n",
    "                      'Test Accuracy': mnb.score(X_test, y_test) }, ignore_index=True)"
   ]
  },
  {
   "cell_type": "code",
   "execution_count": null,
   "metadata": {},
   "outputs": [],
   "source": [
    "stacked_scores = pd.melt(scores, id_vars=['Model']).sort_values(['variable','value'])"
   ]
  },
  {
   "cell_type": "code",
   "execution_count": null,
   "metadata": {},
   "outputs": [],
   "source": [
    "fig, axes = plt.subplots(ncols = 1, figsize = (15,7))\n",
    "sns.barplot(x='Model', y='value', hue='variable', data=stacked_scores, ax = axes)\n",
    "plt.xticks(rotation=90)\n",
    "plt.ylabel('Accuracy')\n",
    "plt.title('Training vs Testing - Accuracy score');\n",
    "plt.rc('xtick', labelsize=10) \n",
    "plt.show()"
   ]
  },
  {
   "cell_type": "markdown",
   "metadata": {},
   "source": [
    "## General comments on over-sampling techniques\n",
    "Looking at the 2 oversampling methods, it is clear that all 3 classification models, apart from Multinomial NB, have a tendency to under-fit. This could be due to the models just \"memorise\" the labels rather than actually learning to predict the labels."
   ]
  },
  {
   "cell_type": "markdown",
   "metadata": {},
   "source": [
    "## General comments on under-sampling techniques\n",
    "Looking at the undersampling, it is clear that all 4 classification models have a tendency to under-fit. This means that the models here perform rather poor on training data, and that its higher testing accuracy might be due to chance."
   ]
  },
  {
   "cell_type": "markdown",
   "metadata": {},
   "source": [
    "# Analysis of label prediction after using different re-sampling techniques on training data\n",
    "\n",
    "Similar to prediction for violent crime, the model that showed the highest consistency (accuracy similarity) is weighted multinomial logistic regresion. However, all tested models performed worse in prediction for non-violent crime in comparison with prediction for violent crime, due to non-violent crime have more labels (prediction outcomes).\n",
    "\n",
    "In general, resampling algorithms depends very much on the quality of the dataset you have. If you have severe data imbalance, resampling algorithms may be ineffective in generating a high-quality dataset, despite their capability to balance out the dataset. \n",
    "\n",
    "This is largely due to the similarities between the two classes minority classes being very high (and hence the oversample resulting in low-quality repetitive data), despite them being acceptably close in terms of total occurrences' proportion. \n",
    "\n",
    "To determine that this is the case, we will try to train a classification model on the minority classes (which are not as strongly skewed towards any class as the dataset above) and check the results if the classification accuracy remains low despite the relatively balanced dataset."
   ]
  },
  {
   "cell_type": "markdown",
   "metadata": {},
   "source": [
    "# Minority Labels Analysis"
   ]
  },
  {
   "cell_type": "code",
   "execution_count": null,
   "metadata": {},
   "outputs": [],
   "source": [
    "minority = nonviolent_crime[~nonviolent_crime['Primary Type'].isin(\n",
    "    ['THEFT'])]\n",
    "label = minority['Primary Type']"
   ]
  },
  {
   "cell_type": "code",
   "execution_count": null,
   "metadata": {},
   "outputs": [],
   "source": [
    "minority  = pd.get_dummies(minority[features]).copy()\n",
    "minority.drop(columns=['Community Area'], inplace = True)"
   ]
  },
  {
   "cell_type": "code",
   "execution_count": null,
   "metadata": {},
   "outputs": [],
   "source": [
    "for i, items in minority.iteritems():\n",
    "    minority[i] = pd.qcut(minority[i].rank(method='first'), 10, labels=False)\n",
    "X = minority\n",
    "y = label\n",
    "\n",
    "X_train, X_test, y_train, y_test = train_test_split(X, y, random_state=1)\n",
    "X_train, y_train = sm.fit_sample(X_train, y_train)\n",
    "print(\"Number of training outcome labels:\",len(y_train))\n",
    "minority_scores = pd.DataFrame(columns=['Model', 'Train Accuracy', 'Test Accuracy'])"
   ]
  },
  {
   "cell_type": "code",
   "execution_count": null,
   "metadata": {},
   "outputs": [],
   "source": [
    "logi.fit(X_train, y_train)\n",
    "minority_scores = minority_scores.append({'Model': 'Minority Log Reg', 'Train Accuracy': accuracy_score(y_train, logi.predict(X_train)), \n",
    "                      'Test Accuracy': accuracy_score(y_test, logi.predict(X_test)) }, ignore_index=True)"
   ]
  },
  {
   "cell_type": "code",
   "execution_count": null,
   "metadata": {},
   "outputs": [],
   "source": [
    "svm = SVC(gamma='auto', kernel = 'rbf')\n",
    "svm.fit(X_train, y_train)\n",
    "minority_scores = minority_scores.append({'Model': 'Minority SVC', 'Train Accuracy': svm.score(X_train, y_train), \n",
    "                      'Test Accuracy': svm.score(X_test, y_test) }, ignore_index=True)"
   ]
  },
  {
   "cell_type": "code",
   "execution_count": null,
   "metadata": {},
   "outputs": [],
   "source": [
    "mlp = MLPClassifier(random_state=0, max_iter=1000)\n",
    "mlp.fit(X_train, y_train)\n",
    "minority_scores = minority_scores.append({'Model': 'Minority MLP', 'Train Accuracy': mlp.score(X_train, y_train), \n",
    "                      'Test Accuracy': mlp.score(X_test, y_test) }, ignore_index=True)"
   ]
  },
  {
   "cell_type": "code",
   "execution_count": null,
   "metadata": {},
   "outputs": [],
   "source": [
    "mnb = MultinomialNB()\n",
    "mnb.fit(X_train, y_train)\n",
    "minority_scores = minority_scores.append({'Model': 'Minority MultiNB', 'Train Accuracy': mnb.score(X_train, y_train), \n",
    "                      'Test Accuracy': mnb.score(X_test, y_test) }, ignore_index=True)"
   ]
  },
  {
   "cell_type": "code",
   "execution_count": null,
   "metadata": {},
   "outputs": [],
   "source": [
    "stacked_minority_scores = pd.melt(minority_scores, id_vars=['Model']).sort_values(['variable','value'])"
   ]
  },
  {
   "cell_type": "code",
   "execution_count": null,
   "metadata": {},
   "outputs": [],
   "source": [
    "fig, axes = plt.subplots(ncols = 1, figsize = (15,7))\n",
    "sns.barplot(x='Model', y='value', hue='variable', data=stacked_minority_scores, ax = axes)\n",
    "plt.xticks(rotation=90)\n",
    "plt.ylabel('Accuracy')\n",
    "plt.title('Training vs Testing - Accuracy score');\n",
    "plt.show()"
   ]
  },
  {
   "cell_type": "markdown",
   "metadata": {},
   "source": [
    "As suspected above, despite having a relatively \"balanced\" dataset, the models still perform poorly, even more so comparing to the logistic regression model with the original imbalanced dataset."
   ]
  },
  {
   "cell_type": "markdown",
   "metadata": {},
   "source": [
    "# Feature selection - Feature importance"
   ]
  },
  {
   "cell_type": "code",
   "execution_count": null,
   "metadata": {},
   "outputs": [],
   "source": [
    "X = dummy\n",
    "y = nonviolent_crime[target]\n",
    "X_train, X_test, y_train, y_test = train_test_split(X, y, random_state=1)\n",
    "\n",
    "etc = ExtraTreesClassifier()\n",
    "etc.fit(X_train, y_train)\n",
    "print(etc.feature_importances_)\n",
    "feat_importances = pd.Series(etc.feature_importances_, index=X_train.columns)\n",
    "feat_importances.nlargest(len(X)).plot(kind='barh')\n",
    "plt.show()"
   ]
  },
  {
   "cell_type": "markdown",
   "metadata": {},
   "source": [
    "# Feature selection (top 5) without re-sampling"
   ]
  },
  {
   "cell_type": "code",
   "execution_count": null,
   "metadata": {},
   "outputs": [],
   "source": [
    "filtered = dummy[['Arrest_True', 'Arrest_False', 'Latitude', 'Longitude', 'Domestic_True']]\n",
    "X = filtered\n",
    "y = nonviolent_crime[target]\n",
    "X_train, X_test, y_train, y_test = train_test_split(X, y, random_state=1)\n",
    "\n",
    "feature_score = pd.DataFrame(columns=['Model', 'Train Accuracy', 'Test Accuracy'])\n",
    "print(\"Number of training outcome labels:\",len(y_train))"
   ]
  },
  {
   "cell_type": "code",
   "execution_count": null,
   "metadata": {},
   "outputs": [],
   "source": [
    "logi.fit(X_train, y_train)\n",
    "feature_score = feature_score.append({'Model': 'FS Log Reg', 'Train Accuracy': accuracy_score(y_train, logi.predict(X_train)), \n",
    "                      'Test Accuracy': accuracy_score(y_test, logi.predict(X_test)) }, ignore_index=True)"
   ]
  },
  {
   "cell_type": "code",
   "execution_count": null,
   "metadata": {},
   "outputs": [],
   "source": [
    "svm = SVC(gamma='auto', class_weight = 'balanced')\n",
    "svm.fit(X_train, y_train)\n",
    "feature_score = feature_score.append({'Model': 'FS SVC', 'Train Accuracy': svm.score(X_train, y_train), \n",
    "                      'Test Accuracy': svm.score(X_test, y_test) }, ignore_index=True)"
   ]
  },
  {
   "cell_type": "code",
   "execution_count": null,
   "metadata": {},
   "outputs": [],
   "source": [
    "mlp = MLPClassifier(random_state=0, max_iter=200)\n",
    "mlp.fit(X_train, y_train)\n",
    "feature_score = feature_score.append({'Model': 'FS MLP', 'Train Accuracy': mlp.score(X_train, y_train), \n",
    "                      'Test Accuracy': mlp.score(X_test, y_test) }, ignore_index=True)"
   ]
  },
  {
   "cell_type": "code",
   "execution_count": null,
   "metadata": {},
   "outputs": [],
   "source": [
    "mnb = MultinomialNB()\n",
    "mnb.fit(X_train, y_train)\n",
    "feature_score = feature_score.append({'Model': 'FS MultiNB', 'Train Accuracy': mnb.score(X_train, y_train), \n",
    "                      'Test Accuracy': mnb.score(X_test, y_test) }, ignore_index=True)"
   ]
  },
  {
   "cell_type": "markdown",
   "metadata": {},
   "source": [
    "# Feature selection with under-sampling"
   ]
  },
  {
   "cell_type": "code",
   "execution_count": null,
   "metadata": {},
   "outputs": [],
   "source": [
    "X = filtered\n",
    "y = nonviolent_crime[target]\n",
    "X_train, X_test, y_train, y_test = train_test_split(X, y, random_state=1)\n",
    "X_train, y_train = cnn.fit_resample(X_train, y_train)\n",
    "print(\"Number of training outcome labels:\",len(y_train))\n"
   ]
  },
  {
   "cell_type": "code",
   "execution_count": null,
   "metadata": {},
   "outputs": [],
   "source": [
    "logi.fit(X_train, y_train)\n",
    "feature_score = feature_score.append({'Model': 'FS-Undersampling Log Reg', 'Train Accuracy': accuracy_score(y_train, logi.predict(X_train)), \n",
    "                      'Test Accuracy': accuracy_score(y_test, logi.predict(X_test)) }, ignore_index=True)"
   ]
  },
  {
   "cell_type": "code",
   "execution_count": null,
   "metadata": {},
   "outputs": [],
   "source": [
    "svm = SVC(gamma='auto', kernel = 'rbf')\n",
    "svm.fit(X_train, y_train)\n",
    "feature_score = feature_score.append({'Model': 'FS-Undersampling SVC', 'Train Accuracy': svm.score(X_train, y_train), \n",
    "                      'Test Accuracy': svm.score(X_test, y_test) }, ignore_index=True)"
   ]
  },
  {
   "cell_type": "code",
   "execution_count": null,
   "metadata": {},
   "outputs": [],
   "source": [
    "mlp = MLPClassifier(random_state=0, max_iter=200)\n",
    "mlp.fit(X_train, y_train)\n",
    "feature_score = feature_score.append({'Model': 'FS-Undersampling MLP', 'Train Accuracy': mlp.score(X_train, y_train), \n",
    "                      'Test Accuracy': mlp.score(X_test, y_test) }, ignore_index=True)"
   ]
  },
  {
   "cell_type": "code",
   "execution_count": null,
   "metadata": {},
   "outputs": [],
   "source": [
    "mnb = MultinomialNB()\n",
    "mnb.fit(X_train, y_train)\n",
    "feature_score = feature_score.append({'Model': 'FS-Undersampling MultiNB', 'Train Accuracy': mnb.score(X_train, y_train), \n",
    "                      'Test Accuracy': mnb.score(X_test, y_test) }, ignore_index=True)"
   ]
  },
  {
   "cell_type": "code",
   "execution_count": null,
   "metadata": {},
   "outputs": [],
   "source": [
    "stacked_feature_score = pd.melt(feature_score, id_vars=['Model']).sort_values(['variable','value'])"
   ]
  },
  {
   "cell_type": "code",
   "execution_count": null,
   "metadata": {},
   "outputs": [],
   "source": [
    "fig, axes = plt.subplots(ncols = 1, figsize = (15,7))\n",
    "sns.barplot(x='Model', y='value', hue='variable', data=stacked_feature_score, ax = axes)\n",
    "plt.xticks(rotation=90)\n",
    "plt.ylabel('Accuracy')\n",
    "plt.title('Training vs Testing - Accuracy score');\n",
    "plt.rc('xtick', labelsize=10) \n",
    "plt.show()"
   ]
  },
  {
   "cell_type": "markdown",
   "metadata": {},
   "source": [
    "## Analysis on feature selection\n",
    "Looking at the accuracy score, we can see that, apart from Support Vector Machine,  the 3 models are performing consistently despite their performance being quite poor. There are no signs of underfitting or overfitting, however, the dataset is still very much imbalanced.\n",
    "\n",
    "On the other hand, re-sampling the dataset again results in poorer performance, indicating the \"low-quality\" of the training and test data."
   ]
  },
  {
   "cell_type": "markdown",
   "metadata": {},
   "source": [
    "# Some distribution plot"
   ]
  },
  {
   "cell_type": "markdown",
   "metadata": {},
   "source": [
    "### INFERENCES:\n",
    "A very small percentage of arrest in the 2 categories can be noticed above, and are similar enough. This indicates that there is not a certain emphasis of the police force on solving either sub-groups of crime. \n",
    "\n",
    "The generally low arrest rate could be due to lack of funding for law enforcement, which renders the police force unable to resolve so many crimes.\n",
    "\n"
   ]
  },
  {
   "cell_type": "markdown",
   "metadata": {},
   "source": [
    " # DATA SCIENCE PROJECT- \n",
    " ## *Investigating Crime in Chicago*\n",
    "### GROUP C (Tuesday:1pm-3pm)\n",
    "\n",
    "\n",
    "* <span style=\"color:blue\"> ***Canh Thanh Nguyen (45551936)*** </span>\n",
    "* <span style=\"color:orange\"> ***Jarred Reilly (43264204)*** </span>\n",
    "* <span style=\"color:green\"> ***Soham Sarfare (45812748)*** </span>\n",
    "* <span style=\"color:red\"> ***Sukhmani Arora (45574715)*** </span>\n",
    "\n"
   ]
  },
  {
   "cell_type": "markdown",
   "metadata": {},
   "source": [
    "### The main interest of topics below are :\n",
    "- Find out number of crimes per community\n",
    "- Correlate number of crimes to the economic factors. \n",
    "- Perform regression analysis linking economic factors to number of crimes or crime rate if we can get pop data\n",
    "- Based on location (latitude,longitude) find which crime is most likely in that area using logistic regression. \n",
    "- Try to do a time series analysis on the data: Try to fit ARIMA model with respect to number of crimes and time of year and/or area.\n",
    "\n",
    "Predict crime type based on location, date, time, beat whether it is domestic or not"
   ]
  },
  {
   "cell_type": "code",
   "execution_count": null,
   "metadata": {},
   "outputs": [],
   "source": [
    "import numpy as np\n",
    "import pandas as pd\n",
    "import matplotlib.pyplot as plt\n",
    "import sklearn\n",
    "import seaborn as sns\n",
    "import statsmodels.tsa.statespace.sarimax as sms\n",
    "from statsmodels.graphics.tsaplots import plot_pacf\n",
    "from statsmodels.graphics.tsaplots import plot_acf\n",
    "from itertools import product\n",
    "import warnings\n",
    "warnings.filterwarnings('ignore')"
   ]
  },
  {
   "cell_type": "code",
   "execution_count": null,
   "metadata": {},
   "outputs": [],
   "source": [
    "df = pd.read_csv('data/Chicago_Merged.csv')\n",
    "factors = pd.read_csv('data/Chicago_Socioeconomic_Indicators.csv')\n",
    "df.head()"
   ]
  },
  {
   "cell_type": "code",
   "execution_count": null,
   "metadata": {},
   "outputs": [],
   "source": [
    "no_of_crimes = df[['Community Area','COMMUNITY AREA NAME']]\n",
    "no_of_crimes = no_of_crimes.set_index('Community Area').sort_index().dropna()\n",
    "no_of_crimes = no_of_crimes.drop_duplicates()\n",
    "\n",
    "count = 0\n",
    "crimes = []\n",
    "for val in no_of_crimes['COMMUNITY AREA NAME']:\n",
    "    for entry in df['COMMUNITY AREA NAME']:\n",
    "        if(entry == val):\n",
    "            count = count + 1\n",
    "    crimes.append(count)\n",
    "    \n",
    "no_of_crimes['Crimes'] = crimes\n",
    "no_of_crimes.tail()"
   ]
  },
  {
   "cell_type": "code",
   "execution_count": null,
   "metadata": {},
   "outputs": [],
   "source": [
    "factors = factors.set_index('Community Area Number')\n",
    "no_of_crimes = no_of_crimes.join(factors, how='outer', on='Community Area',lsuffix='_caller').dropna()\n",
    "no_of_crimes.head()"
   ]
  },
  {
   "cell_type": "code",
   "execution_count": null,
   "metadata": {},
   "outputs": [],
   "source": [
    "no_of_crimes.tail"
   ]
  },
  {
   "cell_type": "code",
   "execution_count": null,
   "metadata": {
    "scrolled": false
   },
   "outputs": [],
   "source": [
    "#fig, axs = plt.subplots((3,2))\n",
    "for col in no_of_crimes.columns[3:]:\n",
    "        plt.scatter(no_of_crimes['Crimes'],no_of_crimes[col])\n",
    "        plt.title(\"Scatter plot of Crimes vs {}\".format(col))\n",
    "        plt.show()\n",
    "sns.pairplot(no_of_crimes)\n",
    "\n"
   ]
  },
  {
   "cell_type": "markdown",
   "metadata": {},
   "source": [
    "**The above pairplot indicated that there is not much correlation between features so fitting the model may not be possible.**"
   ]
  },
  {
   "cell_type": "markdown",
   "metadata": {},
   "source": [
    "### **Next, we try to calculate the r2 scores of training and test data respectively, the data is splitted into train and test sets and scores of predicted and actual values are plotted for following models:**\n",
    "- Linear Regression,Support Vector, Neural network and Random Forest Regressor"
   ]
  },
  {
   "cell_type": "code",
   "execution_count": null,
   "metadata": {},
   "outputs": [],
   "source": [
    "from sklearn.model_selection import train_test_split\n",
    "import sklearn.metrics as metric\n",
    "\n",
    "train,test = train_test_split(no_of_crimes,test_size=0.1, random_state=1)\n",
    "train = train.dropna()\n",
    "test = test.dropna()"
   ]
  },
  {
   "cell_type": "code",
   "execution_count": null,
   "metadata": {
    "scrolled": false
   },
   "outputs": [],
   "source": [
    "sns.pairplot(no_of_crimes)\n",
    "plt.savefig(\"sample.png\")\n",
    "# Say that graphs show little correlation so fitting model may not be possible"
   ]
  },
  {
   "cell_type": "code",
   "execution_count": null,
   "metadata": {},
   "outputs": [],
   "source": [
    "from sklearn.model_selection import train_test_split\n",
    "import sklearn.metrics as metric\n",
    "\n",
    "X_train,X_test,y_train,y_test = train_test_split(no_of_crimes.iloc[:,3:].values,\n",
    "                                                 no_of_crimes.Crimes.values,test_size=0.2, random_state=1)"
   ]
  },
  {
   "cell_type": "code",
   "execution_count": null,
   "metadata": {
    "scrolled": false
   },
   "outputs": [],
   "source": [
    "from sklearn.linear_model import LinearRegression\n",
    "\n",
    "regressor = LinearRegression()\n",
    "regressor.fit(X_train,y_train)\n",
    "y_pred = regressor.predict(X_train)\n",
    "print(\"R2 score on training data: \",metric.r2_score(y_train,y_pred))\n",
    "\n",
    "y_pred = regressor.predict(X_test)\n",
    "print(\"R2 score on testing data: \",metric.r2_score(y_test,y_pred))\n",
    "\n",
    "plt.figure(figsize=(15,5))\n",
    "plt.plot(y_pred, label='predicted')\n",
    "plt.plot(y_test, label='actual')\n",
    "plt.xlabel(\"Value Combination\")\n",
    "plt.ylabel(\"No of Crimes\")\n",
    "plt.legend()\n",
    "plt.savefig(\"plot/Linear.png\")"
   ]
  },
  {
   "cell_type": "code",
   "execution_count": null,
   "metadata": {},
   "outputs": [],
   "source": [
    "def plot_residuals(regressor):\n",
    "    y_pred = regressor.predict(X_train)\n",
    "    residuals = y_train - y_pred\n",
    "\n",
    "    plot_acf(residuals,lags=36)\n",
    "    plot_pacf(residuals,lags=36)\n",
    "plot_residuals(regressor)"
   ]
  },
  {
   "cell_type": "code",
   "execution_count": null,
   "metadata": {},
   "outputs": [],
   "source": [
    "from sklearn.svm import SVR\n",
    "\n",
    "regressor = SVR()\n",
    "regressor.fit(X_train, y_train)\n",
    "y_pred = regressor.predict(X_test)\n",
    "\n",
    "y_pred = regressor.predict(X_train)\n",
    "print(\"R2 score on training data: \",metric.r2_score(y_train,y_pred))\n",
    "\n",
    "y_pred = regressor.predict(X_test)\n",
    "print(\"R2 score on testing data: \",metric.r2_score(y_test,y_pred))\n",
    "\n",
    "plt.figure(figsize=(15,5))\n",
    "plt.plot(y_pred, label='predicted')\n",
    "plt.plot(y_test, label='actual')\n",
    "plt.legend()\n"
   ]
  },
  {
   "cell_type": "code",
   "execution_count": null,
   "metadata": {},
   "outputs": [],
   "source": [
    "plot_residuals(regressor)"
   ]
  },
  {
   "cell_type": "code",
   "execution_count": null,
   "metadata": {},
   "outputs": [],
   "source": [
    "from sklearn.neural_network import MLPRegressor\n",
    "\n",
    "regressor = MLPRegressor(solver='lbfgs',random_state=0)\n",
    "regressor.fit(X_train,y_train)\n",
    "\n",
    "y_pred = regressor.predict(X_train)\n",
    "print(\"R2 score on training data: \",metric.r2_score(y_train,y_pred))\n",
    "\n",
    "y_pred = regressor.predict(X_test)\n",
    "print(\"R2 score on testing data: \",metric.r2_score(y_test,y_pred))\n",
    "\n",
    "plt.figure(figsize=(15,5))\n",
    "plt.plot(y_pred, label='predicted')\n",
    "plt.plot(y_test, label='actual')\n",
    "plt.xlabel(\"Value Combination\")\n",
    "plt.ylabel(\"No of Crimes\")\n",
    "plt.legend()\n",
    "plt.savefig(\"plot/MLP.png\")"
   ]
  },
  {
   "cell_type": "code",
   "execution_count": null,
   "metadata": {},
   "outputs": [],
   "source": [
    "plot_residuals(regressor)"
   ]
  },
  {
   "cell_type": "code",
   "execution_count": null,
   "metadata": {},
   "outputs": [],
   "source": [
    "from sklearn.ensemble import RandomForestRegressor\n",
    "\n",
    "regressor = RandomForestRegressor(n_estimators=100,criterion='mse',random_state=0)\n",
    "regressor.fit(X_train,y_train)\n",
    "\n",
    "y_pred = regressor.predict(X_train)\n",
    "print(\"R2 score on training data: \",metric.r2_score(y_train,y_pred))\n",
    "\n",
    "y_pred = regressor.predict(X_test)\n",
    "print(\"R2 score on testing data: \",metric.r2_score(y_test,y_pred))\n",
    "\n",
    "plt.figure(figsize=(15,5))\n",
    "plt.plot(y_pred, label='predicted')\n",
    "plt.plot(y_test, label='actual')\n",
    "plt.xlabel(\"Value Combination\")\n",
    "plt.ylabel(\"No of Crimes\")\n",
    "plt.legend()\n",
    "plt.savefig(\"plot/Random.png\")"
   ]
  },
  {
   "cell_type": "markdown",
   "metadata": {},
   "source": [
    "### After looking at the scores and plots of data using the above models, we see that none of the model fits well and as features are not correlated in a satisfactory way, these model fail. Hence, we proceed with ARIMA model and analyse it thoroughly.\n"
   ]
  },
  {
   "cell_type": "markdown",
   "metadata": {},
   "source": [
    "## <span style=\"color:blue\"> **ARIMA(AUTO REGRESSIVE - MOVING AVERAGE)** </span>\n",
    "\n",
    "**In this data , ARIMA model is used to forecast the future number of crimes that is- we will analyse the number of crimes that will happen next year with the previous year's set of data.**\n",
    "\n",
    "An ARIMA model uses the correlations in the data to suggest a model expressing future observations in terms of the past observations.\n",
    "\n",
    "**ARIMA Method:**\n",
    "1. Check to see if the data looks like it comes from a stationary process (stationary time series) and, if necessary, transform the data so that the transformed data looks like it comes from a stationary process.\n",
    "**Stationarity:**\n",
    "The ARIMA approach assumes that the data come from a stationary process. i.e. that the data are independent of time, in the long term. The data can be variable (or highly variable) - but the time series plot (sequence chart) of the data-\n",
    "***fluctuate around a constant mean,***\n",
    "***the variance of that fluctuation is also constant over time.***\n",
    "\n",
    "2. Use the pattern in the ACF and PACF of the data to suggest a possible forecasting model.\n",
    "**Auto-correlation coefficient:** Any pattern can be represented by looking at the how the observations are correlated with each other - will usually need to consider those correlations. **Partial auto-correlation** at lag k is the additional auto-correlation at lag k that is not explained by the earlier lags of 1, 2, 3, … (k-1) etc. Obviously, the auto-correlation and partial autocorrelation at lag 1 are the same.\n",
    "3. Determine that forecasting model and obtain the residuals of that model.\n",
    "4. Check the ACF and PACF of the residuals to determine if there is any pattern (i.e.information) left. Use that pattern to suggest a better model.\n",
    "5. Repeat the process until the residuals can be considered independent error terms.\n",
    "6. Use the optimum model for prediction."
   ]
  },
  {
   "cell_type": "code",
   "execution_count": null,
   "metadata": {},
   "outputs": [],
   "source": [
    "plot_residuals(regressor)"
   ]
  },
  {
   "cell_type": "code",
   "execution_count": null,
   "metadata": {},
   "outputs": [],
   "source": [
    "# starting data prep for ARIMA\n",
    "df.Date = pd.to_datetime(df.Date)\n",
    "df = df.sort_values(by='Date')\n",
    "df = df.dropna()\n",
    "df.head()"
   ]
  },
  {
   "cell_type": "code",
   "execution_count": null,
   "metadata": {},
   "outputs": [],
   "source": [
    "# Counting crimes per month\n",
    "timely = pd.DataFrame()\n",
    "years = [i for i in range(2015,2020)]\n",
    "months = [i for i in range(1,13)]\n",
    "days = [i for i in range(1,32)]\n",
    "\n",
    "year = []\n",
    "month = []\n",
    "day = []\n",
    "count = 0\n",
    "\n",
    "def counting(m, y):\n",
    "    flag = True;\n",
    "    i = 0;\n",
    "    counts = 0\n",
    "    while(flag):\n",
    "        if(df.iloc[i].Date.month == m and df.iloc[i].Date.year == y):\n",
    "            counts = counts + 1\n",
    "            i = i + 1\n",
    "        else:\n",
    "            flag = False\n",
    "    return count\n",
    "\n",
    "for y in years:\n",
    "    for m in months:\n",
    "        for i in range(0,df.shape[0]):\n",
    "            if(df.iloc[i].Date.month == m and df.iloc[i].Date.year == y):\n",
    "                count = count + 1\n",
    "            #count = counting(i,y)\n",
    "        timely = timely.append(pd.DataFrame(np.array([[y,m,count,'{}-{}-1'.format(y,m)]]), \n",
    "                                            columns=['year','month','crime','time']))\n",
    "        count = 0\n",
    "        \n",
    "timely.crime = pd.to_numeric(timely.crime)\n",
    "timely.index = timely.time\n",
    "timely.index = pd.to_datetime(timely.index)\n",
    "timely = timely.loc[:'2019-07-01']\n",
    "timely.head()"
   ]
  },
  {
   "cell_type": "markdown",
   "metadata": {},
   "source": [
    "##### Now comes the concept of seasonal ARIMA . When the data is seasonal as in our case it is monthly data ,we try to fit an ARIMA model to our monthly data and determine the rate of crime.\n",
    "\n",
    "**Creating the sequence charts with:**\n",
    "- First order difference\n",
    "- First order seasonal difference\n",
    "- First order non-seasonal difference\n",
    "\n",
    "*<span style=\"color:blue\"> ***If the series has a trend over time we can often remove that trend by differencing and working out a forecasting model on the differences.*** </span>\n",
    "\n",
    "**SEASONAL ARIMA**\n",
    "If data appeared to come from a stationary process but that there was a strong seasonal effect.\n",
    "A model is needed that incorporates:\n",
    "- the immediate history and\n",
    "- the seasonal history.\n",
    "- Two separate ARIMA terms need to be defined :***an ARIMA on the non-seasonal data and an ARIMA on the seasonal data.***"
   ]
  },
  {
   "cell_type": "code",
   "execution_count": null,
   "metadata": {
    "scrolled": false
   },
   "outputs": [],
   "source": [
    "timely['first-order-diff'] = timely.crime - timely.crime.shift(1)\n",
    "timely['first-order-seasonal-diff'] = timely.crime - timely.crime.shift(12)\n",
    "timely['first-order-nonNseas-diff'] = timely['first-order-diff'] - timely['first-order-diff'].shift(12)\n",
    "\n",
    "fig, axs = plt.subplots(2,2, figsize=(20,10))\n",
    "\n",
    "plt.figure(figsize=(20,10))\n",
    "axs[0][0].plot(timely.crime)\n",
    "axs[0][0].set_title(\"Raw Data\")\n",
    "\n",
    "\n",
    "axs[0][1].plot(timely['first-order-diff'])\n",
    "axs[0][1].set_title(\"First Order Non-Seasonal Difference\")\n",
    "\n",
    "\n",
    "axs[1][0].plot(timely['first-order-seasonal-diff'])\n",
    "axs[1][0].set_title(\"First Order Seasonal Difference\")\n",
    "\n",
    "axs[1][1].plot(timely['first-order-nonNseas-diff'])\n",
    "axs[1][1].set_title(\"First Order Seasonal and Non-Seasonal Difference\")\n",
    "\n",
    "fig.savefig(\"plot/Sequence Charts.png\")"
   ]
  },
  {
   "cell_type": "markdown",
   "metadata": {},
   "source": [
    "The above sequence charts show that the first order difference of the data fluctuates around a const mean and has variability under an acceptable band."
   ]
  },
  {
   "cell_type": "markdown",
   "metadata": {},
   "source": [
    "### Normalized BIC:\n",
    "Is a measure of the Likelihood of the Model. The Likelihood can always be improved by adding terms to the model. The Normalized BIC is the Likelihood with a penalty incorporated taking into account the number of parameters fitted. The more parameters fitted, the more the model is a product of your particular data-set. The aim is to explain as much of the variation in the data with as few parameters as possible. The value is not important, but is useful for comparing models. The model with the lower Normalized BIC is the better model."
   ]
  },
  {
   "cell_type": "markdown",
   "metadata": {},
   "source": [
    "### How to make decision on what AR or MA model to fit by looking at ACF and PACF plots?\n",
    "- If a large number of lags of an MA are suggested as contributing to the model suggests a low order AR\n",
    "- If a large number of lags of an AR are suggestedas contributing to the model suggests a low order MA\n",
    "- Whatever model is selected, the number of parameters used should be as few as possible.\n",
    "- A better fit can always be achieved by adding more parameters to the model,  and the more the model is a function of that particular data set.\n",
    "- The fewer parameters that are used, the more likely the model will be universally useful.\n",
    "\n",
    "**Classic Patterns**\n",
    "- Case 1: Decreasing ACF, the first p lags of the PACF significant, then cut-off  AR(p) i.e. ARIMA(p, 0, 0)\n",
    "- Case 2: Decreasing PACF, the first q lags of the ACF significant, then cut-off MA(q) i.e. ARIMA(0, 0, q)\n",
    "- Case 3: The first q lags of the ACF significant, then cutoff,  the first p lags of the PACF significant, then cut-off, AR(p), MA(q) i.e. ARIMA(p, 0, q)"
   ]
  },
  {
   "cell_type": "code",
   "execution_count": null,
   "metadata": {},
   "outputs": [],
   "source": [
    "plot_acf(timely['first-order-nonNseas-diff'].dropna(),lags=36)\n",
    "plt.savefig('plot/acf 1.png')\n",
    "plot_pacf(timely['first-order-nonNseas-diff'].dropna(),lags=36)\n",
    "plt.savefig('plot/pacf 1.png')"
   ]
  },
  {
   "cell_type": "code",
   "execution_count": null,
   "metadata": {},
   "outputs": [],
   "source": [
    "import statsmodels.tsa.statespace.sarimax as sms\n",
    "def optimiseSARIMA(endog,params,d,D,s):\n",
    "    best_bic = float(\"inf\")\n",
    "    result = []\n",
    "    for parameters in params:\n",
    "        try:\n",
    "            model = sms.SARIMAX(endog,order=(parameters[0],d,parameters[1]),\n",
    "                                seasonal_order=(parameters[2],D,parameters[3],s)).fit(disp=0)\n",
    "            #print(parameters[0])\n",
    "            if model.bic < best_bic:\n",
    "                best_bic = model.bic\n",
    "                result = [parameters]\n",
    "        except:\n",
    "            continue\n",
    "        \n",
    "    return result"
   ]
  },
  {
   "cell_type": "code",
   "execution_count": null,
   "metadata": {},
   "outputs": [],
   "source": [
    "p = [i for i in range(0,5)]\n",
    "q = [i for i in range(0,5)]\n",
    "d = [1]\n",
    "D = [1]\n",
    "s = [12]\n",
    "\n",
    "endog = timely.crime\n",
    "pramas = product(p,q,[0],[0])\n",
    "params = list(pramas)\n",
    "parameters = optimiseSARIMA(endog,params,d[0],D[0],s[0])\n",
    "print(\"The best model with the lowest BIC is ARIMA({},{},{})({},{},{}) with periodicity as {}\".format(parameters[0][0],\n",
    "                                                                                                      d[0],\n",
    "                                                                                                      parameters[0][1],\n",
    "                                                                                                      parameters[0][2],\n",
    "                                                                                                      D[0],\n",
    "                                                                                                      parameters[0][3],\n",
    "                                                                                                      s[0]))"
   ]
  },
  {
   "cell_type": "markdown",
   "metadata": {},
   "source": [
    "### The best model with the lowest BIC is ARIMA(2,1,3)(0,0,0) with periodicity as 0. Hence, we proceed to fit this model."
   ]
  },
  {
   "cell_type": "code",
   "execution_count": null,
   "metadata": {
    "scrolled": false
   },
   "outputs": [],
   "source": [
    "sarima = sms.SARIMAX(endog,order=(parameters[0][0],d[0],parameters[0][1]),\n",
    "                     seasonal_order=(parameters[0][2],D[0],parameters[0][3],s[0])).fit(disp=0)\n",
    "sarima.summary()"
   ]
  },
  {
   "cell_type": "markdown",
   "metadata": {},
   "source": [
    "There are few lags that are do not contribute significantly to the model. Hence this model is not good and we have to remove lags and try to fit another ARIMA model. Also, after looking at the graph of the fitted values below we see that it is not a proper fit hence, we try to add more data and further fit a seasonal ARIMA model."
   ]
  },
  {
   "cell_type": "code",
   "execution_count": null,
   "metadata": {},
   "outputs": [],
   "source": [
    "pred = sarima.predict()\n",
    "forecast = sarima.predict(start=timely.shape[0],end=timely.shape[0]+12)\n",
    "timely['modeled'] = sarima.fittedvalues\n",
    "timely['modeled'][:1] = np.NaN\n",
    "error = np.mean(np.abs((timely['crime'][1:] - timely['modeled'][1:])/timely['modeled'][1:])  * 100)\n",
    "\n",
    "plt.figure(figsize=(20,10))\n",
    "plt.plot(timely.crime, label='original')\n",
    "plt.plot(pred[1:], label='modeled')\n",
    "plt.plot(forecast, label='forecast')\n",
    "plt.legend()\n",
    "plt.title(\"Mean Absolute Error: {0:.2f}%\".format(error))\n",
    "plt.gcf().autofmt_xdate()"
   ]
  },
  {
   "cell_type": "markdown",
   "metadata": {},
   "source": [
    "To improve on our model, we need additional data. Therefore we create a new sample from the original Crime database, this time taking values as far back as 2011. "
   ]
  },
  {
   "cell_type": "code",
   "execution_count": null,
   "metadata": {},
   "outputs": [],
   "source": [
    "#Counting number of crimes per month x\n",
    "time2 = pd.DataFrame()\n",
    "years = [i for i in range(2011,2020)]\n",
    "months = [i for i in range(1,13)]\n",
    "days = [i for i in range(1,32)]\n",
    "\n",
    "final = pd.read_csv(\"data/Chicago_Crimes_Processed_2011.csv\")\n",
    "final.Date = pd.to_datetime(final.Date)\n",
    "year = []\n",
    "month = []\n",
    "day = []\n",
    "count = 0\n",
    "for y in years:\n",
    "    for m in months:\n",
    "        #for d in days:\n",
    "        for i in range(0,final.shape[0]):\n",
    "            if(final.iloc[i].Date.month == m and final.iloc[i].Date.year == y):\n",
    "                count = count + 1\n",
    "        time2 = time2.append(pd.DataFrame(np.array([[y,m,count,'{}-{}-1'.format(y,m)]]), columns=['year','month','crime','time']))\n",
    "        count = 0\n",
    "time2.crime = pd.to_numeric(time2.crime)\n",
    "time2.index = time2.time\n",
    "time2.index = pd.to_datetime(time2.index)\n",
    "time2 = time2.loc[:'2019-07-01']\n",
    "time2.head()"
   ]
  },
  {
   "cell_type": "code",
   "execution_count": null,
   "metadata": {
    "scrolled": false
   },
   "outputs": [],
   "source": [
    "time2['first-order-diff'] = time2.crime - time2.crime.shift(1)\n",
    "time2['first-order-seasonal-diff'] = time2.crime - time2.crime.shift(12)\n",
    "time2['first-order-nonNseas-diff'] = time2['first-order-diff'] - time2['first-order-diff'].shift(12)\n",
    "\n",
    "fig, axs = plt.subplots(2,2, figsize=(20,10))\n",
    "\n",
    "plt.figure(figsize=(20,10))\n",
    "axs[0][0].plot(time2.crime)\n",
    "axs[0][0].set_title(\"Raw Data\")\n",
    "\n",
    "\n",
    "axs[0][1].plot(time2['first-order-diff'])\n",
    "axs[0][1].set_title(\"First Order Non-Seasonal Difference\")\n",
    "\n",
    "\n",
    "axs[1][0].plot(time2['first-order-seasonal-diff'])\n",
    "axs[1][0].set_title(\"First Order Seasonal Difference\")\n",
    "\n",
    "axs[1][1].plot(time2['first-order-nonNseas-diff'])\n",
    "axs[1][1].set_title(\"First Order Seasonal and Non-Seasonal Difference\")\n",
    "\n",
    "fig.savefig(\"plot/Sequence Charts 2.png\")"
   ]
  },
  {
   "cell_type": "markdown",
   "metadata": {},
   "source": [
    "The sequence  chart of first order seasonal and first order non-seasonal difference appears to come from a stationary process hence we use these transformation to display ACF and PACF plots. The number of lags used as 48 so as to see the seasonality in the data and determine the correct model.  \n",
    "  "
   ]
  },
  {
   "cell_type": "code",
   "execution_count": null,
   "metadata": {},
   "outputs": [],
   "source": [
    "# using seasonal and non seasonal transformation\n",
    "plot_acf(time2['first-order-nonNseas-diff'].dropna(),lags=48)\n",
    "plt.savefig('plot/acf 1.png')\n",
    "plot_pacf(time2['first-order-nonNseas-diff'].dropna(),lags=48)\n",
    "plt.savefig('plot/pacf 1.png')"
   ]
  },
  {
   "cell_type": "markdown",
   "metadata": {},
   "source": [
    "The lags in seasonal data are seen in a way that cut-off at 1st,12th,24th,36th,48th lag is seen and model is determined with correct AR/SAR,MA/SMA terms.  \n",
    "  \n",
    "We automate this process and choose the model with least BIC"
   ]
  },
  {
   "cell_type": "code",
   "execution_count": null,
   "metadata": {
    "scrolled": false
   },
   "outputs": [],
   "source": [
    "# finding best model \n",
    "\n",
    "p = [i for i in range(0,5)]\n",
    "q = [i for i in range(0,5)]\n",
    "P = [i for i in range(0,5)]\n",
    "Q = [i for i in range(0,5)]\n",
    "d = [1]\n",
    "D = [1]\n",
    "s = [12]\n",
    "endog = time2.crime\n",
    "pramas = product(p,q,P,Q)\n",
    "params = list(pramas)\n",
    "\n",
    "parameters = optimiseSARIMA(endog,params,d[0],D[0],s[0])\n",
    "print(\"The best model with the lowest BIC is ARIMA({},{},{})({},{},{}) with periodicity as {}\".format(parameters[0][0],\n",
    "                                                                                                      d[0],\n",
    "                                                                                                      parameters[0][1],\n",
    "                                                                                                      parameters[0][2],\n",
    "                                                                                                      D[0],\n",
    "                                                                                                      parameters[0][3],\n",
    "                                                                                                      s[0]))"
   ]
  },
  {
   "cell_type": "markdown",
   "metadata": {},
   "source": [
    "The model that we obtained above is fitted using the following code"
   ]
  },
  {
   "cell_type": "code",
   "execution_count": null,
   "metadata": {
    "scrolled": false
   },
   "outputs": [],
   "source": [
    "sarima = sms.SARIMAX(endog,order=(parameters[0][0],d[0],parameters[0][1]),\n",
    "                     seasonal_order=(parameters[0][2],D[0],parameters[0][3],s[0])).fit(disp=0)\n",
    "sarima.summary()"
   ]
  },
  {
   "cell_type": "markdown",
   "metadata": {},
   "source": [
    "From the summary we observe certain things:  \n",
    "  \n",
    "- Box Ljung p-Statistic has a value >0.05 indicating that no more information can be obtained from the residuals.\n",
    "- p-values of all the lags is <0.05 indicating that they contribute significantly towards the model.  \n",
    "  \n",
    "This indicates that the model fitted is a good model for forecasting as it encapsulates the data properly"
   ]
  },
  {
   "cell_type": "code",
   "execution_count": null,
   "metadata": {},
   "outputs": [],
   "source": [
    "pred = sarima.predict()\n",
    "forecast = sarima.predict(start=time2.shape[0],end=time2.shape[0]+12)\n",
    "time2['modeled'] = sarima.fittedvalues\n",
    "time2['modeled'][:12+1] = np.NaN\n",
    "error = np.mean(np.abs((time2['crime'][12+1:] - time2['modeled'][12+1:])/time2['modeled'][12+1:])  * 100)\n",
    "\n",
    "plt.figure(figsize=(20,10))\n",
    "plt.plot(time2.crime, label='original')\n",
    "plt.plot(pred[1:], label='modeled')\n",
    "plt.plot(forecast, label='forecast')\n",
    "plt.legend()\n",
    "plt.title(\"Mean Absolute Error: {0:.2f}%\".format(error))\n",
    "plt.gcf().autofmt_xdate()\n",
    "plt.savefig(\"plot/Forecasted Values.png\")"
   ]
  },
  {
   "cell_type": "markdown",
   "metadata": {},
   "source": [
    "Other than a few anomalies, the model tracks actual values pretty nicely. The mean absolute error in predicting values is only 6.02%"
   ]
  },
  {
   "cell_type": "code",
   "execution_count": null,
   "metadata": {},
   "outputs": [],
   "source": []
  }
 ],
 "metadata": {
  "kernelspec": {
   "display_name": "Python 3",
   "language": "python",
   "name": "python3"
  },
  "language_info": {
   "codemirror_mode": {
    "name": "ipython",
    "version": 3
   },
   "file_extension": ".py",
   "mimetype": "text/x-python",
   "name": "python",
   "nbconvert_exporter": "python",
   "pygments_lexer": "ipython3",
   "version": "3.7.3"
  }
 },
 "nbformat": 4,
 "nbformat_minor": 2
}
