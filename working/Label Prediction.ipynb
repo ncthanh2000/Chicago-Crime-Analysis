{
 "cells": [
  {
   "cell_type": "code",
   "execution_count": 1,
   "metadata": {},
   "outputs": [],
   "source": [
    "from datetime import datetime\n",
    "import numpy as np\n",
    "import pandas as pd\n",
    "import seaborn as sns\n",
    "import matplotlib.pyplot as plt\n",
    "from sklearn.naive_bayes import MultinomialNB\n",
    "from sklearn.preprocessing import OneHotEncoder, KBinsDiscretizer, OrdinalEncoder\n",
    "from sklearn.feature_extraction.text import CountVectorizer\n",
    "from sklearn.model_selection import train_test_split\n",
    "from sklearn.linear_model import LogisticRegression\n",
    "from sklearn.svm import SVC\n",
    "from sklearn.neighbors import KNeighborsClassifier\n",
    "from sklearn.neural_network import MLPClassifier\n",
    "from sklearn.naive_bayes import MultinomialNB\n",
    "\n",
    "import thanh as t\n",
    "plt.style.use('seaborn')\n",
    "%matplotlib inline"
   ]
  },
  {
   "cell_type": "code",
   "execution_count": 2,
   "metadata": {
    "scrolled": true
   },
   "outputs": [
    {
     "name": "stderr",
     "output_type": "stream",
     "text": [
      "C:\\Users\\nctha\\Anaconda3\\lib\\site-packages\\IPython\\core\\interactiveshell.py:3058: DtypeWarning: Columns (9,10) have mixed types. Specify dtype option on import or set low_memory=False.\n",
      "  interactivity=interactivity, compiler=compiler, result=result)\n"
     ]
    }
   ],
   "source": [
    "df = pd.read_csv('data/Census_Merged.csv', index_col =False)\n",
    "df = df.dropna()\n",
    "df = df.drop(df.columns.values[0], axis = 1)"
   ]
  },
  {
   "cell_type": "code",
   "execution_count": 3,
   "metadata": {},
   "outputs": [
    {
     "data": {
      "text/html": [
       "<div>\n",
       "<style scoped>\n",
       "    .dataframe tbody tr th:only-of-type {\n",
       "        vertical-align: middle;\n",
       "    }\n",
       "\n",
       "    .dataframe tbody tr th {\n",
       "        vertical-align: top;\n",
       "    }\n",
       "\n",
       "    .dataframe thead th {\n",
       "        text-align: right;\n",
       "    }\n",
       "</style>\n",
       "<table border=\"1\" class=\"dataframe\">\n",
       "  <thead>\n",
       "    <tr style=\"text-align: right;\">\n",
       "      <th></th>\n",
       "      <th>ID</th>\n",
       "      <th>Case Number</th>\n",
       "      <th>Date</th>\n",
       "      <th>Block</th>\n",
       "      <th>IUCR</th>\n",
       "      <th>Primary Type</th>\n",
       "      <th>Description</th>\n",
       "      <th>Location Description</th>\n",
       "      <th>Arrest</th>\n",
       "      <th>Domestic</th>\n",
       "      <th>...</th>\n",
       "      <th>PERCENT AGED UNDER 18 OR OVER 64</th>\n",
       "      <th>PER CAPITA INCOME</th>\n",
       "      <th>HARDSHIP INDEX</th>\n",
       "      <th>Community Name</th>\n",
       "      <th>Total Population</th>\n",
       "      <th>Racial Demographics - Hispanic Proportion</th>\n",
       "      <th>Racial Demographics - Black Proportion</th>\n",
       "      <th>Racial Demographics - White Proportion</th>\n",
       "      <th>Racial Demographics - Asian Proportion</th>\n",
       "      <th>Racial Demographics - Other or Multiple Races Proportion</th>\n",
       "    </tr>\n",
       "  </thead>\n",
       "  <tbody>\n",
       "    <tr>\n",
       "      <td>0</td>\n",
       "      <td>10778514.0</td>\n",
       "      <td>HZ544820</td>\n",
       "      <td>2016-12-08 17:23:00</td>\n",
       "      <td>079XX S MAY ST</td>\n",
       "      <td>0820</td>\n",
       "      <td>THEFT</td>\n",
       "      <td>$500 AND UNDER</td>\n",
       "      <td>APARTMENT</td>\n",
       "      <td>False</td>\n",
       "      <td>True</td>\n",
       "      <td>...</td>\n",
       "      <td>41.9</td>\n",
       "      <td>15528.0</td>\n",
       "      <td>74.0</td>\n",
       "      <td>Auburn Gresham</td>\n",
       "      <td>46817.0</td>\n",
       "      <td>0.02</td>\n",
       "      <td>0.96</td>\n",
       "      <td>0.01</td>\n",
       "      <td>0.0</td>\n",
       "      <td>0.01</td>\n",
       "    </tr>\n",
       "    <tr>\n",
       "      <td>1</td>\n",
       "      <td>11411914.0</td>\n",
       "      <td>JB390837</td>\n",
       "      <td>2018-08-12 22:00:00</td>\n",
       "      <td>013XX W 76TH ST</td>\n",
       "      <td>0560</td>\n",
       "      <td>ASSAULT</td>\n",
       "      <td>SIMPLE</td>\n",
       "      <td>APARTMENT</td>\n",
       "      <td>False</td>\n",
       "      <td>True</td>\n",
       "      <td>...</td>\n",
       "      <td>41.9</td>\n",
       "      <td>15528.0</td>\n",
       "      <td>74.0</td>\n",
       "      <td>Auburn Gresham</td>\n",
       "      <td>46817.0</td>\n",
       "      <td>0.02</td>\n",
       "      <td>0.96</td>\n",
       "      <td>0.01</td>\n",
       "      <td>0.0</td>\n",
       "      <td>0.01</td>\n",
       "    </tr>\n",
       "  </tbody>\n",
       "</table>\n",
       "<p>2 rows × 45 columns</p>\n",
       "</div>"
      ],
      "text/plain": [
       "           ID Case Number                 Date            Block  IUCR  \\\n",
       "0  10778514.0    HZ544820  2016-12-08 17:23:00   079XX S MAY ST  0820   \n",
       "1  11411914.0    JB390837  2018-08-12 22:00:00  013XX W 76TH ST  0560   \n",
       "\n",
       "  Primary Type     Description Location Description Arrest Domestic  ...  \\\n",
       "0        THEFT  $500 AND UNDER            APARTMENT  False     True  ...   \n",
       "1      ASSAULT          SIMPLE            APARTMENT  False     True  ...   \n",
       "\n",
       "   PERCENT AGED UNDER 18 OR OVER 64  PER CAPITA INCOME   HARDSHIP INDEX  \\\n",
       "0                              41.9             15528.0            74.0   \n",
       "1                              41.9             15528.0            74.0   \n",
       "\n",
       "   Community Name Total Population  Racial Demographics - Hispanic Proportion  \\\n",
       "0  Auburn Gresham          46817.0                                       0.02   \n",
       "1  Auburn Gresham          46817.0                                       0.02   \n",
       "\n",
       "   Racial Demographics - Black Proportion  \\\n",
       "0                                    0.96   \n",
       "1                                    0.96   \n",
       "\n",
       "   Racial Demographics - White Proportion  \\\n",
       "0                                    0.01   \n",
       "1                                    0.01   \n",
       "\n",
       "  Racial Demographics - Asian Proportion  \\\n",
       "0                                    0.0   \n",
       "1                                    0.0   \n",
       "\n",
       "   Racial Demographics - Other or Multiple Races Proportion  \n",
       "0                                               0.01         \n",
       "1                                               0.01         \n",
       "\n",
       "[2 rows x 45 columns]"
      ]
     },
     "execution_count": 3,
     "metadata": {},
     "output_type": "execute_result"
    }
   ],
   "source": [
    "df.head(2)"
   ]
  },
  {
   "cell_type": "markdown",
   "metadata": {},
   "source": [
    "### Types of crime in Chicago that are noticed in this project are:\n",
    " * <span style=\"color:blue\"> ***THEFT*** </span>: Steal something which belongs to someone else.\n",
    " * <span style=\"color:blue\"> ***BATTERY*** </span>: Cause physical harm to another person.\n",
    " * <span style=\"color:blue\"> ***CRIMINAL*** </span>: Destroying or damaging property.\n",
    " * <span style=\"color:blue\"> ***ASSAULT*** </span>: Threaten physical harm to another person.\n",
    " * <span style=\"color:blue\"> ***DECEPTIVE*** </span>: Attempt to deceive or defraud a person or business. \n",
    " * <span style=\"color:blue\"> ***BURGLARY*** </span>: Breaking into someone's house with the intent of stealing.\n",
    " * <span style=\"color:blue\"> ***ROBBERY*** </span>: Stealing from someone with threats of violence (e.g. mugging)."
   ]
  },
  {
   "cell_type": "markdown",
   "metadata": {},
   "source": [
    "### Crime with more violence:\n",
    "* <span style=\"color:blue\"> ***BATTERY*** </span> \n",
    "* <span style=\"color:blue\"> ***ASSAULT*** </span>\n",
    "* <span style=\"color:blue\"> ***ROBBERY*** </span>\n",
    "* <span style=\"color:blue\"> ***CRIMINAL SEXUAL ASSAULT*** </span>\n",
    "* <span style=\"color:blue\"> ***KIDNAPPING*** </span>\n",
    "* <span style=\"color:blue\"> ***HOMICIDE*** </span> : Homicide is the act of one human killing another\n",
    "* <span style=\"color:blue\"> ***ARSON*** </span> : The criminal act of deliberately setting fire to property."
   ]
  },
  {
   "cell_type": "code",
   "execution_count": 4,
   "metadata": {},
   "outputs": [],
   "source": [
    "violent_crime = df[df['Primary Type'].isin(\n",
    "    ['BATTERY', 'ASSAULT', 'ROBBERY', 'CRIM SEXUAL ASSAULT', 'HOMICIDE', 'KIDNAPPING', 'ARSON'])]\n",
    "nonviolent_crime = df[~df['Primary Type'].isin(\n",
    "    ['BATTERY', 'ASSAULT', 'ROBBERY', 'CRIM SEXUAL ASSAULT', 'HOMICIDE', 'KIDNAPPING', 'ARSON'])]"
   ]
  },
  {
   "cell_type": "markdown",
   "metadata": {},
   "source": [
    "### <span style=\"color:blue\"> ***The plot below shows the \"number of crimes respectively with their type\".*** </span> "
   ]
  },
  {
   "cell_type": "code",
   "execution_count": 6,
   "metadata": {},
   "outputs": [
    {
     "data": {
      "image/png": "[encoded data removed]",
      "text/plain": [
       "<Figure size 1440x504 with 1 Axes>"
      ]
     },
     "metadata": {
      "needs_background": "light"
     },
     "output_type": "display_data"
    }
   ],
   "source": [
    "names = df['Primary Type'].value_counts().keys().tolist()\n",
    "counts = df['Primary Type'].value_counts().tolist()\n",
    "df_count = pd.DataFrame()\n",
    "df_count['Primary Type'] = names\n",
    "df_count['Count'] = counts\n",
    "df_count.head(3)\n",
    "\n",
    "fig, axes = plt.subplots(ncols = 1, figsize = (20,7))\n",
    "sns.barplot(y = df_count['Count'], x = df_count['Primary Type'], ax = axes)\n",
    "axes.set_xlabel(\"Crime Count\")\n",
    "axes.set_xlabel(\"Primary Type\")\n",
    "axes.set_xticklabels(axes.xaxis.get_majorticklabels(), rotation=90)\n",
    "fig.suptitle('Number of Crimes per Type', fontsize=20)\n",
    "plt.show()"
   ]
  },
  {
   "cell_type": "markdown",
   "metadata": {},
   "source": [
    "## <span style=\"color:blue\"> ***Problems and Challenges faced with label prediction.*** </span> \n",
    "\n",
    "A considerable amount of discrepancy can be seen in the above plot (*Number of crimes for each type*). \n",
    "Therefore, if an input vector is provided and any classification is to be done for predicting certain types of crime that could occur, it will become impossible because of following reasons:\n",
    "\n",
    "1. There are 29 labels which makes classification of training sets difficult.This in turn would lead to prediction with low accuracy.\n",
    "\n",
    "2. A big gap can be noticed amongst occurrences of different types of crime. This would lead the predicted outcome to be more leaned towards the labels(crimes) which account for majority of data. \n",
    "\n"
   ]
  },
  {
   "cell_type": "markdown",
   "metadata": {},
   "source": [
    "##  <span style=\"color:blue\"> ***Dealing with problems and challenges.*** </span> \n",
    "\n",
    "1. **Reducing the number of Labels**:\n",
    "\n",
    "    - The types of crime will be further divided into two subgroups(violent crimes and non-violent crimes). \n",
    "    - The classification of different types of crime will be done to determine the appropriate model for label prediction. This will be done for both the subgroups. However, it is clear that there are certain types of crime which account for low proportions of total number of crimes. Therefor we decide to remove all crime labels which having a proportion of less than 5 % in each respective subgroups.\n",
    "    - *Violent Crimes* - The labels which will be used are: BATTERY(60%), ASSAULT(24%), ROBBERY(12%).\n",
    "    - *Non-Violent Crimes* - The labels which will be used are: THEFT(34%), CRIMINAL DAMAGE(15%), OTHER OFFENSE(9%), DECEPTIVE PRACTICE(8%), NARCOTICS(8%), BURGLARY(6%), MOTOR VEHICLE THEFT(6%)\n",
    "    \n",
    "    \n",
    "2. **Reducing the biased predictions which are witnessed due to certain labels having a majority of observations in the    data**:\n",
    "    - 2.1 Before implementing \"data-balancing\" we will make use of \"F1-score metric\" to examine the performance of various classification models. Since, F1 score is more suitable for skewed data sets we will not be using accuracy. \n",
    "    - 2.2 Addition of weights such as class weights to create a bias towards minority classes will help in performing and assessing different classification models using both F1-score and accuracy. \n",
    "    - 2.3 Using SMOTE (Synthetic Minority Over-sampling Technique) to oversample the minority classes will help in performing and assessing different classification models using both F1-score and accuracy. "
   ]
  },
  {
   "cell_type": "markdown",
   "metadata": {},
   "source": [
    "# Label Prediction for violent crimes"
   ]
  },
  {
   "cell_type": "code",
   "execution_count": 7,
   "metadata": {
    "scrolled": false
   },
   "outputs": [
    {
     "data": {
      "image/png": "[encoded data removed]",
      "text/plain": [
       "<Figure size 1440x504 with 1 Axes>"
      ]
     },
     "metadata": {
      "needs_background": "light"
     },
     "output_type": "display_data"
    }
   ],
   "source": [
    "df_violent_count = t.crime_proximity(violent_crime, 'Primary Type', 5)\n",
    "t.crime_proximity_bar(df_violent_count, 'Percentage')\n"
   ]
  },
  {
   "cell_type": "code",
   "execution_count": 8,
   "metadata": {
    "scrolled": true
   },
   "outputs": [],
   "source": [
    "violent_crime = violent_crime[violent_crime['Primary Type'].isin(list(df_violent_count['Primary Type']))]\n",
    "target = 'Primary Type'\n",
    "features = ['Arrest', 'Domestic', 'Community Area', 'Latitude', 'Longitude', \n",
    "            'PERCENT OF HOUSING CROWDED',\n",
    "       'PERCENT HOUSEHOLDS BELOW POVERTY', 'PERCENT AGED 16+ UNEMPLOYED',\n",
    "       'PERCENT AGED 25+ WITHOUT HIGH SCHOOL DIPLOMA',\n",
    "       'PERCENT AGED UNDER 18 OR OVER 64', 'PER CAPITA INCOME ',\n",
    "       'HARDSHIP INDEX','Racial Demographics - Hispanic Proportion',\n",
    "       'Racial Demographics - Black Proportion',\n",
    "       'Racial Demographics - White Proportion',\n",
    "       'Racial Demographics - Asian Proportion',\n",
    "       'Racial Demographics - Other or Multiple Races Proportion']\n",
    "\n",
    "dummy = pd.get_dummies(violent_crime[features])\n",
    "dummy.drop(columns=['Community Area'], inplace = True)"
   ]
  },
  {
   "cell_type": "code",
   "execution_count": 9,
   "metadata": {},
   "outputs": [
    {
     "name": "stdout",
     "output_type": "stream",
     "text": [
      "Number of training outcome labels: 5531\n"
     ]
    },
    {
     "data": {
      "text/plain": [
       "LogisticRegression(C=1.0, class_weight=None, dual=False, fit_intercept=True,\n",
       "                   intercept_scaling=1, l1_ratio=None, max_iter=10000,\n",
       "                   multi_class='multinomial', n_jobs=None, penalty='l2',\n",
       "                   random_state=None, solver='lbfgs', tol=0.0001, verbose=0,\n",
       "                   warm_start=False)"
      ]
     },
     "execution_count": 9,
     "metadata": {},
     "output_type": "execute_result"
    }
   ],
   "source": [
    "from sklearn.linear_model import LogisticRegression\n",
    "from sklearn.model_selection import train_test_split\n",
    "from sklearn.metrics import f1_score, accuracy_score\n",
    "\n",
    "\n",
    "X = dummy\n",
    "#X = violent_crime[features]\n",
    "y = violent_crime[target]\n",
    "\n",
    "X_train, X_test, y_train, y_test = train_test_split(X, y, random_state=1)\n",
    "print(\"Number of training outcome labels:\",len(y_train))\n",
    "\n",
    "logi = LogisticRegression(multi_class = 'multinomial', solver = 'lbfgs', max_iter = 10000)\n",
    "logi.fit(X_train, y_train)"
   ]
  },
  {
   "cell_type": "code",
   "execution_count": 10,
   "metadata": {},
   "outputs": [],
   "source": [
    "scores = pd.DataFrame(columns=['Model', 'Train Accuracy', 'Test Accuracy'])\n",
    "\n",
    "# Append rows in Empty Dataframe by adding dictionaries\n",
    "scores = scores.append({'Model': 'Weighted Log Reg', 'Train Accuracy': accuracy_score(y_train, logi.predict(X_train)), \n",
    "                      'Test Accuracy': accuracy_score(y_test, logi.predict(X_test)) }, ignore_index=True)"
   ]
  },
  {
   "cell_type": "markdown",
   "metadata": {},
   "source": [
    "It is clear that using Logistic Regression, the F1-score for predicting labels is relatively low. Nonetheless, we are still able to see that this model do not overfit, since it's testing set's F1-score is marginally higher than it's traning F1 score. We will use this as a baseline perfomance metric to compare other different classifier against."
   ]
  },
  {
   "cell_type": "markdown",
   "metadata": {},
   "source": [
    "# Transform continuous variables into ordinal variables based on which quantiles it is depending on the distribution of the column values"
   ]
  },
  {
   "cell_type": "code",
   "execution_count": 11,
   "metadata": {
    "scrolled": true
   },
   "outputs": [
    {
     "data": {
      "text/html": [
       "<div>\n",
       "<style scoped>\n",
       "    .dataframe tbody tr th:only-of-type {\n",
       "        vertical-align: middle;\n",
       "    }\n",
       "\n",
       "    .dataframe tbody tr th {\n",
       "        vertical-align: top;\n",
       "    }\n",
       "\n",
       "    .dataframe thead th {\n",
       "        text-align: right;\n",
       "    }\n",
       "</style>\n",
       "<table border=\"1\" class=\"dataframe\">\n",
       "  <thead>\n",
       "    <tr style=\"text-align: right;\">\n",
       "      <th></th>\n",
       "      <th>Latitude</th>\n",
       "      <th>Longitude</th>\n",
       "      <th>PERCENT OF HOUSING CROWDED</th>\n",
       "      <th>PERCENT HOUSEHOLDS BELOW POVERTY</th>\n",
       "      <th>PERCENT AGED 16+ UNEMPLOYED</th>\n",
       "      <th>PERCENT AGED 25+ WITHOUT HIGH SCHOOL DIPLOMA</th>\n",
       "      <th>PERCENT AGED UNDER 18 OR OVER 64</th>\n",
       "      <th>PER CAPITA INCOME</th>\n",
       "      <th>HARDSHIP INDEX</th>\n",
       "      <th>Racial Demographics - Hispanic Proportion</th>\n",
       "      <th>Racial Demographics - Black Proportion</th>\n",
       "      <th>Racial Demographics - White Proportion</th>\n",
       "      <th>Racial Demographics - Asian Proportion</th>\n",
       "      <th>Racial Demographics - Other or Multiple Races Proportion</th>\n",
       "      <th>Arrest_False</th>\n",
       "      <th>Arrest_True</th>\n",
       "      <th>Domestic_False</th>\n",
       "      <th>Domestic_True</th>\n",
       "    </tr>\n",
       "  </thead>\n",
       "  <tbody>\n",
       "    <tr>\n",
       "      <td>1</td>\n",
       "      <td>2</td>\n",
       "      <td>5</td>\n",
       "      <td>4</td>\n",
       "      <td>4</td>\n",
       "      <td>9</td>\n",
       "      <td>4</td>\n",
       "      <td>7</td>\n",
       "      <td>3</td>\n",
       "      <td>6</td>\n",
       "      <td>0</td>\n",
       "      <td>9</td>\n",
       "      <td>0</td>\n",
       "      <td>0</td>\n",
       "      <td>0</td>\n",
       "      <td>1</td>\n",
       "      <td>0</td>\n",
       "      <td>0</td>\n",
       "      <td>6</td>\n",
       "    </tr>\n",
       "    <tr>\n",
       "      <td>3</td>\n",
       "      <td>1</td>\n",
       "      <td>6</td>\n",
       "      <td>4</td>\n",
       "      <td>4</td>\n",
       "      <td>9</td>\n",
       "      <td>4</td>\n",
       "      <td>7</td>\n",
       "      <td>3</td>\n",
       "      <td>6</td>\n",
       "      <td>0</td>\n",
       "      <td>9</td>\n",
       "      <td>0</td>\n",
       "      <td>0</td>\n",
       "      <td>0</td>\n",
       "      <td>1</td>\n",
       "      <td>0</td>\n",
       "      <td>0</td>\n",
       "      <td>6</td>\n",
       "    </tr>\n",
       "  </tbody>\n",
       "</table>\n",
       "</div>"
      ],
      "text/plain": [
       "   Latitude  Longitude  PERCENT OF HOUSING CROWDED  \\\n",
       "1         2          5                           4   \n",
       "3         1          6                           4   \n",
       "\n",
       "   PERCENT HOUSEHOLDS BELOW POVERTY  PERCENT AGED 16+ UNEMPLOYED  \\\n",
       "1                                 4                            9   \n",
       "3                                 4                            9   \n",
       "\n",
       "   PERCENT AGED 25+ WITHOUT HIGH SCHOOL DIPLOMA  \\\n",
       "1                                             4   \n",
       "3                                             4   \n",
       "\n",
       "   PERCENT AGED UNDER 18 OR OVER 64  PER CAPITA INCOME   HARDSHIP INDEX  \\\n",
       "1                                 7                   3               6   \n",
       "3                                 7                   3               6   \n",
       "\n",
       "   Racial Demographics - Hispanic Proportion  \\\n",
       "1                                          0   \n",
       "3                                          0   \n",
       "\n",
       "   Racial Demographics - Black Proportion  \\\n",
       "1                                       9   \n",
       "3                                       9   \n",
       "\n",
       "   Racial Demographics - White Proportion  \\\n",
       "1                                       0   \n",
       "3                                       0   \n",
       "\n",
       "   Racial Demographics - Asian Proportion  \\\n",
       "1                                       0   \n",
       "3                                       0   \n",
       "\n",
       "   Racial Demographics - Other or Multiple Races Proportion  Arrest_False  \\\n",
       "1                                                  0                    1   \n",
       "3                                                  0                    1   \n",
       "\n",
       "   Arrest_True  Domestic_False  Domestic_True  \n",
       "1            0               0              6  \n",
       "3            0               0              6  "
      ]
     },
     "execution_count": 11,
     "metadata": {},
     "output_type": "execute_result"
    }
   ],
   "source": [
    "for i, items in dummy.iteritems():\n",
    "    dummy[i] = pd.qcut(dummy[i].rank(method='first'), 10, labels=False)\n",
    "dummy.head(2)"
   ]
  },
  {
   "cell_type": "markdown",
   "metadata": {},
   "source": [
    "# Applying Nearest Neighbour SMOTE to re-balance dataset"
   ]
  },
  {
   "cell_type": "code",
   "execution_count": 12,
   "metadata": {},
   "outputs": [
    {
     "name": "stdout",
     "output_type": "stream",
     "text": [
      "Number of training outcome labels: 10254\n"
     ]
    }
   ],
   "source": [
    "from imblearn.over_sampling import SMOTE\n",
    "\n",
    "sm = SMOTE(random_state=1, sampling_strategy = 'not majority')\n",
    "#sm = SMOTE(random_state=1, sampling_strategy = 'minority')\n",
    "X = dummy\n",
    "y = violent_crime[target]\n",
    "\n",
    "X_train, X_test, y_train, y_test = train_test_split(X, y, random_state=1)\n",
    "X_train, y_train = sm.fit_sample(X_train, y_train)\n",
    "print(\"Number of training outcome labels:\",len(y_train))"
   ]
  },
  {
   "cell_type": "code",
   "execution_count": 13,
   "metadata": {},
   "outputs": [],
   "source": [
    "logi.fit(X_train, y_train)\n",
    "scores = scores.append({'Model': 'SMOTE Log Reg', 'Train Accuracy': accuracy_score(y_train, logi.predict(X_train)), \n",
    "                      'Test Accuracy': accuracy_score(y_test, logi.predict(X_test)) }, ignore_index=True)"
   ]
  },
  {
   "cell_type": "code",
   "execution_count": 14,
   "metadata": {},
   "outputs": [],
   "source": [
    "svm = SVC(gamma='auto', kernel = 'rbf')\n",
    "svm.fit(X_train, y_train)\n",
    "scores = scores.append({'Model': 'SMOTE SVC', 'Train Accuracy': svm.score(X_train, y_train), \n",
    "                      'Test Accuracy': svm.score(X_test, y_test) }, ignore_index=True)"
   ]
  },
  {
   "cell_type": "code",
   "execution_count": 15,
   "metadata": {},
   "outputs": [],
   "source": [
    "mlp = MLPClassifier(random_state=0, max_iter=1000)\n",
    "mlp.fit(X_train, y_train)\n",
    "scores = scores.append({'Model': 'SMOTE MLP', 'Train Accuracy': mlp.score(X_train, y_train), \n",
    "                      'Test Accuracy': mlp.score(X_test, y_test) }, ignore_index=True)"
   ]
  },
  {
   "cell_type": "code",
   "execution_count": 16,
   "metadata": {},
   "outputs": [],
   "source": [
    "mnb = MultinomialNB()\n",
    "mnb.fit(X_train, y_train)\n",
    "scores = scores.append({'Model': 'SMOTE MultiNB', 'Train Accuracy': mnb.score(X_train, y_train), \n",
    "                      'Test Accuracy': mnb.score(X_test, y_test) }, ignore_index=True)"
   ]
  },
  {
   "cell_type": "markdown",
   "metadata": {},
   "source": [
    "# Applying Borderline SMOTE re-balance dataset"
   ]
  },
  {
   "cell_type": "code",
   "execution_count": 17,
   "metadata": {},
   "outputs": [
    {
     "name": "stdout",
     "output_type": "stream",
     "text": [
      "Number of training outcome labels: 10254\n"
     ]
    }
   ],
   "source": [
    "from imblearn.over_sampling import BorderlineSMOTE\n",
    "sm = BorderlineSMOTE(random_state=1, sampling_strategy = 'not majority')\n",
    "#sm = SMOTE(random_state=1, sampling_strategy = 'minority')\n",
    "X = dummy\n",
    "y = violent_crime[target]\n",
    "\n",
    "X_train, X_test, y_train, y_test = train_test_split(X, y, random_state=1)\n",
    "X_train, y_train = sm.fit_sample(X_train, y_train)\n",
    "print(\"Number of training outcome labels:\",len(y_train))"
   ]
  },
  {
   "cell_type": "code",
   "execution_count": 18,
   "metadata": {},
   "outputs": [],
   "source": [
    "logi.fit(X_train, y_train)\n",
    "scores = scores.append({'Model': 'B-SMOTE Log Reg', 'Train Accuracy': accuracy_score(y_train, logi.predict(X_train)), \n",
    "                      'Test Accuracy': accuracy_score(y_test, logi.predict(X_test)) }, ignore_index=True)"
   ]
  },
  {
   "cell_type": "code",
   "execution_count": 19,
   "metadata": {},
   "outputs": [],
   "source": [
    "svm = SVC(gamma='auto')\n",
    "svm.fit(X_train, y_train)\n",
    "scores = scores.append({'Model': 'B-SMOTE SVC', 'Train Accuracy': svm.score(X_train, y_train), \n",
    "                      'Test Accuracy': svm.score(X_test, y_test) }, ignore_index=True)"
   ]
  },
  {
   "cell_type": "code",
   "execution_count": 20,
   "metadata": {},
   "outputs": [],
   "source": [
    "mlp = MLPClassifier(random_state=0, max_iter=1000)\n",
    "mlp.fit(X_train, y_train)\n",
    "scores = scores.append({'Model': 'B-SMOTE MLP', 'Train Accuracy': mlp.score(X_train, y_train), \n",
    "                      'Test Accuracy': mlp.score(X_test, y_test) }, ignore_index=True)"
   ]
  },
  {
   "cell_type": "code",
   "execution_count": 21,
   "metadata": {},
   "outputs": [],
   "source": [
    "mnb = MultinomialNB()\n",
    "mnb.fit(X_train, y_train)\n",
    "scores = scores.append({'Model': 'B-SMOTE MultiNB', 'Train Accuracy': mnb.score(X_train, y_train), \n",
    "                      'Test Accuracy': mnb.score(X_test, y_test) }, ignore_index=True)"
   ]
  },
  {
   "cell_type": "markdown",
   "metadata": {},
   "source": [
    "# Undersampling using Condensed Nearest Neighbors"
   ]
  },
  {
   "cell_type": "code",
   "execution_count": 22,
   "metadata": {
    "scrolled": true
   },
   "outputs": [
    {
     "name": "stdout",
     "output_type": "stream",
     "text": [
      "Number of training outcome labels: 2230\n"
     ]
    }
   ],
   "source": [
    "from imblearn.under_sampling import CondensedNearestNeighbour\n",
    "\n",
    "cnn = CondensedNearestNeighbour(random_state=1)\n",
    "\n",
    "X = dummy\n",
    "y = violent_crime[target]\n",
    "X_train, X_test, y_train, y_test = train_test_split(X, y, random_state=1)\n",
    "X_train, y_train = cnn.fit_resample(X_train, y_train)\n",
    "print(\"Number of training outcome labels:\",len(y_train))\n"
   ]
  },
  {
   "cell_type": "code",
   "execution_count": 23,
   "metadata": {},
   "outputs": [],
   "source": [
    "logi.fit(X_train, y_train)\n",
    "scores = scores.append({'Model': 'CondensedNN Log Reg', 'Train Accuracy': accuracy_score(y_train, logi.predict(X_train)), \n",
    "                      'Test Accuracy': accuracy_score(y_test, logi.predict(X_test)) }, ignore_index=True)"
   ]
  },
  {
   "cell_type": "code",
   "execution_count": 24,
   "metadata": {},
   "outputs": [],
   "source": [
    "svm = SVC(gamma='auto')\n",
    "svm.fit(X_train, y_train)\n",
    "scores = scores.append({'Model': 'CondensedNN SVC', 'Train Accuracy': svm.score(X_train, y_train), \n",
    "                      'Test Accuracy': svm.score(X_test, y_test) }, ignore_index=True)"
   ]
  },
  {
   "cell_type": "code",
   "execution_count": 25,
   "metadata": {},
   "outputs": [],
   "source": [
    "mlp = MLPClassifier(random_state=0, max_iter=200)\n",
    "mlp.fit(X_train, y_train)\n",
    "scores = scores.append({'Model': 'CondensedNN MLP', 'Train Accuracy': mlp.score(X_train, y_train), \n",
    "                      'Test Accuracy': mlp.score(X_test, y_test) }, ignore_index=True)"
   ]
  },
  {
   "cell_type": "code",
   "execution_count": 26,
   "metadata": {},
   "outputs": [],
   "source": [
    "mnb = MultinomialNB()\n",
    "mnb.fit(X_train, y_train)\n",
    "scores = scores.append({'Model': 'CondensedNN MultiNB', 'Train Accuracy': mnb.score(X_train, y_train), \n",
    "                      'Test Accuracy': mnb.score(X_test, y_test) }, ignore_index=True)"
   ]
  },
  {
   "cell_type": "markdown",
   "metadata": {},
   "source": [
    "# Combine oversampling by creating Synthetic datapoints with undersampling by removing Tomek Links"
   ]
  },
  {
   "cell_type": "code",
   "execution_count": 27,
   "metadata": {},
   "outputs": [
    {
     "name": "stdout",
     "output_type": "stream",
     "text": [
      "Number of training outcome labels: 10218\n"
     ]
    }
   ],
   "source": [
    "from imblearn.combine import SMOTETomek\n",
    "sm = SMOTETomek(random_state=1)\n",
    "X = dummy\n",
    "y = violent_crime[target]\n",
    "X_train, X_test, y_train, y_test = train_test_split(X, y, random_state=1)\n",
    "X_train, y_train = sm.fit_resample(X_train, y_train)\n",
    "print(\"Number of training outcome labels:\",len(y_train))\n",
    "\n"
   ]
  },
  {
   "cell_type": "code",
   "execution_count": 28,
   "metadata": {},
   "outputs": [],
   "source": [
    "logi.fit(X_train, y_train)\n",
    "scores = scores.append({'Model': 'SMOTE-Tomek Log Reg', 'Train Accuracy': accuracy_score(y_train, logi.predict(X_train)), \n",
    "                      'Test Accuracy': accuracy_score(y_test, logi.predict(X_test)) }, ignore_index=True)"
   ]
  },
  {
   "cell_type": "code",
   "execution_count": 29,
   "metadata": {},
   "outputs": [],
   "source": [
    "svm = SVC(gamma='auto')\n",
    "svm.fit(X_train, y_train)\n",
    "scores = scores.append({'Model': 'SMOTE-Tomek SVC', 'Train Accuracy': svm.score(X_train, y_train), \n",
    "                      'Test Accuracy': svm.score(X_test, y_test) }, ignore_index=True)"
   ]
  },
  {
   "cell_type": "code",
   "execution_count": 30,
   "metadata": {},
   "outputs": [],
   "source": [
    "mlp = MLPClassifier(random_state=0, max_iter=200)\n",
    "mlp.fit(X_train, y_train)\n",
    "scores = scores.append({'Model': 'SMOTE-Tomek MLP', 'Train Accuracy': mlp.score(X_train, y_train), \n",
    "                      'Test Accuracy': mlp.score(X_test, y_test) }, ignore_index=True)"
   ]
  },
  {
   "cell_type": "code",
   "execution_count": 31,
   "metadata": {},
   "outputs": [],
   "source": [
    "mnb = MultinomialNB()\n",
    "mnb.fit(X_train, y_train)\n",
    "scores = scores.append({'Model': 'SMOTE-Tomek MultiNB', 'Train Accuracy': mnb.score(X_train, y_train), \n",
    "                      'Test Accuracy': mnb.score(X_test, y_test) }, ignore_index=True)"
   ]
  },
  {
   "cell_type": "code",
   "execution_count": 32,
   "metadata": {},
   "outputs": [],
   "source": [
    "stacked_scores = pd.melt(scores, id_vars=['Model']).sort_values(['variable','value'])"
   ]
  },
  {
   "cell_type": "code",
   "execution_count": 33,
   "metadata": {},
   "outputs": [
    {
     "data": {
      "image/png": "[encoded data removed]",
      "text/plain": [
       "<Figure size 1080x504 with 1 Axes>"
      ]
     },
     "metadata": {
      "needs_background": "light"
     },
     "output_type": "display_data"
    }
   ],
   "source": [
    "fig, axes = plt.subplots(ncols = 1, figsize = (15,7))\n",
    "sns.barplot(x='Model', y='value', hue='variable', data=stacked_scores, ax = axes)\n",
    "plt.xticks(rotation=90)\n",
    "plt.ylabel('Accuracy')\n",
    "plt.title('Training vs Testing - Accuracy score');\n",
    "plt.rc('xtick', labelsize=10) \n",
    "plt.show()"
   ]
  },
  {
   "cell_type": "markdown",
   "metadata": {},
   "source": [
    "## General comments on over-sampling techniques\n",
    "Looking at the 2 oversampling methods, it is clear that all 3 classification models, apart from Multinomial NB, have a tendency to under-fit. This could be due to the models just \"memorise\" the labels rather than actually learning to predict the labels."
   ]
  },
  {
   "cell_type": "markdown",
   "metadata": {},
   "source": [
    "## General comments on under-sampling techniques\n",
    "Looking at the undersampling, it is clear that all 3 classification models have a tendency to under-fit. This means that the models here perform rather poor on training data, and that its higher testing accuracy might be due to chance."
   ]
  },
  {
   "cell_type": "markdown",
   "metadata": {},
   "source": [
    "# Analysis of label prediction after using different re-sampling techniques on training data\n",
    "In general, resampling algorithms depends very much on the quality of the dataset you have. If you have severe data imbalance, resampling algorithms may be ineffective in generating a high-quality dataset, despite their capability to balance out the dataset. \n",
    "\n",
    "This is largely due to the similarities between the two classes minority classes being very high (and hence the oversample resulting in low-quality repetitive data), despite them being acceptably close in terms of total occurrences' proportion. \n",
    "\n",
    "To determine that this is the case, we will try to train a classification model on the minority classes (which are not as strongly skewed towards any class as the dataset above) and check the results if the classification accuracy remains low despite the relatively balanced dataset."
   ]
  },
  {
   "cell_type": "markdown",
   "metadata": {},
   "source": [
    "# Minority Labels Analysis"
   ]
  },
  {
   "cell_type": "code",
   "execution_count": 34,
   "metadata": {},
   "outputs": [],
   "source": [
    "minority = violent_crime[violent_crime['Primary Type'].isin(\n",
    "    ['ROBBERY', 'ASSAULT'])]\n",
    "label = minority['Primary Type']"
   ]
  },
  {
   "cell_type": "code",
   "execution_count": 35,
   "metadata": {},
   "outputs": [],
   "source": [
    "minority  = pd.get_dummies(minority[features]).copy()\n",
    "minority.drop(columns=['Community Area'], inplace = True)"
   ]
  },
  {
   "cell_type": "code",
   "execution_count": 36,
   "metadata": {},
   "outputs": [
    {
     "name": "stdout",
     "output_type": "stream",
     "text": [
      "Number of training outcome labels: 2710\n"
     ]
    }
   ],
   "source": [
    "for i, items in minority.iteritems():\n",
    "    minority[i] = pd.qcut(minority[i].rank(method='first'), 10, labels=False)\n",
    "X = minority\n",
    "y = label\n",
    "\n",
    "X_train, X_test, y_train, y_test = train_test_split(X, y, random_state=1)\n",
    "X_train, y_train = sm.fit_sample(X_train, y_train)\n",
    "print(\"Number of training outcome labels:\",len(y_train))\n",
    "minority_scores = pd.DataFrame(columns=['Model', 'Train Accuracy', 'Test Accuracy'])"
   ]
  },
  {
   "cell_type": "code",
   "execution_count": 37,
   "metadata": {},
   "outputs": [],
   "source": [
    "logi.fit(X_train, y_train)\n",
    "minority_scores = minority_scores.append({'Model': 'Minority Log Reg', 'Train Accuracy': accuracy_score(y_train, logi.predict(X_train)), \n",
    "                      'Test Accuracy': accuracy_score(y_test, logi.predict(X_test)) }, ignore_index=True)"
   ]
  },
  {
   "cell_type": "code",
   "execution_count": 38,
   "metadata": {},
   "outputs": [],
   "source": [
    "svm = SVC(gamma='auto', kernel = 'rbf')\n",
    "svm.fit(X_train, y_train)\n",
    "minority_scores = minority_scores.append({'Model': 'Minority SVC', 'Train Accuracy': svm.score(X_train, y_train), \n",
    "                      'Test Accuracy': svm.score(X_test, y_test) }, ignore_index=True)"
   ]
  },
  {
   "cell_type": "code",
   "execution_count": 39,
   "metadata": {},
   "outputs": [],
   "source": [
    "mlp = MLPClassifier(random_state=0, max_iter=1000)\n",
    "mlp.fit(X_train, y_train)\n",
    "minority_scores = minority_scores.append({'Model': 'Minority MLP', 'Train Accuracy': mlp.score(X_train, y_train), \n",
    "                      'Test Accuracy': mlp.score(X_test, y_test) }, ignore_index=True)"
   ]
  },
  {
   "cell_type": "code",
   "execution_count": 40,
   "metadata": {},
   "outputs": [],
   "source": [
    "mnb = MultinomialNB()\n",
    "mnb.fit(X_train, y_train)\n",
    "minority_scores = minority_scores.append({'Model': 'Minority MultiNB', 'Train Accuracy': mnb.score(X_train, y_train), \n",
    "                      'Test Accuracy': mnb.score(X_test, y_test) }, ignore_index=True)"
   ]
  },
  {
   "cell_type": "code",
   "execution_count": 41,
   "metadata": {},
   "outputs": [],
   "source": [
    "stacked_minority_scores = pd.melt(minority_scores, id_vars=['Model']).sort_values(['variable','value'])"
   ]
  },
  {
   "cell_type": "code",
   "execution_count": 42,
   "metadata": {},
   "outputs": [
    {
     "data": {
      "image/png": "[encoded data removed]",
      "text/plain": [
       "<Figure size 1080x504 with 1 Axes>"
      ]
     },
     "metadata": {
      "needs_background": "light"
     },
     "output_type": "display_data"
    }
   ],
   "source": [
    "fig, axes = plt.subplots(ncols = 1, figsize = (15,7))\n",
    "sns.barplot(x='Model', y='value', hue='variable', data=stacked_minority_scores, ax = axes)\n",
    "plt.xticks(rotation=90)\n",
    "plt.ylabel('Accuracy')\n",
    "plt.title('Training vs Testing - Accuracy score');\n",
    "plt.show()"
   ]
  },
  {
   "cell_type": "markdown",
   "metadata": {},
   "source": [
    "As suspected above, despite having a relatively \"balanced\" dataset, the models still perform poorly, even more so comparing to the logistic regression model with the original imbalanced dataset."
   ]
  },
  {
   "cell_type": "markdown",
   "metadata": {},
   "source": [
    "# Feature selection - Feature importance"
   ]
  },
  {
   "cell_type": "code",
   "execution_count": 43,
   "metadata": {},
   "outputs": [
    {
     "name": "stderr",
     "output_type": "stream",
     "text": [
      "C:\\Users\\nctha\\Anaconda3\\lib\\site-packages\\sklearn\\ensemble\\forest.py:245: FutureWarning: The default value of n_estimators will change from 10 in version 0.20 to 100 in 0.22.\n",
      "  \"10 in version 0.20 to 100 in 0.22.\", FutureWarning)\n"
     ]
    },
    {
     "name": "stdout",
     "output_type": "stream",
     "text": [
      "[0.13350603 0.22902807 0.02386792 0.02411881 0.02729642 0.03022291\n",
      " 0.03089802 0.0255571  0.02623602 0.02871654 0.02442009 0.02956325\n",
      " 0.02341045 0.03539554 0.04423057 0.04353938 0.1274286  0.09256426]\n"
     ]
    },
    {
     "data": {
      "image/png": "[encoded data removed]",
      "text/plain": [
       "<Figure size 432x288 with 1 Axes>"
      ]
     },
     "metadata": {
      "needs_background": "light"
     },
     "output_type": "display_data"
    }
   ],
   "source": [
    "from sklearn.ensemble import ExtraTreesClassifier\n",
    "import matplotlib.pyplot as plt\n",
    "\n",
    "X = dummy\n",
    "y = violent_crime[target]\n",
    "X_train, X_test, y_train, y_test = train_test_split(X, y, random_state=1)\n",
    "\n",
    "etc = ExtraTreesClassifier()\n",
    "etc.fit(X_train, y_train)\n",
    "print(etc.feature_importances_)\n",
    "feat_importances = pd.Series(etc.feature_importances_, index=X_train.columns)\n",
    "feat_importances.nlargest(len(X)).plot(kind='barh')\n",
    "plt.show()"
   ]
  },
  {
   "cell_type": "markdown",
   "metadata": {},
   "source": [
    "# Feature selection (top 5) without re-sampling"
   ]
  },
  {
   "cell_type": "code",
   "execution_count": 44,
   "metadata": {},
   "outputs": [
    {
     "name": "stdout",
     "output_type": "stream",
     "text": [
      "Number of training outcome labels: 5531\n"
     ]
    }
   ],
   "source": [
    "filtered = dummy[['Arrest_True', 'Latitude', 'Longitude', 'Domestic_False', 'Domestic_True']]\n",
    "X = filtered\n",
    "y = violent_crime[target]\n",
    "X_train, X_test, y_train, y_test = train_test_split(X, y, random_state=1)\n",
    "\n",
    "feature_score = pd.DataFrame(columns=['Model', 'Train Accuracy', 'Test Accuracy'])\n",
    "print(\"Number of training outcome labels:\",len(y_train))"
   ]
  },
  {
   "cell_type": "code",
   "execution_count": 45,
   "metadata": {},
   "outputs": [],
   "source": [
    "logi.fit(X_train, y_train)\n",
    "feature_score = feature_score.append({'Model': 'FS Log Reg', 'Train Accuracy': accuracy_score(y_train, logi.predict(X_train)), \n",
    "                      'Test Accuracy': accuracy_score(y_test, logi.predict(X_test)) }, ignore_index=True)"
   ]
  },
  {
   "cell_type": "code",
   "execution_count": 46,
   "metadata": {},
   "outputs": [],
   "source": [
    "svm = SVC(gamma='auto', class_weight = 'balanced')\n",
    "svm.fit(X_train, y_train)\n",
    "feature_score = feature_score.append({'Model': 'FS SVC', 'Train Accuracy': svm.score(X_train, y_train), \n",
    "                      'Test Accuracy': svm.score(X_test, y_test) }, ignore_index=True)"
   ]
  },
  {
   "cell_type": "code",
   "execution_count": 47,
   "metadata": {},
   "outputs": [],
   "source": [
    "mlp = MLPClassifier(random_state=0, max_iter=200)\n",
    "mlp.fit(X_train, y_train)\n",
    "feature_score = feature_score.append({'Model': 'FS MLP', 'Train Accuracy': mlp.score(X_train, y_train), \n",
    "                      'Test Accuracy': mlp.score(X_test, y_test) }, ignore_index=True)"
   ]
  },
  {
   "cell_type": "code",
   "execution_count": 48,
   "metadata": {},
   "outputs": [],
   "source": [
    "mnb = MultinomialNB()\n",
    "mnb.fit(X_train, y_train)\n",
    "feature_score = feature_score.append({'Model': 'FS MultiNB', 'Train Accuracy': mnb.score(X_train, y_train), \n",
    "                      'Test Accuracy': mnb.score(X_test, y_test) }, ignore_index=True)"
   ]
  },
  {
   "cell_type": "markdown",
   "metadata": {},
   "source": [
    "# Feature selection (top 5) with under-sampling"
   ]
  },
  {
   "cell_type": "code",
   "execution_count": 49,
   "metadata": {},
   "outputs": [
    {
     "name": "stdout",
     "output_type": "stream",
     "text": [
      "Number of training outcome labels: 2222\n"
     ]
    }
   ],
   "source": [
    "X = filtered\n",
    "y = violent_crime[target]\n",
    "X_train, X_test, y_train, y_test = train_test_split(X, y, random_state=1)\n",
    "X_train, y_train = cnn.fit_resample(X_train, y_train)\n",
    "print(\"Number of training outcome labels:\",len(y_train))\n"
   ]
  },
  {
   "cell_type": "code",
   "execution_count": 50,
   "metadata": {},
   "outputs": [],
   "source": [
    "logi.fit(X_train, y_train)\n",
    "feature_score = feature_score.append({'Model': 'FS-Undersampling Log Reg', 'Train Accuracy': accuracy_score(y_train, logi.predict(X_train)), \n",
    "                      'Test Accuracy': accuracy_score(y_test, logi.predict(X_test)) }, ignore_index=True)"
   ]
  },
  {
   "cell_type": "code",
   "execution_count": 51,
   "metadata": {},
   "outputs": [],
   "source": [
    "svm = SVC(gamma='auto', kernel = 'rbf')\n",
    "svm.fit(X_train, y_train)\n",
    "feature_score = feature_score.append({'Model': 'FS-Undersampling SVC', 'Train Accuracy': svm.score(X_train, y_train), \n",
    "                      'Test Accuracy': svm.score(X_test, y_test) }, ignore_index=True)"
   ]
  },
  {
   "cell_type": "code",
   "execution_count": 52,
   "metadata": {},
   "outputs": [],
   "source": [
    "mlp = MLPClassifier(random_state=0, max_iter=200)\n",
    "mlp.fit(X_train, y_train)\n",
    "feature_score = feature_score.append({'Model': 'FS-Undersampling MLP', 'Train Accuracy': mlp.score(X_train, y_train), \n",
    "                      'Test Accuracy': mlp.score(X_test, y_test) }, ignore_index=True)"
   ]
  },
  {
   "cell_type": "code",
   "execution_count": 53,
   "metadata": {},
   "outputs": [],
   "source": [
    "mnb = MultinomialNB()\n",
    "mnb.fit(X_train, y_train)\n",
    "feature_score = feature_score.append({'Model': 'FS-Undersampling MultiNB', 'Train Accuracy': mnb.score(X_train, y_train), \n",
    "                      'Test Accuracy': mnb.score(X_test, y_test) }, ignore_index=True)"
   ]
  },
  {
   "cell_type": "code",
   "execution_count": 54,
   "metadata": {},
   "outputs": [],
   "source": [
    "stacked_feature_score = pd.melt(feature_score, id_vars=['Model']).sort_values(['variable','value'])"
   ]
  },
  {
   "cell_type": "code",
   "execution_count": 55,
   "metadata": {},
   "outputs": [
    {
     "data": {
      "image/png": "[encoded data removed]",
      "text/plain": [
       "<Figure size 1080x504 with 1 Axes>"
      ]
     },
     "metadata": {
      "needs_background": "light"
     },
     "output_type": "display_data"
    }
   ],
   "source": [
    "fig, axes = plt.subplots(ncols = 1, figsize = (15,7))\n",
    "sns.barplot(x='Model', y='value', hue='variable', data=stacked_feature_score, ax = axes)\n",
    "plt.xticks(rotation=90)\n",
    "plt.ylabel('Accuracy')\n",
    "plt.title('Training vs Testing - Accuracy score');\n",
    "plt.rc('xtick', labelsize=10) \n",
    "plt.show()"
   ]
  },
  {
   "cell_type": "markdown",
   "metadata": {},
   "source": [
    "## Analysis on feature selection\n",
    "Looking at the accuracy score, we can see that despite the performance of the 3 models still being quite poor, there were minor improvements comparing to using prediction with all predictors.\n",
    "\n",
    "Especially for Feature selection without re-sampling, the performance of prediction on train and testing sets are very similar"
   ]
  },
  {
   "cell_type": "markdown",
   "metadata": {},
   "source": [
    "# Non-violent crime"
   ]
  },
  {
   "cell_type": "code",
   "execution_count": 56,
   "metadata": {},
   "outputs": [
    {
     "data": {
      "image/png": "[encoded data removed]",
      "text/plain": [
       "<Figure size 1440x504 with 1 Axes>"
      ]
     },
     "metadata": {
      "needs_background": "light"
     },
     "output_type": "display_data"
    }
   ],
   "source": [
    "df_nonviolent_count = t.crime_proximity(nonviolent_crime, 'Primary Type', 5)\n",
    "t.crime_proximity_bar(df_nonviolent_count, 'Percentage')"
   ]
  },
  {
   "cell_type": "code",
   "execution_count": 57,
   "metadata": {
    "scrolled": true
   },
   "outputs": [],
   "source": [
    "nonviolent_crime = nonviolent_crime[nonviolent_crime['Primary Type'].isin(list(df_nonviolent_count['Primary Type']))]\n",
    "target = 'Primary Type'\n",
    "features = ['Arrest', 'Domestic', 'Community Area', 'Latitude', 'Longitude', \n",
    "            'PERCENT OF HOUSING CROWDED',\n",
    "       'PERCENT HOUSEHOLDS BELOW POVERTY', 'PERCENT AGED 16+ UNEMPLOYED',\n",
    "       'PERCENT AGED 25+ WITHOUT HIGH SCHOOL DIPLOMA',\n",
    "       'PERCENT AGED UNDER 18 OR OVER 64', 'PER CAPITA INCOME ',\n",
    "       'HARDSHIP INDEX','Racial Demographics - Hispanic Proportion',\n",
    "       'Racial Demographics - Black Proportion',\n",
    "       'Racial Demographics - White Proportion',\n",
    "       'Racial Demographics - Asian Proportion',\n",
    "       'Racial Demographics - Other or Multiple Races Proportion']\n",
    "\n",
    "dummy = pd.get_dummies(nonviolent_crime[features])\n",
    "dummy.drop(columns=['Community Area'], inplace = True)"
   ]
  },
  {
   "cell_type": "code",
   "execution_count": 58,
   "metadata": {},
   "outputs": [
    {
     "name": "stdout",
     "output_type": "stream",
     "text": [
      "Number of training outcome labels: 11061\n"
     ]
    }
   ],
   "source": [
    "from sklearn.linear_model import LogisticRegression\n",
    "from sklearn.model_selection import train_test_split\n",
    "from sklearn.metrics import f1_score, accuracy_score\n",
    "\n",
    "\n",
    "X = dummy\n",
    "#X = violent_crime[features]\n",
    "y = nonviolent_crime[target]\n",
    "\n",
    "X_train, X_test, y_train, y_test = train_test_split(X, y, random_state=1)\n",
    "print(\"Number of training outcome labels:\",len(y_train))\n",
    "scores = pd.DataFrame(columns=['Model', 'Train Accuracy', 'Test Accuracy'])"
   ]
  },
  {
   "cell_type": "code",
   "execution_count": 59,
   "metadata": {},
   "outputs": [],
   "source": [
    "logi = LogisticRegression(multi_class = 'multinomial', solver = 'lbfgs', max_iter = 10000)\n",
    "logi.fit(X_train, y_train)\n",
    "\n",
    "scores = scores.append({'Model': 'Weighted Log Reg', 'Train Accuracy': accuracy_score(y_train, logi.predict(X_train)), \n",
    "                      'Test Accuracy': accuracy_score(y_test, logi.predict(X_test)) }, ignore_index=True)"
   ]
  },
  {
   "cell_type": "markdown",
   "metadata": {},
   "source": [
    "# Transform continuous variables into ordinal variables based on which quantiles it is depending on the distribution of the column values"
   ]
  },
  {
   "cell_type": "code",
   "execution_count": 60,
   "metadata": {
    "scrolled": true
   },
   "outputs": [
    {
     "data": {
      "text/html": [
       "<div>\n",
       "<style scoped>\n",
       "    .dataframe tbody tr th:only-of-type {\n",
       "        vertical-align: middle;\n",
       "    }\n",
       "\n",
       "    .dataframe tbody tr th {\n",
       "        vertical-align: top;\n",
       "    }\n",
       "\n",
       "    .dataframe thead th {\n",
       "        text-align: right;\n",
       "    }\n",
       "</style>\n",
       "<table border=\"1\" class=\"dataframe\">\n",
       "  <thead>\n",
       "    <tr style=\"text-align: right;\">\n",
       "      <th></th>\n",
       "      <th>Latitude</th>\n",
       "      <th>Longitude</th>\n",
       "      <th>PERCENT OF HOUSING CROWDED</th>\n",
       "      <th>PERCENT HOUSEHOLDS BELOW POVERTY</th>\n",
       "      <th>PERCENT AGED 16+ UNEMPLOYED</th>\n",
       "      <th>PERCENT AGED 25+ WITHOUT HIGH SCHOOL DIPLOMA</th>\n",
       "      <th>PERCENT AGED UNDER 18 OR OVER 64</th>\n",
       "      <th>PER CAPITA INCOME</th>\n",
       "      <th>HARDSHIP INDEX</th>\n",
       "      <th>Racial Demographics - Hispanic Proportion</th>\n",
       "      <th>Racial Demographics - Black Proportion</th>\n",
       "      <th>Racial Demographics - White Proportion</th>\n",
       "      <th>Racial Demographics - Asian Proportion</th>\n",
       "      <th>Racial Demographics - Other or Multiple Races Proportion</th>\n",
       "      <th>Arrest_False</th>\n",
       "      <th>Arrest_True</th>\n",
       "      <th>Domestic_False</th>\n",
       "      <th>Domestic_True</th>\n",
       "    </tr>\n",
       "  </thead>\n",
       "  <tbody>\n",
       "    <tr>\n",
       "      <td>0</td>\n",
       "      <td>1</td>\n",
       "      <td>5</td>\n",
       "      <td>5</td>\n",
       "      <td>5</td>\n",
       "      <td>9</td>\n",
       "      <td>5</td>\n",
       "      <td>8</td>\n",
       "      <td>2</td>\n",
       "      <td>7</td>\n",
       "      <td>0</td>\n",
       "      <td>9</td>\n",
       "      <td>0</td>\n",
       "      <td>0</td>\n",
       "      <td>0</td>\n",
       "      <td>1</td>\n",
       "      <td>0</td>\n",
       "      <td>0</td>\n",
       "      <td>9</td>\n",
       "    </tr>\n",
       "    <tr>\n",
       "      <td>2</td>\n",
       "      <td>1</td>\n",
       "      <td>5</td>\n",
       "      <td>5</td>\n",
       "      <td>5</td>\n",
       "      <td>9</td>\n",
       "      <td>5</td>\n",
       "      <td>8</td>\n",
       "      <td>2</td>\n",
       "      <td>7</td>\n",
       "      <td>0</td>\n",
       "      <td>9</td>\n",
       "      <td>0</td>\n",
       "      <td>0</td>\n",
       "      <td>0</td>\n",
       "      <td>1</td>\n",
       "      <td>0</td>\n",
       "      <td>0</td>\n",
       "      <td>0</td>\n",
       "    </tr>\n",
       "  </tbody>\n",
       "</table>\n",
       "</div>"
      ],
      "text/plain": [
       "   Latitude  Longitude  PERCENT OF HOUSING CROWDED  \\\n",
       "0         1          5                           5   \n",
       "2         1          5                           5   \n",
       "\n",
       "   PERCENT HOUSEHOLDS BELOW POVERTY  PERCENT AGED 16+ UNEMPLOYED  \\\n",
       "0                                 5                            9   \n",
       "2                                 5                            9   \n",
       "\n",
       "   PERCENT AGED 25+ WITHOUT HIGH SCHOOL DIPLOMA  \\\n",
       "0                                             5   \n",
       "2                                             5   \n",
       "\n",
       "   PERCENT AGED UNDER 18 OR OVER 64  PER CAPITA INCOME   HARDSHIP INDEX  \\\n",
       "0                                 8                   2               7   \n",
       "2                                 8                   2               7   \n",
       "\n",
       "   Racial Demographics - Hispanic Proportion  \\\n",
       "0                                          0   \n",
       "2                                          0   \n",
       "\n",
       "   Racial Demographics - Black Proportion  \\\n",
       "0                                       9   \n",
       "2                                       9   \n",
       "\n",
       "   Racial Demographics - White Proportion  \\\n",
       "0                                       0   \n",
       "2                                       0   \n",
       "\n",
       "   Racial Demographics - Asian Proportion  \\\n",
       "0                                       0   \n",
       "2                                       0   \n",
       "\n",
       "   Racial Demographics - Other or Multiple Races Proportion  Arrest_False  \\\n",
       "0                                                  0                    1   \n",
       "2                                                  0                    1   \n",
       "\n",
       "   Arrest_True  Domestic_False  Domestic_True  \n",
       "0            0               0              9  \n",
       "2            0               0              0  "
      ]
     },
     "execution_count": 60,
     "metadata": {},
     "output_type": "execute_result"
    }
   ],
   "source": [
    "for i, items in dummy.iteritems():\n",
    "    dummy[i] = pd.qcut(dummy[i].rank(method='first'), 10, labels=False)\n",
    "dummy.head(2)"
   ]
  },
  {
   "cell_type": "markdown",
   "metadata": {},
   "source": [
    "# Applying Nearest Neighbour SMOTE to re-balance dataset"
   ]
  },
  {
   "cell_type": "code",
   "execution_count": 61,
   "metadata": {},
   "outputs": [
    {
     "name": "stdout",
     "output_type": "stream",
     "text": [
      "Number of training outcome labels: 29274\n"
     ]
    }
   ],
   "source": [
    "from imblearn.over_sampling import SMOTE\n",
    "\n",
    "sm = SMOTE(random_state=1, sampling_strategy = 'not majority')\n",
    "#sm = SMOTE(random_state=1, sampling_strategy = 'minority')\n",
    "X = dummy\n",
    "y = nonviolent_crime[target]\n",
    "\n",
    "X_train, X_test, y_train, y_test = train_test_split(X, y, random_state=1)\n",
    "X_train, y_train = sm.fit_sample(X_train, y_train)\n",
    "print(\"Number of training outcome labels:\",len(y_train))"
   ]
  },
  {
   "cell_type": "code",
   "execution_count": 62,
   "metadata": {},
   "outputs": [],
   "source": [
    "logi.fit(X_train, y_train)\n",
    "scores = scores.append({'Model': 'SMOTE Log Reg', 'Train Accuracy': accuracy_score(y_train, logi.predict(X_train)), \n",
    "                      'Test Accuracy': accuracy_score(y_test, logi.predict(X_test)) }, ignore_index=True)"
   ]
  },
  {
   "cell_type": "code",
   "execution_count": 63,
   "metadata": {},
   "outputs": [],
   "source": [
    "svm = SVC(gamma='auto', kernel = 'rbf')\n",
    "svm.fit(X_train, y_train)\n",
    "scores = scores.append({'Model': 'SMOTE SVC', 'Train Accuracy': svm.score(X_train, y_train), \n",
    "                      'Test Accuracy': svm.score(X_test, y_test) }, ignore_index=True)"
   ]
  },
  {
   "cell_type": "code",
   "execution_count": 64,
   "metadata": {},
   "outputs": [],
   "source": [
    "mlp = MLPClassifier(random_state=0, max_iter=1000)\n",
    "mlp.fit(X_train, y_train)\n",
    "scores = scores.append({'Model': 'SMOTE MLP', 'Train Accuracy': mlp.score(X_train, y_train), \n",
    "                      'Test Accuracy': mlp.score(X_test, y_test) }, ignore_index=True)"
   ]
  },
  {
   "cell_type": "code",
   "execution_count": 65,
   "metadata": {},
   "outputs": [],
   "source": [
    "mnb = MultinomialNB()\n",
    "mnb.fit(X_train, y_train)\n",
    "scores = scores.append({'Model': 'SMOTE MultiNB', 'Train Accuracy': mnb.score(X_train, y_train), \n",
    "                      'Test Accuracy': mnb.score(X_test, y_test) }, ignore_index=True)"
   ]
  },
  {
   "cell_type": "markdown",
   "metadata": {},
   "source": [
    "# Applying Borderline SMOTE re-balance dataset"
   ]
  },
  {
   "cell_type": "code",
   "execution_count": 66,
   "metadata": {},
   "outputs": [
    {
     "name": "stdout",
     "output_type": "stream",
     "text": [
      "Number of training outcome labels: 29274\n"
     ]
    }
   ],
   "source": [
    "from imblearn.over_sampling import BorderlineSMOTE\n",
    "sm = BorderlineSMOTE(random_state=1, sampling_strategy = 'not majority')\n",
    "#sm = SMOTE(random_state=1, sampling_strategy = 'minority')\n",
    "X = dummy\n",
    "y = nonviolent_crime[target]\n",
    "\n",
    "X_train, X_test, y_train, y_test = train_test_split(X, y, random_state=1)\n",
    "X_train, y_train = sm.fit_sample(X_train, y_train)\n",
    "print(\"Number of training outcome labels:\",len(y_train))"
   ]
  },
  {
   "cell_type": "code",
   "execution_count": 67,
   "metadata": {},
   "outputs": [],
   "source": [
    "logi.fit(X_train, y_train)\n",
    "scores = scores.append({'Model': 'B-SMOTE Log Reg', 'Train Accuracy': accuracy_score(y_train, logi.predict(X_train)), \n",
    "                      'Test Accuracy': accuracy_score(y_test, logi.predict(X_test)) }, ignore_index=True)"
   ]
  },
  {
   "cell_type": "code",
   "execution_count": 68,
   "metadata": {},
   "outputs": [],
   "source": [
    "svm = SVC(gamma='auto')\n",
    "svm.fit(X_train, y_train)\n",
    "scores = scores.append({'Model': 'B-SMOTE SVC', 'Train Accuracy': svm.score(X_train, y_train), \n",
    "                      'Test Accuracy': svm.score(X_test, y_test) }, ignore_index=True)"
   ]
  },
  {
   "cell_type": "code",
   "execution_count": 69,
   "metadata": {},
   "outputs": [],
   "source": [
    "mlp = MLPClassifier(random_state=0, max_iter=1000)\n",
    "mlp.fit(X_train, y_train)\n",
    "scores = scores.append({'Model': 'B-SMOTE MLP', 'Train Accuracy': mlp.score(X_train, y_train), \n",
    "                      'Test Accuracy': mlp.score(X_test, y_test) }, ignore_index=True)"
   ]
  },
  {
   "cell_type": "code",
   "execution_count": 70,
   "metadata": {},
   "outputs": [],
   "source": [
    "mnb = MultinomialNB()\n",
    "mnb.fit(X_train, y_train)\n",
    "scores = scores.append({'Model': 'B-SMOTE MultiNB', 'Train Accuracy': mnb.score(X_train, y_train), \n",
    "                      'Test Accuracy': mnb.score(X_test, y_test) }, ignore_index=True)"
   ]
  },
  {
   "cell_type": "markdown",
   "metadata": {},
   "source": [
    "# Undersampling using Condensed Nearest Neighbors"
   ]
  },
  {
   "cell_type": "code",
   "execution_count": 71,
   "metadata": {
    "scrolled": true
   },
   "outputs": [
    {
     "name": "stdout",
     "output_type": "stream",
     "text": [
      "Number of training outcome labels: 5050\n"
     ]
    }
   ],
   "source": [
    "from imblearn.under_sampling import CondensedNearestNeighbour\n",
    "\n",
    "cnn = CondensedNearestNeighbour(random_state=1)\n",
    "\n",
    "X = dummy\n",
    "y = nonviolent_crime[target]\n",
    "X_train, X_test, y_train, y_test = train_test_split(X, y, random_state=1)\n",
    "X_train, y_train = cnn.fit_resample(X_train, y_train)\n",
    "print(\"Number of training outcome labels:\",len(y_train))\n"
   ]
  },
  {
   "cell_type": "code",
   "execution_count": 72,
   "metadata": {},
   "outputs": [],
   "source": [
    "logi.fit(X_train, y_train)\n",
    "scores = scores.append({'Model': 'CondensedNN Log Reg', 'Train Accuracy': accuracy_score(y_train, logi.predict(X_train)), \n",
    "                      'Test Accuracy': accuracy_score(y_test, logi.predict(X_test)) }, ignore_index=True)"
   ]
  },
  {
   "cell_type": "code",
   "execution_count": 73,
   "metadata": {},
   "outputs": [],
   "source": [
    "svm = SVC(gamma='auto')\n",
    "svm.fit(X_train, y_train)\n",
    "scores = scores.append({'Model': 'CondensedNN SVC', 'Train Accuracy': svm.score(X_train, y_train), \n",
    "                      'Test Accuracy': svm.score(X_test, y_test) }, ignore_index=True)"
   ]
  },
  {
   "cell_type": "code",
   "execution_count": 74,
   "metadata": {},
   "outputs": [],
   "source": [
    "mlp = MLPClassifier(random_state=0, max_iter=200)\n",
    "mlp.fit(X_train, y_train)\n",
    "scores = scores.append({'Model': 'CondensedNN MLP', 'Train Accuracy': mlp.score(X_train, y_train), \n",
    "                      'Test Accuracy': mlp.score(X_test, y_test) }, ignore_index=True)"
   ]
  },
  {
   "cell_type": "code",
   "execution_count": 75,
   "metadata": {},
   "outputs": [],
   "source": [
    "mnb = MultinomialNB()\n",
    "mnb.fit(X_train, y_train)\n",
    "scores = scores.append({'Model': 'CondensedNN MultiNB', 'Train Accuracy': mnb.score(X_train, y_train), \n",
    "                      'Test Accuracy': mnb.score(X_test, y_test) }, ignore_index=True)"
   ]
  },
  {
   "cell_type": "markdown",
   "metadata": {},
   "source": [
    "# Combine oversampling by creating Synthetic datapoints with undersampling by removing Tomek Links"
   ]
  },
  {
   "cell_type": "code",
   "execution_count": 76,
   "metadata": {},
   "outputs": [
    {
     "name": "stdout",
     "output_type": "stream",
     "text": [
      "Number of training outcome labels: 29178\n"
     ]
    }
   ],
   "source": [
    "from imblearn.combine import SMOTETomek\n",
    "sm = SMOTETomek(random_state=1)\n",
    "X = dummy\n",
    "y = nonviolent_crime[target]\n",
    "X_train, X_test, y_train, y_test = train_test_split(X, y, random_state=1)\n",
    "X_train, y_train = sm.fit_resample(X_train, y_train)\n",
    "print(\"Number of training outcome labels:\",len(y_train))\n",
    "\n"
   ]
  },
  {
   "cell_type": "code",
   "execution_count": 77,
   "metadata": {},
   "outputs": [],
   "source": [
    "logi.fit(X_train, y_train)\n",
    "scores = scores.append({'Model': 'SMOTE-Tomek Log Reg', 'Train Accuracy': accuracy_score(y_train, logi.predict(X_train)), \n",
    "                      'Test Accuracy': accuracy_score(y_test, logi.predict(X_test)) }, ignore_index=True)"
   ]
  },
  {
   "cell_type": "code",
   "execution_count": 78,
   "metadata": {},
   "outputs": [],
   "source": [
    "svm = SVC(gamma='auto')\n",
    "svm.fit(X_train, y_train)\n",
    "scores = scores.append({'Model': 'SMOTE-Tomek SVC', 'Train Accuracy': svm.score(X_train, y_train), \n",
    "                      'Test Accuracy': svm.score(X_test, y_test) }, ignore_index=True)"
   ]
  },
  {
   "cell_type": "code",
   "execution_count": 79,
   "metadata": {},
   "outputs": [],
   "source": [
    "mlp = MLPClassifier(random_state=0, max_iter=200)\n",
    "mlp.fit(X_train, y_train)\n",
    "scores = scores.append({'Model': 'SMOTE-Tomek MLP', 'Train Accuracy': mlp.score(X_train, y_train), \n",
    "                      'Test Accuracy': mlp.score(X_test, y_test) }, ignore_index=True)"
   ]
  },
  {
   "cell_type": "code",
   "execution_count": 80,
   "metadata": {},
   "outputs": [],
   "source": [
    "mnb = MultinomialNB()\n",
    "mnb.fit(X_train, y_train)\n",
    "scores = scores.append({'Model': 'SMOTE-Tomek MultiNB', 'Train Accuracy': mnb.score(X_train, y_train), \n",
    "                      'Test Accuracy': mnb.score(X_test, y_test) }, ignore_index=True)"
   ]
  },
  {
   "cell_type": "code",
   "execution_count": 81,
   "metadata": {},
   "outputs": [],
   "source": [
    "stacked_scores = pd.melt(scores, id_vars=['Model']).sort_values(['variable','value'])"
   ]
  },
  {
   "cell_type": "code",
   "execution_count": 82,
   "metadata": {},
   "outputs": [
    {
     "data": {
      "image/png": "[encoded data removed]",
      "text/plain": [
       "<Figure size 1080x504 with 1 Axes>"
      ]
     },
     "metadata": {
      "needs_background": "light"
     },
     "output_type": "display_data"
    }
   ],
   "source": [
    "fig, axes = plt.subplots(ncols = 1, figsize = (15,7))\n",
    "sns.barplot(x='Model', y='value', hue='variable', data=stacked_scores, ax = axes)\n",
    "plt.xticks(rotation=90)\n",
    "plt.ylabel('Accuracy')\n",
    "plt.title('Training vs Testing - Accuracy score');\n",
    "plt.rc('xtick', labelsize=10) \n",
    "plt.show()"
   ]
  },
  {
   "cell_type": "markdown",
   "metadata": {},
   "source": [
    "## General comments on over-sampling techniques\n",
    "Looking at the 2 oversampling methods, it is clear that all 3 classification models, apart from Multinomial NB, have a tendency to under-fit. This could be due to the models just \"memorise\" the labels rather than actually learning to predict the labels."
   ]
  },
  {
   "cell_type": "markdown",
   "metadata": {},
   "source": [
    "## General comments on under-sampling techniques\n",
    "Looking at the undersampling, it is clear that all 4 classification models have a tendency to under-fit. This means that the models here perform rather poor on training data, and that its higher testing accuracy might be due to chance."
   ]
  },
  {
   "cell_type": "markdown",
   "metadata": {},
   "source": [
    "# Analysis of label prediction after using different re-sampling techniques on training data\n",
    "\n",
    "Similar to prediction for violent crime, the model that showed the highest consistency (accuracy similarity) is weighted multinomial logistic regresion. However, all tested models performed worse in prediction for non-violent crime in comparison with prediction for violent crime, due to non-violent crime have more labels (prediction outcomes).\n",
    "\n",
    "In general, resampling algorithms depends very much on the quality of the dataset you have. If you have severe data imbalance, resampling algorithms may be ineffective in generating a high-quality dataset, despite their capability to balance out the dataset. \n",
    "\n",
    "This is largely due to the similarities between the two classes minority classes being very high (and hence the oversample resulting in low-quality repetitive data), despite them being acceptably close in terms of total occurrences' proportion. \n",
    "\n",
    "To determine that this is the case, we will try to train a classification model on the minority classes (which are not as strongly skewed towards any class as the dataset above) and check the results if the classification accuracy remains low despite the relatively balanced dataset."
   ]
  },
  {
   "cell_type": "markdown",
   "metadata": {},
   "source": [
    "# Minority Labels Analysis"
   ]
  },
  {
   "cell_type": "code",
   "execution_count": 83,
   "metadata": {},
   "outputs": [],
   "source": [
    "minority = nonviolent_crime[~nonviolent_crime['Primary Type'].isin(\n",
    "    ['THEFT'])]\n",
    "label = minority['Primary Type']"
   ]
  },
  {
   "cell_type": "code",
   "execution_count": 84,
   "metadata": {},
   "outputs": [],
   "source": [
    "minority  = pd.get_dummies(minority[features]).copy()\n",
    "minority.drop(columns=['Community Area'], inplace = True)"
   ]
  },
  {
   "cell_type": "code",
   "execution_count": 85,
   "metadata": {},
   "outputs": [
    {
     "name": "stdout",
     "output_type": "stream",
     "text": [
      "Number of training outcome labels: 11852\n"
     ]
    }
   ],
   "source": [
    "for i, items in minority.iteritems():\n",
    "    minority[i] = pd.qcut(minority[i].rank(method='first'), 10, labels=False)\n",
    "X = minority\n",
    "y = label\n",
    "\n",
    "X_train, X_test, y_train, y_test = train_test_split(X, y, random_state=1)\n",
    "X_train, y_train = sm.fit_sample(X_train, y_train)\n",
    "print(\"Number of training outcome labels:\",len(y_train))\n",
    "minority_scores = pd.DataFrame(columns=['Model', 'Train Accuracy', 'Test Accuracy'])"
   ]
  },
  {
   "cell_type": "code",
   "execution_count": 86,
   "metadata": {},
   "outputs": [],
   "source": [
    "logi.fit(X_train, y_train)\n",
    "minority_scores = minority_scores.append({'Model': 'Minority Log Reg', 'Train Accuracy': accuracy_score(y_train, logi.predict(X_train)), \n",
    "                      'Test Accuracy': accuracy_score(y_test, logi.predict(X_test)) }, ignore_index=True)"
   ]
  },
  {
   "cell_type": "code",
   "execution_count": 87,
   "metadata": {},
   "outputs": [],
   "source": [
    "svm = SVC(gamma='auto', kernel = 'rbf')\n",
    "svm.fit(X_train, y_train)\n",
    "minority_scores = minority_scores.append({'Model': 'Minority SVC', 'Train Accuracy': svm.score(X_train, y_train), \n",
    "                      'Test Accuracy': svm.score(X_test, y_test) }, ignore_index=True)"
   ]
  },
  {
   "cell_type": "code",
   "execution_count": 88,
   "metadata": {},
   "outputs": [],
   "source": [
    "mlp = MLPClassifier(random_state=0, max_iter=1000)\n",
    "mlp.fit(X_train, y_train)\n",
    "minority_scores = minority_scores.append({'Model': 'Minority MLP', 'Train Accuracy': mlp.score(X_train, y_train), \n",
    "                      'Test Accuracy': mlp.score(X_test, y_test) }, ignore_index=True)"
   ]
  },
  {
   "cell_type": "code",
   "execution_count": 89,
   "metadata": {},
   "outputs": [],
   "source": [
    "mnb = MultinomialNB()\n",
    "mnb.fit(X_train, y_train)\n",
    "minority_scores = minority_scores.append({'Model': 'Minority MultiNB', 'Train Accuracy': mnb.score(X_train, y_train), \n",
    "                      'Test Accuracy': mnb.score(X_test, y_test) }, ignore_index=True)"
   ]
  },
  {
   "cell_type": "code",
   "execution_count": 90,
   "metadata": {},
   "outputs": [],
   "source": [
    "stacked_minority_scores = pd.melt(minority_scores, id_vars=['Model']).sort_values(['variable','value'])"
   ]
  },
  {
   "cell_type": "code",
   "execution_count": 91,
   "metadata": {},
   "outputs": [
    {
     "data": {
      "image/png": "[encoded data removed]",
      "text/plain": [
       "<Figure size 1080x504 with 1 Axes>"
      ]
     },
     "metadata": {
      "needs_background": "light"
     },
     "output_type": "display_data"
    }
   ],
   "source": [
    "fig, axes = plt.subplots(ncols = 1, figsize = (15,7))\n",
    "sns.barplot(x='Model', y='value', hue='variable', data=stacked_minority_scores, ax = axes)\n",
    "plt.xticks(rotation=90)\n",
    "plt.ylabel('Accuracy')\n",
    "plt.title('Training vs Testing - Accuracy score');\n",
    "plt.show()"
   ]
  },
  {
   "cell_type": "markdown",
   "metadata": {},
   "source": [
    "As suspected above, despite having a relatively \"balanced\" dataset, the models still perform poorly, even more so comparing to the logistic regression model with the original imbalanced dataset."
   ]
  },
  {
   "cell_type": "markdown",
   "metadata": {},
   "source": [
    "# Feature selection - Feature importance"
   ]
  },
  {
   "cell_type": "code",
   "execution_count": 92,
   "metadata": {},
   "outputs": [
    {
     "name": "stderr",
     "output_type": "stream",
     "text": [
      "C:\\Users\\nctha\\Anaconda3\\lib\\site-packages\\sklearn\\ensemble\\forest.py:245: FutureWarning: The default value of n_estimators will change from 10 in version 0.20 to 100 in 0.22.\n",
      "  \"10 in version 0.20 to 100 in 0.22.\", FutureWarning)\n"
     ]
    },
    {
     "name": "stdout",
     "output_type": "stream",
     "text": [
      "[0.11603876 0.1857961  0.0264372  0.03076655 0.02570209 0.02894908\n",
      " 0.01877738 0.03377011 0.03524576 0.02047657 0.02540383 0.03716021\n",
      " 0.02193425 0.01972226 0.13463389 0.11259283 0.0572446  0.06934853]\n"
     ]
    },
    {
     "data": {
      "image/png": "[encoded data removed]",
      "text/plain": [
       "<Figure size 432x288 with 1 Axes>"
      ]
     },
     "metadata": {
      "needs_background": "light"
     },
     "output_type": "display_data"
    }
   ],
   "source": [
    "from sklearn.ensemble import ExtraTreesClassifier\n",
    "import matplotlib.pyplot as plt\n",
    "\n",
    "X = dummy\n",
    "y = nonviolent_crime[target]\n",
    "X_train, X_test, y_train, y_test = train_test_split(X, y, random_state=1)\n",
    "\n",
    "etc = ExtraTreesClassifier()\n",
    "etc.fit(X_train, y_train)\n",
    "print(etc.feature_importances_)\n",
    "feat_importances = pd.Series(etc.feature_importances_, index=X_train.columns)\n",
    "feat_importances.nlargest(len(X)).plot(kind='barh')\n",
    "plt.show()"
   ]
  },
  {
   "cell_type": "markdown",
   "metadata": {},
   "source": [
    "# Feature selection (top 5) without re-sampling"
   ]
  },
  {
   "cell_type": "code",
   "execution_count": 93,
   "metadata": {},
   "outputs": [
    {
     "name": "stdout",
     "output_type": "stream",
     "text": [
      "Number of training outcome labels: 11061\n"
     ]
    }
   ],
   "source": [
    "filtered = dummy[['Arrest_True', 'Arrest_False', 'Latitude', 'Longitude', 'Domestic_True']]\n",
    "X = filtered\n",
    "y = nonviolent_crime[target]\n",
    "X_train, X_test, y_train, y_test = train_test_split(X, y, random_state=1)\n",
    "\n",
    "feature_score = pd.DataFrame(columns=['Model', 'Train Accuracy', 'Test Accuracy'])\n",
    "print(\"Number of training outcome labels:\",len(y_train))"
   ]
  },
  {
   "cell_type": "code",
   "execution_count": 94,
   "metadata": {},
   "outputs": [],
   "source": [
    "logi.fit(X_train, y_train)\n",
    "feature_score = feature_score.append({'Model': 'FS Log Reg', 'Train Accuracy': accuracy_score(y_train, logi.predict(X_train)), \n",
    "                      'Test Accuracy': accuracy_score(y_test, logi.predict(X_test)) }, ignore_index=True)"
   ]
  },
  {
   "cell_type": "code",
   "execution_count": 95,
   "metadata": {},
   "outputs": [],
   "source": [
    "svm = SVC(gamma='auto', class_weight = 'balanced')\n",
    "svm.fit(X_train, y_train)\n",
    "feature_score = feature_score.append({'Model': 'FS SVC', 'Train Accuracy': svm.score(X_train, y_train), \n",
    "                      'Test Accuracy': svm.score(X_test, y_test) }, ignore_index=True)"
   ]
  },
  {
   "cell_type": "code",
   "execution_count": 96,
   "metadata": {},
   "outputs": [],
   "source": [
    "mlp = MLPClassifier(random_state=0, max_iter=200)\n",
    "mlp.fit(X_train, y_train)\n",
    "feature_score = feature_score.append({'Model': 'FS MLP', 'Train Accuracy': mlp.score(X_train, y_train), \n",
    "                      'Test Accuracy': mlp.score(X_test, y_test) }, ignore_index=True)"
   ]
  },
  {
   "cell_type": "code",
   "execution_count": 97,
   "metadata": {},
   "outputs": [],
   "source": [
    "mnb = MultinomialNB()\n",
    "mnb.fit(X_train, y_train)\n",
    "feature_score = feature_score.append({'Model': 'FS MultiNB', 'Train Accuracy': mnb.score(X_train, y_train), \n",
    "                      'Test Accuracy': mnb.score(X_test, y_test) }, ignore_index=True)"
   ]
  },
  {
   "cell_type": "markdown",
   "metadata": {},
   "source": [
    "# Feature selection with under-sampling"
   ]
  },
  {
   "cell_type": "code",
   "execution_count": 98,
   "metadata": {},
   "outputs": [
    {
     "name": "stdout",
     "output_type": "stream",
     "text": [
      "Number of training outcome labels: 5112\n"
     ]
    }
   ],
   "source": [
    "X = filtered\n",
    "y = nonviolent_crime[target]\n",
    "X_train, X_test, y_train, y_test = train_test_split(X, y, random_state=1)\n",
    "X_train, y_train = cnn.fit_resample(X_train, y_train)\n",
    "print(\"Number of training outcome labels:\",len(y_train))\n"
   ]
  },
  {
   "cell_type": "code",
   "execution_count": 99,
   "metadata": {},
   "outputs": [],
   "source": [
    "logi.fit(X_train, y_train)\n",
    "feature_score = feature_score.append({'Model': 'FS-Undersampling Log Reg', 'Train Accuracy': accuracy_score(y_train, logi.predict(X_train)), \n",
    "                      'Test Accuracy': accuracy_score(y_test, logi.predict(X_test)) }, ignore_index=True)"
   ]
  },
  {
   "cell_type": "code",
   "execution_count": 100,
   "metadata": {},
   "outputs": [],
   "source": [
    "svm = SVC(gamma='auto', kernel = 'rbf')\n",
    "svm.fit(X_train, y_train)\n",
    "feature_score = feature_score.append({'Model': 'FS-Undersampling SVC', 'Train Accuracy': svm.score(X_train, y_train), \n",
    "                      'Test Accuracy': svm.score(X_test, y_test) }, ignore_index=True)"
   ]
  },
  {
   "cell_type": "code",
   "execution_count": 101,
   "metadata": {},
   "outputs": [],
   "source": [
    "mlp = MLPClassifier(random_state=0, max_iter=200)\n",
    "mlp.fit(X_train, y_train)\n",
    "feature_score = feature_score.append({'Model': 'FS-Undersampling MLP', 'Train Accuracy': mlp.score(X_train, y_train), \n",
    "                      'Test Accuracy': mlp.score(X_test, y_test) }, ignore_index=True)"
   ]
  },
  {
   "cell_type": "code",
   "execution_count": 102,
   "metadata": {},
   "outputs": [],
   "source": [
    "mnb = MultinomialNB()\n",
    "mnb.fit(X_train, y_train)\n",
    "feature_score = feature_score.append({'Model': 'FS-Undersampling MultiNB', 'Train Accuracy': mnb.score(X_train, y_train), \n",
    "                      'Test Accuracy': mnb.score(X_test, y_test) }, ignore_index=True)"
   ]
  },
  {
   "cell_type": "code",
   "execution_count": 103,
   "metadata": {},
   "outputs": [],
   "source": [
    "stacked_feature_score = pd.melt(feature_score, id_vars=['Model']).sort_values(['variable','value'])"
   ]
  },
  {
   "cell_type": "code",
   "execution_count": 104,
   "metadata": {},
   "outputs": [
    {
     "data": {
      "image/png": "[encoded data removed]",
      "text/plain": [
       "<Figure size 1080x504 with 1 Axes>"
      ]
     },
     "metadata": {
      "needs_background": "light"
     },
     "output_type": "display_data"
    }
   ],
   "source": [
    "fig, axes = plt.subplots(ncols = 1, figsize = (15,7))\n",
    "sns.barplot(x='Model', y='value', hue='variable', data=stacked_feature_score, ax = axes)\n",
    "plt.xticks(rotation=90)\n",
    "plt.ylabel('Accuracy')\n",
    "plt.title('Training vs Testing - Accuracy score');\n",
    "plt.rc('xtick', labelsize=10) \n",
    "plt.show()"
   ]
  },
  {
   "cell_type": "markdown",
   "metadata": {},
   "source": [
    "## Analysis on feature selection\n",
    "Looking at the accuracy score, we can see that, apart from Support Vector Machine,  the 3 models are performing consistently despite their performance being quite poor. There are no signs of underfitting or overfitting, however, the dataset is still very much imbalanced.\n",
    "\n",
    "On the other hand, re-sampling the dataset again results in poorer performance, indicating the \"low-quality\" of the training and test data."
   ]
  },
  {
   "cell_type": "markdown",
   "metadata": {},
   "source": [
    "# Some distribution plot"
   ]
  },
  {
   "cell_type": "markdown",
   "metadata": {},
   "source": [
    "# Percentage of Arrest for each crime sub-group"
   ]
  },
  {
   "cell_type": "code",
   "execution_count": 105,
   "metadata": {},
   "outputs": [
    {
     "data": {
      "image/png": "[encoded data removed]",
      "text/plain": [
       "<Figure size 1080x504 with 1 Axes>"
      ]
     },
     "metadata": {},
     "output_type": "display_data"
    }
   ],
   "source": [
    "df_nonviolent_arrest = t.crime_proximity(nonviolent_crime, 'Arrest', 0)\n",
    "t.pie(df_nonviolent_arrest, 'Percentage')"
   ]
  },
  {
   "cell_type": "code",
   "execution_count": 106,
   "metadata": {},
   "outputs": [
    {
     "data": {
      "image/png": "[encoded data removed]",
      "text/plain": [
       "<Figure size 1080x504 with 1 Axes>"
      ]
     },
     "metadata": {},
     "output_type": "display_data"
    }
   ],
   "source": [
    "df_violent_arrest = t.crime_proximity(violent_crime, 'Arrest', 0)\n",
    "t.pie(df_nonviolent_arrest, 'Percentage')"
   ]
  },
  {
   "cell_type": "markdown",
   "metadata": {},
   "source": [
    "### INFERENCES:\n",
    "A very small percentage of arrest in the 2 categories can be noticed above, and are similar enough. This indicates that there is not a certain emphasis of the police force on solving either sub-groups of crime. \n",
    "\n",
    "The generally low arrest rate could be due to lack of funding for law enforcement, which renders the police force unable to resolve so many crimes.\n",
    "\n"
   ]
  },
  {
   "cell_type": "code",
   "execution_count": 107,
   "metadata": {},
   "outputs": [
    {
     "data": {
      "image/png": "[encoded data removed]",
      "text/plain": [
       "<Figure size 1440x504 with 1 Axes>"
      ]
     },
     "metadata": {
      "needs_background": "light"
     },
     "output_type": "display_data"
    }
   ],
   "source": [
    "df_comm_area_count = t.crime_proximity(nonviolent_crime, 'Community Area', 1.5)\n",
    "t.community_proximity_bar(df_comm_area_count, 'Count')"
   ]
  }
 ],
 "metadata": {
  "kernelspec": {
   "display_name": "Python 3",
   "language": "python",
   "name": "python3"
  },
  "language_info": {
   "codemirror_mode": {
    "name": "ipython",
    "version": 3
   },
   "file_extension": ".py",
   "mimetype": "text/x-python",
   "name": "python",
   "nbconvert_exporter": "python",
   "pygments_lexer": "ipython3",
   "version": "3.7.4"
  }
 },
 "nbformat": 4,
 "nbformat_minor": 2
}
